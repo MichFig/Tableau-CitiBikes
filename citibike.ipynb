{
 "metadata": {
  "language_info": {
   "codemirror_mode": {
    "name": "ipython",
    "version": 3
   },
   "file_extension": ".py",
   "mimetype": "text/x-python",
   "name": "python",
   "nbconvert_exporter": "python",
   "pygments_lexer": "ipython3",
   "version": "3.8.5-final"
  },
  "orig_nbformat": 2,
  "kernelspec": {
   "name": "python385jvsc74a57bd09a88403fbcc32ff4d43b85c197e75bc52f19ad6664c2aafdbe675610f8ec1d62",
   "display_name": "Python 3.8.5 64-bit (conda)"
  }
 },
 "nbformat": 4,
 "nbformat_minor": 2,
 "cells": [
  {
   "cell_type": "code",
   "execution_count": null,
   "metadata": {},
   "outputs": [],
   "source": [
    "# Dependencies\n",
    "import pandas as pd\n",
    "import numpy as np\n",
    "from sqlalchemy import create_engine\n",
    "import psycopg2"
   ]
  },
  {
   "cell_type": "code",
   "execution_count": null,
   "metadata": {},
   "outputs": [],
   "source": [
    "# Read in 2019 NYC data\n",
    "nyc_may1 = \"NYC/may_2019.csv\"\n",
    "nyc_may1_df = pd.read_csv(nyc_may1)\n",
    "nyc_may1_df"
   ]
  },
  {
   "cell_type": "code",
   "execution_count": null,
   "metadata": {},
   "outputs": [],
   "source": [
    "# Check May df info\n",
    "nyc_may1_df.info()"
   ]
  },
  {
   "cell_type": "code",
   "execution_count": null,
   "metadata": {},
   "outputs": [],
   "source": [
    "nyc_may2 = \"NYC/may_2020.csv\"\n",
    "nyc_may2_df = pd.read_csv(nyc_may2)\n",
    "nyc_may2_df"
   ]
  },
  {
   "cell_type": "code",
   "execution_count": null,
   "metadata": {},
   "outputs": [],
   "source": [
    "nyc_may2_df.info()"
   ]
  },
  {
   "cell_type": "code",
   "execution_count": null,
   "metadata": {},
   "outputs": [],
   "source": [
    "nyc_may_df = pd.concat([nyc_may1_df, nyc_may2_df],0)\n",
    "nyc_may_df"
   ]
  },
  {
   "cell_type": "code",
   "execution_count": null,
   "metadata": {},
   "outputs": [],
   "source": [
    "nyc_may_df.info()"
   ]
  },
  {
   "cell_type": "code",
   "execution_count": null,
   "metadata": {},
   "outputs": [],
   "source": [
    "nyc_june1 = \"NYC/june_2019.csv\"\n",
    "nyc_june1_df = pd.read_csv(nyc_june1)\n",
    "nyc_june1_df"
   ]
  },
  {
   "cell_type": "code",
   "execution_count": null,
   "metadata": {},
   "outputs": [],
   "source": [
    "nyc_june1_df.info()"
   ]
  },
  {
   "cell_type": "code",
   "execution_count": null,
   "metadata": {},
   "outputs": [],
   "source": [
    "nyc_june2 = \"NYC/june_2020.csv\"\n",
    "nyc_june2_df = pd.read_csv(nyc_june2)\n",
    "nyc_june2_df"
   ]
  },
  {
   "cell_type": "code",
   "execution_count": null,
   "metadata": {},
   "outputs": [],
   "source": [
    "nyc_june2_df.info()"
   ]
  },
  {
   "cell_type": "code",
   "execution_count": null,
   "metadata": {},
   "outputs": [],
   "source": [
    "nyc_june_df = pd.concat([nyc_june1_df, nyc_june2_df],0)\n",
    "nyc_june_df"
   ]
  },
  {
   "cell_type": "code",
   "execution_count": null,
   "metadata": {},
   "outputs": [],
   "source": [
    "nyc_june_df.info()"
   ]
  },
  {
   "cell_type": "code",
   "execution_count": null,
   "metadata": {},
   "outputs": [],
   "source": [
    "nyc_july1 = \"NYC/july_2019.csv\"\n",
    "nyc_july1_df = pd.read_csv(nyc_july1)\n",
    "nyc_july1_df"
   ]
  },
  {
   "cell_type": "code",
   "execution_count": null,
   "metadata": {},
   "outputs": [],
   "source": [
    "nyc_july1_df.info()"
   ]
  },
  {
   "cell_type": "code",
   "execution_count": null,
   "metadata": {},
   "outputs": [],
   "source": [
    "nyc_july2 = \"NYC/july_2020.csv\"\n",
    "nyc_july2_df = pd.read_csv(nyc_july2)\n",
    "nyc_july2_df"
   ]
  },
  {
   "cell_type": "code",
   "execution_count": null,
   "metadata": {},
   "outputs": [],
   "source": [
    "nyc_july2_df.info()"
   ]
  },
  {
   "cell_type": "code",
   "execution_count": null,
   "metadata": {},
   "outputs": [],
   "source": [
    "nyc_july_df = pd.concat([nyc_july1_df, nyc_july2_df],0)\n",
    "nyc_july_df"
   ]
  },
  {
   "cell_type": "code",
   "execution_count": null,
   "metadata": {},
   "outputs": [],
   "source": [
    "nyc_july_df.info()"
   ]
  },
  {
   "cell_type": "code",
   "execution_count": null,
   "metadata": {},
   "outputs": [],
   "source": [
    "nyc_aug1 = \"NYC/aug_2019.csv\"\n",
    "nyc_aug1_df = pd.read_csv(nyc_aug1)\n",
    "nyc_aug1_df"
   ]
  },
  {
   "cell_type": "code",
   "execution_count": null,
   "metadata": {},
   "outputs": [],
   "source": [
    "nyc_aug1_df.info()"
   ]
  },
  {
   "cell_type": "code",
   "execution_count": null,
   "metadata": {},
   "outputs": [],
   "source": [
    "nyc_aug2 = \"NYC/aug_2020.csv\"\n",
    "nyc_aug2_df = pd.read_csv(nyc_aug2)\n",
    "nyc_aug2_df"
   ]
  },
  {
   "cell_type": "code",
   "execution_count": null,
   "metadata": {},
   "outputs": [],
   "source": [
    "nyc_aug2_df.info()"
   ]
  },
  {
   "cell_type": "code",
   "execution_count": null,
   "metadata": {},
   "outputs": [],
   "source": [
    "nyc_aug_df = pd.concat([nyc_aug1_df, nyc_aug2_df],0)\n",
    "nyc_aug_df"
   ]
  },
  {
   "cell_type": "code",
   "execution_count": null,
   "metadata": {},
   "outputs": [],
   "source": [
    "nyc_aug_df.info()"
   ]
  },
  {
   "cell_type": "code",
   "execution_count": null,
   "metadata": {},
   "outputs": [],
   "source": [
    "NYC_Data_df = pd.concat([nyc_may_df, nyc_june_df, nyc_july_df, nyc_aug_df],0)\n",
    "NYC_Data_df"
   ]
  },
  {
   "cell_type": "code",
   "execution_count": null,
   "metadata": {},
   "outputs": [],
   "source": [
    "jc_may1 = \"JC/may_2019.csv\"\n",
    "jc_may1_df = pd.read_csv(jc_may1)\n",
    "jc_may1_df"
   ]
  },
  {
   "cell_type": "code",
   "execution_count": null,
   "metadata": {},
   "outputs": [],
   "source": [
    "jc_may1_df.info()"
   ]
  },
  {
   "cell_type": "code",
   "execution_count": null,
   "metadata": {},
   "outputs": [],
   "source": [
    "jc_may2 = \"JC/may_2020.csv\"\n",
    "jc_may2_df = pd.read_csv(jc_may2)\n",
    "jc_may2_df"
   ]
  },
  {
   "cell_type": "code",
   "execution_count": null,
   "metadata": {},
   "outputs": [],
   "source": [
    "jc_may2_df.info()"
   ]
  },
  {
   "cell_type": "code",
   "execution_count": null,
   "metadata": {},
   "outputs": [],
   "source": [
    "jc_may_df = pd.concat([jc_may1_df, jc_may2_df],0)\n",
    "jc_may_df"
   ]
  },
  {
   "cell_type": "code",
   "execution_count": null,
   "metadata": {},
   "outputs": [],
   "source": [
    "jc_may_df.info()"
   ]
  },
  {
   "cell_type": "code",
   "execution_count": null,
   "metadata": {},
   "outputs": [],
   "source": [
    "jc_june1 = \"JC/june_2019.csv\"\n",
    "jc_june1_df = pd.read_csv(jc_june1)\n",
    "jc_june1_df"
   ]
  },
  {
   "cell_type": "code",
   "execution_count": null,
   "metadata": {},
   "outputs": [],
   "source": [
    "jc_june1_df.info()"
   ]
  },
  {
   "cell_type": "code",
   "execution_count": null,
   "metadata": {},
   "outputs": [],
   "source": [
    "jc_june2 = \"JC/june_2020.csv\"\n",
    "jc_june2_df = pd.read_csv(jc_june2)\n",
    "jc_june2_df"
   ]
  },
  {
   "cell_type": "code",
   "execution_count": null,
   "metadata": {},
   "outputs": [],
   "source": [
    "jc_june2_df.info()"
   ]
  },
  {
   "cell_type": "code",
   "execution_count": null,
   "metadata": {},
   "outputs": [],
   "source": [
    "jc_june_df = pd.concat([jc_june1_df, jc_june2_df],0)\n",
    "jc_june_df"
   ]
  },
  {
   "cell_type": "code",
   "execution_count": null,
   "metadata": {},
   "outputs": [],
   "source": [
    "jc_june_df.info()"
   ]
  },
  {
   "cell_type": "code",
   "execution_count": null,
   "metadata": {},
   "outputs": [],
   "source": [
    "jc_july1 = \"JC/june_2019.csv\"\n",
    "jc_july1_df = pd.read_csv(jc_july1)\n",
    "jc_july1_df"
   ]
  },
  {
   "cell_type": "code",
   "execution_count": null,
   "metadata": {},
   "outputs": [],
   "source": [
    "jc_july1_df.info()"
   ]
  },
  {
   "cell_type": "code",
   "execution_count": null,
   "metadata": {},
   "outputs": [],
   "source": [
    "jc_july2= \"JC/june_2020.csv\"\n",
    "jc_july2_df = pd.read_csv(jc_july2)\n",
    "jc_july2_df"
   ]
  },
  {
   "cell_type": "code",
   "execution_count": null,
   "metadata": {},
   "outputs": [],
   "source": [
    "jc_july2_df.info()"
   ]
  },
  {
   "cell_type": "code",
   "execution_count": null,
   "metadata": {},
   "outputs": [],
   "source": [
    "jc_july_df = pd.concat([jc_july1_df, jc_july2_df],0)\n",
    "jc_july_df"
   ]
  },
  {
   "cell_type": "code",
   "execution_count": null,
   "metadata": {},
   "outputs": [],
   "source": [
    "jc_july_df.info()"
   ]
  },
  {
   "cell_type": "code",
   "execution_count": 48,
   "metadata": {},
   "outputs": [
    {
     "output_type": "execute_result",
     "data": {
      "text/plain": [
       "       tripduration                 starttime                  stoptime  \\\n",
       "0               261  2019-08-01 00:14:55.9900  2019-08-01 00:19:17.4780   \n",
       "1               172  2019-08-01 00:23:06.9910  2019-08-01 00:25:59.1480   \n",
       "2               525  2019-08-01 00:23:28.6170  2019-08-01 00:32:13.7000   \n",
       "3               219  2019-08-01 00:32:36.1410  2019-08-01 00:36:15.2730   \n",
       "4               262  2019-08-01 00:41:26.6700  2019-08-01 00:45:49.3530   \n",
       "...             ...                       ...                       ...   \n",
       "48706           384  2019-08-31 23:40:45.2450  2019-08-31 23:47:09.8810   \n",
       "48707           633  2019-08-31 23:45:55.6660  2019-08-31 23:56:29.5350   \n",
       "48708           324  2019-08-31 23:50:27.9220  2019-08-31 23:55:52.8420   \n",
       "48709           126  2019-08-31 23:52:21.9250  2019-08-31 23:54:28.5820   \n",
       "48710           690  2019-08-31 23:56:55.1530  2019-09-01 00:08:25.2370   \n",
       "\n",
       "       start station id start station name  start station latitude  \\\n",
       "0                  3205  JC Medical Center               40.716540   \n",
       "1                  3279        Dixon Mills               40.721630   \n",
       "2                  3199       Newport Pkwy               40.728745   \n",
       "3                  3187          Warren St               40.721124   \n",
       "4                  3186      Grove St PATH               40.719586   \n",
       "...                 ...                ...                     ...   \n",
       "48706              3639         Harborside               40.719252   \n",
       "48707              3186      Grove St PATH               40.719586   \n",
       "48708              3276   Marin Light Rail               40.714584   \n",
       "48709              3211         Newark Ave               40.721525   \n",
       "48710              3185          City Hall               40.717733   \n",
       "\n",
       "       start station longitude  end station id         end station name  \\\n",
       "0                   -74.049638            3192       Liberty Light Rail   \n",
       "1                   -74.049968            3186            Grove St PATH   \n",
       "2                   -74.032108            3203            Hamilton Park   \n",
       "3                   -74.038051            3185                City Hall   \n",
       "4                   -74.043117            3272             Jersey & 3rd   \n",
       "...                        ...             ...                      ...   \n",
       "48706               -74.034234            3203            Hamilton Park   \n",
       "48707               -74.043117            3185                City Hall   \n",
       "48708               -74.042817            3211               Newark Ave   \n",
       "48709               -74.046305            3209             Brunswick St   \n",
       "48710               -74.043845            3277  Communipaw & Berry Lane   \n",
       "\n",
       "       end station latitude  end station longitude  bikeid    usertype  \\\n",
       "0                 40.711242             -74.055701   26268  Subscriber   \n",
       "1                 40.719586             -74.043117   26162  Subscriber   \n",
       "2                 40.727596             -74.044247   29279  Subscriber   \n",
       "3                 40.717733             -74.043845   29598  Subscriber   \n",
       "4                 40.723332             -74.045953   26162  Subscriber   \n",
       "...                     ...                    ...     ...         ...   \n",
       "48706             40.727596             -74.044247   29522  Subscriber   \n",
       "48707             40.717733             -74.043845   29679    Customer   \n",
       "48708             40.721525             -74.046305   26198  Subscriber   \n",
       "48709             40.724176             -74.050656   29512  Subscriber   \n",
       "48710             40.714358             -74.066611   26223  Subscriber   \n",
       "\n",
       "       birth year  gender  \n",
       "0            1980       1  \n",
       "1            1996       1  \n",
       "2            1991       1  \n",
       "3            1988       1  \n",
       "4            1960       1  \n",
       "...           ...     ...  \n",
       "48706        1988       1  \n",
       "48707        1997       1  \n",
       "48708        1997       2  \n",
       "48709        1998       1  \n",
       "48710        1992       1  \n",
       "\n",
       "[48711 rows x 15 columns]"
      ],
      "text/html": "<div>\n<style scoped>\n    .dataframe tbody tr th:only-of-type {\n        vertical-align: middle;\n    }\n\n    .dataframe tbody tr th {\n        vertical-align: top;\n    }\n\n    .dataframe thead th {\n        text-align: right;\n    }\n</style>\n<table border=\"1\" class=\"dataframe\">\n  <thead>\n    <tr style=\"text-align: right;\">\n      <th></th>\n      <th>tripduration</th>\n      <th>starttime</th>\n      <th>stoptime</th>\n      <th>start station id</th>\n      <th>start station name</th>\n      <th>start station latitude</th>\n      <th>start station longitude</th>\n      <th>end station id</th>\n      <th>end station name</th>\n      <th>end station latitude</th>\n      <th>end station longitude</th>\n      <th>bikeid</th>\n      <th>usertype</th>\n      <th>birth year</th>\n      <th>gender</th>\n    </tr>\n  </thead>\n  <tbody>\n    <tr>\n      <th>0</th>\n      <td>261</td>\n      <td>2019-08-01 00:14:55.9900</td>\n      <td>2019-08-01 00:19:17.4780</td>\n      <td>3205</td>\n      <td>JC Medical Center</td>\n      <td>40.716540</td>\n      <td>-74.049638</td>\n      <td>3192</td>\n      <td>Liberty Light Rail</td>\n      <td>40.711242</td>\n      <td>-74.055701</td>\n      <td>26268</td>\n      <td>Subscriber</td>\n      <td>1980</td>\n      <td>1</td>\n    </tr>\n    <tr>\n      <th>1</th>\n      <td>172</td>\n      <td>2019-08-01 00:23:06.9910</td>\n      <td>2019-08-01 00:25:59.1480</td>\n      <td>3279</td>\n      <td>Dixon Mills</td>\n      <td>40.721630</td>\n      <td>-74.049968</td>\n      <td>3186</td>\n      <td>Grove St PATH</td>\n      <td>40.719586</td>\n      <td>-74.043117</td>\n      <td>26162</td>\n      <td>Subscriber</td>\n      <td>1996</td>\n      <td>1</td>\n    </tr>\n    <tr>\n      <th>2</th>\n      <td>525</td>\n      <td>2019-08-01 00:23:28.6170</td>\n      <td>2019-08-01 00:32:13.7000</td>\n      <td>3199</td>\n      <td>Newport Pkwy</td>\n      <td>40.728745</td>\n      <td>-74.032108</td>\n      <td>3203</td>\n      <td>Hamilton Park</td>\n      <td>40.727596</td>\n      <td>-74.044247</td>\n      <td>29279</td>\n      <td>Subscriber</td>\n      <td>1991</td>\n      <td>1</td>\n    </tr>\n    <tr>\n      <th>3</th>\n      <td>219</td>\n      <td>2019-08-01 00:32:36.1410</td>\n      <td>2019-08-01 00:36:15.2730</td>\n      <td>3187</td>\n      <td>Warren St</td>\n      <td>40.721124</td>\n      <td>-74.038051</td>\n      <td>3185</td>\n      <td>City Hall</td>\n      <td>40.717733</td>\n      <td>-74.043845</td>\n      <td>29598</td>\n      <td>Subscriber</td>\n      <td>1988</td>\n      <td>1</td>\n    </tr>\n    <tr>\n      <th>4</th>\n      <td>262</td>\n      <td>2019-08-01 00:41:26.6700</td>\n      <td>2019-08-01 00:45:49.3530</td>\n      <td>3186</td>\n      <td>Grove St PATH</td>\n      <td>40.719586</td>\n      <td>-74.043117</td>\n      <td>3272</td>\n      <td>Jersey &amp; 3rd</td>\n      <td>40.723332</td>\n      <td>-74.045953</td>\n      <td>26162</td>\n      <td>Subscriber</td>\n      <td>1960</td>\n      <td>1</td>\n    </tr>\n    <tr>\n      <th>...</th>\n      <td>...</td>\n      <td>...</td>\n      <td>...</td>\n      <td>...</td>\n      <td>...</td>\n      <td>...</td>\n      <td>...</td>\n      <td>...</td>\n      <td>...</td>\n      <td>...</td>\n      <td>...</td>\n      <td>...</td>\n      <td>...</td>\n      <td>...</td>\n      <td>...</td>\n    </tr>\n    <tr>\n      <th>48706</th>\n      <td>384</td>\n      <td>2019-08-31 23:40:45.2450</td>\n      <td>2019-08-31 23:47:09.8810</td>\n      <td>3639</td>\n      <td>Harborside</td>\n      <td>40.719252</td>\n      <td>-74.034234</td>\n      <td>3203</td>\n      <td>Hamilton Park</td>\n      <td>40.727596</td>\n      <td>-74.044247</td>\n      <td>29522</td>\n      <td>Subscriber</td>\n      <td>1988</td>\n      <td>1</td>\n    </tr>\n    <tr>\n      <th>48707</th>\n      <td>633</td>\n      <td>2019-08-31 23:45:55.6660</td>\n      <td>2019-08-31 23:56:29.5350</td>\n      <td>3186</td>\n      <td>Grove St PATH</td>\n      <td>40.719586</td>\n      <td>-74.043117</td>\n      <td>3185</td>\n      <td>City Hall</td>\n      <td>40.717733</td>\n      <td>-74.043845</td>\n      <td>29679</td>\n      <td>Customer</td>\n      <td>1997</td>\n      <td>1</td>\n    </tr>\n    <tr>\n      <th>48708</th>\n      <td>324</td>\n      <td>2019-08-31 23:50:27.9220</td>\n      <td>2019-08-31 23:55:52.8420</td>\n      <td>3276</td>\n      <td>Marin Light Rail</td>\n      <td>40.714584</td>\n      <td>-74.042817</td>\n      <td>3211</td>\n      <td>Newark Ave</td>\n      <td>40.721525</td>\n      <td>-74.046305</td>\n      <td>26198</td>\n      <td>Subscriber</td>\n      <td>1997</td>\n      <td>2</td>\n    </tr>\n    <tr>\n      <th>48709</th>\n      <td>126</td>\n      <td>2019-08-31 23:52:21.9250</td>\n      <td>2019-08-31 23:54:28.5820</td>\n      <td>3211</td>\n      <td>Newark Ave</td>\n      <td>40.721525</td>\n      <td>-74.046305</td>\n      <td>3209</td>\n      <td>Brunswick St</td>\n      <td>40.724176</td>\n      <td>-74.050656</td>\n      <td>29512</td>\n      <td>Subscriber</td>\n      <td>1998</td>\n      <td>1</td>\n    </tr>\n    <tr>\n      <th>48710</th>\n      <td>690</td>\n      <td>2019-08-31 23:56:55.1530</td>\n      <td>2019-09-01 00:08:25.2370</td>\n      <td>3185</td>\n      <td>City Hall</td>\n      <td>40.717733</td>\n      <td>-74.043845</td>\n      <td>3277</td>\n      <td>Communipaw &amp; Berry Lane</td>\n      <td>40.714358</td>\n      <td>-74.066611</td>\n      <td>26223</td>\n      <td>Subscriber</td>\n      <td>1992</td>\n      <td>1</td>\n    </tr>\n  </tbody>\n</table>\n<p>48711 rows × 15 columns</p>\n</div>"
     },
     "metadata": {},
     "execution_count": 48
    }
   ],
   "source": [
    "jc_aug1 = \"JC/aug_2019.csv\"\n",
    "jc_aug1_df = pd.read_csv(jc_aug1)\n",
    "jc_aug1_df"
   ]
  },
  {
   "cell_type": "code",
   "execution_count": 49,
   "metadata": {},
   "outputs": [
    {
     "output_type": "stream",
     "name": "stdout",
     "text": [
      "<class 'pandas.core.frame.DataFrame'>\nRangeIndex: 48711 entries, 0 to 48710\nData columns (total 15 columns):\n #   Column                   Non-Null Count  Dtype  \n---  ------                   --------------  -----  \n 0   tripduration             48711 non-null  int64  \n 1   starttime                48711 non-null  object \n 2   stoptime                 48711 non-null  object \n 3   start station id         48711 non-null  int64  \n 4   start station name       48711 non-null  object \n 5   start station latitude   48711 non-null  float64\n 6   start station longitude  48711 non-null  float64\n 7   end station id           48711 non-null  int64  \n 8   end station name         48711 non-null  object \n 9   end station latitude     48711 non-null  float64\n 10  end station longitude    48711 non-null  float64\n 11  bikeid                   48711 non-null  int64  \n 12  usertype                 48711 non-null  object \n 13  birth year               48711 non-null  int64  \n 14  gender                   48711 non-null  int64  \ndtypes: float64(4), int64(6), object(5)\nmemory usage: 5.6+ MB\n"
     ]
    }
   ],
   "source": [
    "jc_aug1_df.info()"
   ]
  },
  {
   "cell_type": "code",
   "execution_count": 50,
   "metadata": {},
   "outputs": [
    {
     "output_type": "execute_result",
     "data": {
      "text/plain": [
       "       tripduration                 starttime                  stoptime  \\\n",
       "0               561  2020-08-01 00:00:16.5960  2020-08-01 00:09:38.5610   \n",
       "1               236  2020-08-01 00:00:46.3900  2020-08-01 00:04:42.8890   \n",
       "2               384  2020-08-01 00:02:38.9250  2020-08-01 00:09:03.7590   \n",
       "3              1302  2020-08-01 00:03:27.0270  2020-08-01 00:25:09.2120   \n",
       "4              5561  2020-08-01 00:03:57.4810  2020-08-01 01:36:38.5000   \n",
       "...             ...                       ...                       ...   \n",
       "43262           162  2020-08-31 23:43:15.8540  2020-08-31 23:45:58.4550   \n",
       "43263           400  2020-08-31 23:46:19.9130  2020-08-31 23:53:00.3610   \n",
       "43264           288  2020-08-31 23:47:16.8680  2020-08-31 23:52:05.5550   \n",
       "43265           199  2020-08-31 23:50:37.2650  2020-08-31 23:53:56.9490   \n",
       "43266           333  2020-08-31 23:55:30.8050  2020-09-01 00:01:04.4110   \n",
       "\n",
       "       start station id start station name  start station latitude  \\\n",
       "0                  3185          City Hall               40.717733   \n",
       "1                  3186      Grove St PATH               40.719586   \n",
       "2                  3186      Grove St PATH               40.719586   \n",
       "3                  3185          City Hall               40.717733   \n",
       "4                  3185          City Hall               40.717733   \n",
       "...                 ...                ...                     ...   \n",
       "43262              3186      Grove St PATH               40.719586   \n",
       "43263              3481            York St               40.716490   \n",
       "43264              3195            Sip Ave               40.730897   \n",
       "43265              3195            Sip Ave               40.730897   \n",
       "43266              3211         Newark Ave               40.721525   \n",
       "\n",
       "       start station longitude  end station id end station name  \\\n",
       "0                   -74.043845            3185        City Hall   \n",
       "1                   -74.043117            3270  Jersey & 6th St   \n",
       "2                   -74.043117            3203    Hamilton Park   \n",
       "3                   -74.043845            3185        City Hall   \n",
       "4                   -74.043845            3185        City Hall   \n",
       "...                        ...             ...              ...   \n",
       "43262               -74.043117            3279      Dixon Mills   \n",
       "43263               -74.041050            3187        Warren St   \n",
       "43264               -74.063913            3194  McGinley Square   \n",
       "43265               -74.063913            3194  McGinley Square   \n",
       "43266               -74.046305            3270  Jersey & 6th St   \n",
       "\n",
       "       end station latitude  end station longitude  bikeid    usertype  \\\n",
       "0                 40.717733             -74.043845   42303    Customer   \n",
       "1                 40.725289             -74.045572   44989  Subscriber   \n",
       "2                 40.727596             -74.044247   41696  Subscriber   \n",
       "3                 40.717733             -74.043845   42310    Customer   \n",
       "4                 40.717733             -74.043845   42346    Customer   \n",
       "...                     ...                    ...     ...         ...   \n",
       "43262             40.721630             -74.049968   44787  Subscriber   \n",
       "43263             40.721124             -74.038051   19153  Subscriber   \n",
       "43264             40.725340             -74.067622   42434  Subscriber   \n",
       "43265             40.725340             -74.067622   44226  Subscriber   \n",
       "43266             40.725289             -74.045572   42437  Subscriber   \n",
       "\n",
       "       birth year  gender  \n",
       "0            1994       2  \n",
       "1            1996       1  \n",
       "2            1984       2  \n",
       "3            1993       1  \n",
       "4            1995       2  \n",
       "...           ...     ...  \n",
       "43262        1977       1  \n",
       "43263        1986       1  \n",
       "43264        1960       1  \n",
       "43265        1994       1  \n",
       "43266        1984       2  \n",
       "\n",
       "[43267 rows x 15 columns]"
      ],
      "text/html": "<div>\n<style scoped>\n    .dataframe tbody tr th:only-of-type {\n        vertical-align: middle;\n    }\n\n    .dataframe tbody tr th {\n        vertical-align: top;\n    }\n\n    .dataframe thead th {\n        text-align: right;\n    }\n</style>\n<table border=\"1\" class=\"dataframe\">\n  <thead>\n    <tr style=\"text-align: right;\">\n      <th></th>\n      <th>tripduration</th>\n      <th>starttime</th>\n      <th>stoptime</th>\n      <th>start station id</th>\n      <th>start station name</th>\n      <th>start station latitude</th>\n      <th>start station longitude</th>\n      <th>end station id</th>\n      <th>end station name</th>\n      <th>end station latitude</th>\n      <th>end station longitude</th>\n      <th>bikeid</th>\n      <th>usertype</th>\n      <th>birth year</th>\n      <th>gender</th>\n    </tr>\n  </thead>\n  <tbody>\n    <tr>\n      <th>0</th>\n      <td>561</td>\n      <td>2020-08-01 00:00:16.5960</td>\n      <td>2020-08-01 00:09:38.5610</td>\n      <td>3185</td>\n      <td>City Hall</td>\n      <td>40.717733</td>\n      <td>-74.043845</td>\n      <td>3185</td>\n      <td>City Hall</td>\n      <td>40.717733</td>\n      <td>-74.043845</td>\n      <td>42303</td>\n      <td>Customer</td>\n      <td>1994</td>\n      <td>2</td>\n    </tr>\n    <tr>\n      <th>1</th>\n      <td>236</td>\n      <td>2020-08-01 00:00:46.3900</td>\n      <td>2020-08-01 00:04:42.8890</td>\n      <td>3186</td>\n      <td>Grove St PATH</td>\n      <td>40.719586</td>\n      <td>-74.043117</td>\n      <td>3270</td>\n      <td>Jersey &amp; 6th St</td>\n      <td>40.725289</td>\n      <td>-74.045572</td>\n      <td>44989</td>\n      <td>Subscriber</td>\n      <td>1996</td>\n      <td>1</td>\n    </tr>\n    <tr>\n      <th>2</th>\n      <td>384</td>\n      <td>2020-08-01 00:02:38.9250</td>\n      <td>2020-08-01 00:09:03.7590</td>\n      <td>3186</td>\n      <td>Grove St PATH</td>\n      <td>40.719586</td>\n      <td>-74.043117</td>\n      <td>3203</td>\n      <td>Hamilton Park</td>\n      <td>40.727596</td>\n      <td>-74.044247</td>\n      <td>41696</td>\n      <td>Subscriber</td>\n      <td>1984</td>\n      <td>2</td>\n    </tr>\n    <tr>\n      <th>3</th>\n      <td>1302</td>\n      <td>2020-08-01 00:03:27.0270</td>\n      <td>2020-08-01 00:25:09.2120</td>\n      <td>3185</td>\n      <td>City Hall</td>\n      <td>40.717733</td>\n      <td>-74.043845</td>\n      <td>3185</td>\n      <td>City Hall</td>\n      <td>40.717733</td>\n      <td>-74.043845</td>\n      <td>42310</td>\n      <td>Customer</td>\n      <td>1993</td>\n      <td>1</td>\n    </tr>\n    <tr>\n      <th>4</th>\n      <td>5561</td>\n      <td>2020-08-01 00:03:57.4810</td>\n      <td>2020-08-01 01:36:38.5000</td>\n      <td>3185</td>\n      <td>City Hall</td>\n      <td>40.717733</td>\n      <td>-74.043845</td>\n      <td>3185</td>\n      <td>City Hall</td>\n      <td>40.717733</td>\n      <td>-74.043845</td>\n      <td>42346</td>\n      <td>Customer</td>\n      <td>1995</td>\n      <td>2</td>\n    </tr>\n    <tr>\n      <th>...</th>\n      <td>...</td>\n      <td>...</td>\n      <td>...</td>\n      <td>...</td>\n      <td>...</td>\n      <td>...</td>\n      <td>...</td>\n      <td>...</td>\n      <td>...</td>\n      <td>...</td>\n      <td>...</td>\n      <td>...</td>\n      <td>...</td>\n      <td>...</td>\n      <td>...</td>\n    </tr>\n    <tr>\n      <th>43262</th>\n      <td>162</td>\n      <td>2020-08-31 23:43:15.8540</td>\n      <td>2020-08-31 23:45:58.4550</td>\n      <td>3186</td>\n      <td>Grove St PATH</td>\n      <td>40.719586</td>\n      <td>-74.043117</td>\n      <td>3279</td>\n      <td>Dixon Mills</td>\n      <td>40.721630</td>\n      <td>-74.049968</td>\n      <td>44787</td>\n      <td>Subscriber</td>\n      <td>1977</td>\n      <td>1</td>\n    </tr>\n    <tr>\n      <th>43263</th>\n      <td>400</td>\n      <td>2020-08-31 23:46:19.9130</td>\n      <td>2020-08-31 23:53:00.3610</td>\n      <td>3481</td>\n      <td>York St</td>\n      <td>40.716490</td>\n      <td>-74.041050</td>\n      <td>3187</td>\n      <td>Warren St</td>\n      <td>40.721124</td>\n      <td>-74.038051</td>\n      <td>19153</td>\n      <td>Subscriber</td>\n      <td>1986</td>\n      <td>1</td>\n    </tr>\n    <tr>\n      <th>43264</th>\n      <td>288</td>\n      <td>2020-08-31 23:47:16.8680</td>\n      <td>2020-08-31 23:52:05.5550</td>\n      <td>3195</td>\n      <td>Sip Ave</td>\n      <td>40.730897</td>\n      <td>-74.063913</td>\n      <td>3194</td>\n      <td>McGinley Square</td>\n      <td>40.725340</td>\n      <td>-74.067622</td>\n      <td>42434</td>\n      <td>Subscriber</td>\n      <td>1960</td>\n      <td>1</td>\n    </tr>\n    <tr>\n      <th>43265</th>\n      <td>199</td>\n      <td>2020-08-31 23:50:37.2650</td>\n      <td>2020-08-31 23:53:56.9490</td>\n      <td>3195</td>\n      <td>Sip Ave</td>\n      <td>40.730897</td>\n      <td>-74.063913</td>\n      <td>3194</td>\n      <td>McGinley Square</td>\n      <td>40.725340</td>\n      <td>-74.067622</td>\n      <td>44226</td>\n      <td>Subscriber</td>\n      <td>1994</td>\n      <td>1</td>\n    </tr>\n    <tr>\n      <th>43266</th>\n      <td>333</td>\n      <td>2020-08-31 23:55:30.8050</td>\n      <td>2020-09-01 00:01:04.4110</td>\n      <td>3211</td>\n      <td>Newark Ave</td>\n      <td>40.721525</td>\n      <td>-74.046305</td>\n      <td>3270</td>\n      <td>Jersey &amp; 6th St</td>\n      <td>40.725289</td>\n      <td>-74.045572</td>\n      <td>42437</td>\n      <td>Subscriber</td>\n      <td>1984</td>\n      <td>2</td>\n    </tr>\n  </tbody>\n</table>\n<p>43267 rows × 15 columns</p>\n</div>"
     },
     "metadata": {},
     "execution_count": 50
    }
   ],
   "source": [
    "jc_aug2= \"JC/aug_2020.csv\"\n",
    "jc_aug2_df = pd.read_csv(jc_aug2)\n",
    "jc_aug2_df"
   ]
  },
  {
   "cell_type": "code",
   "execution_count": 51,
   "metadata": {},
   "outputs": [
    {
     "output_type": "stream",
     "name": "stdout",
     "text": [
      "<class 'pandas.core.frame.DataFrame'>\nRangeIndex: 43267 entries, 0 to 43266\nData columns (total 15 columns):\n #   Column                   Non-Null Count  Dtype  \n---  ------                   --------------  -----  \n 0   tripduration             43267 non-null  int64  \n 1   starttime                43267 non-null  object \n 2   stoptime                 43267 non-null  object \n 3   start station id         43267 non-null  int64  \n 4   start station name       43267 non-null  object \n 5   start station latitude   43267 non-null  float64\n 6   start station longitude  43267 non-null  float64\n 7   end station id           43267 non-null  int64  \n 8   end station name         43267 non-null  object \n 9   end station latitude     43267 non-null  float64\n 10  end station longitude    43267 non-null  float64\n 11  bikeid                   43267 non-null  int64  \n 12  usertype                 43267 non-null  object \n 13  birth year               43267 non-null  int64  \n 14  gender                   43267 non-null  int64  \ndtypes: float64(4), int64(6), object(5)\nmemory usage: 5.0+ MB\n"
     ]
    }
   ],
   "source": [
    "jc_aug2_df.info()"
   ]
  },
  {
   "cell_type": "code",
   "execution_count": 52,
   "metadata": {},
   "outputs": [
    {
     "output_type": "execute_result",
     "data": {
      "text/plain": [
       "       tripduration                 starttime                  stoptime  \\\n",
       "0               261  2019-08-01 00:14:55.9900  2019-08-01 00:19:17.4780   \n",
       "1               172  2019-08-01 00:23:06.9910  2019-08-01 00:25:59.1480   \n",
       "2               525  2019-08-01 00:23:28.6170  2019-08-01 00:32:13.7000   \n",
       "3               219  2019-08-01 00:32:36.1410  2019-08-01 00:36:15.2730   \n",
       "4               262  2019-08-01 00:41:26.6700  2019-08-01 00:45:49.3530   \n",
       "...             ...                       ...                       ...   \n",
       "43262           162  2020-08-31 23:43:15.8540  2020-08-31 23:45:58.4550   \n",
       "43263           400  2020-08-31 23:46:19.9130  2020-08-31 23:53:00.3610   \n",
       "43264           288  2020-08-31 23:47:16.8680  2020-08-31 23:52:05.5550   \n",
       "43265           199  2020-08-31 23:50:37.2650  2020-08-31 23:53:56.9490   \n",
       "43266           333  2020-08-31 23:55:30.8050  2020-09-01 00:01:04.4110   \n",
       "\n",
       "       start station id start station name  start station latitude  \\\n",
       "0                  3205  JC Medical Center               40.716540   \n",
       "1                  3279        Dixon Mills               40.721630   \n",
       "2                  3199       Newport Pkwy               40.728745   \n",
       "3                  3187          Warren St               40.721124   \n",
       "4                  3186      Grove St PATH               40.719586   \n",
       "...                 ...                ...                     ...   \n",
       "43262              3186      Grove St PATH               40.719586   \n",
       "43263              3481            York St               40.716490   \n",
       "43264              3195            Sip Ave               40.730897   \n",
       "43265              3195            Sip Ave               40.730897   \n",
       "43266              3211         Newark Ave               40.721525   \n",
       "\n",
       "       start station longitude  end station id    end station name  \\\n",
       "0                   -74.049638            3192  Liberty Light Rail   \n",
       "1                   -74.049968            3186       Grove St PATH   \n",
       "2                   -74.032108            3203       Hamilton Park   \n",
       "3                   -74.038051            3185           City Hall   \n",
       "4                   -74.043117            3272        Jersey & 3rd   \n",
       "...                        ...             ...                 ...   \n",
       "43262               -74.043117            3279         Dixon Mills   \n",
       "43263               -74.041050            3187           Warren St   \n",
       "43264               -74.063913            3194     McGinley Square   \n",
       "43265               -74.063913            3194     McGinley Square   \n",
       "43266               -74.046305            3270     Jersey & 6th St   \n",
       "\n",
       "       end station latitude  end station longitude  bikeid    usertype  \\\n",
       "0                 40.711242             -74.055701   26268  Subscriber   \n",
       "1                 40.719586             -74.043117   26162  Subscriber   \n",
       "2                 40.727596             -74.044247   29279  Subscriber   \n",
       "3                 40.717733             -74.043845   29598  Subscriber   \n",
       "4                 40.723332             -74.045953   26162  Subscriber   \n",
       "...                     ...                    ...     ...         ...   \n",
       "43262             40.721630             -74.049968   44787  Subscriber   \n",
       "43263             40.721124             -74.038051   19153  Subscriber   \n",
       "43264             40.725340             -74.067622   42434  Subscriber   \n",
       "43265             40.725340             -74.067622   44226  Subscriber   \n",
       "43266             40.725289             -74.045572   42437  Subscriber   \n",
       "\n",
       "       birth year  gender  \n",
       "0            1980       1  \n",
       "1            1996       1  \n",
       "2            1991       1  \n",
       "3            1988       1  \n",
       "4            1960       1  \n",
       "...           ...     ...  \n",
       "43262        1977       1  \n",
       "43263        1986       1  \n",
       "43264        1960       1  \n",
       "43265        1994       1  \n",
       "43266        1984       2  \n",
       "\n",
       "[91978 rows x 15 columns]"
      ],
      "text/html": "<div>\n<style scoped>\n    .dataframe tbody tr th:only-of-type {\n        vertical-align: middle;\n    }\n\n    .dataframe tbody tr th {\n        vertical-align: top;\n    }\n\n    .dataframe thead th {\n        text-align: right;\n    }\n</style>\n<table border=\"1\" class=\"dataframe\">\n  <thead>\n    <tr style=\"text-align: right;\">\n      <th></th>\n      <th>tripduration</th>\n      <th>starttime</th>\n      <th>stoptime</th>\n      <th>start station id</th>\n      <th>start station name</th>\n      <th>start station latitude</th>\n      <th>start station longitude</th>\n      <th>end station id</th>\n      <th>end station name</th>\n      <th>end station latitude</th>\n      <th>end station longitude</th>\n      <th>bikeid</th>\n      <th>usertype</th>\n      <th>birth year</th>\n      <th>gender</th>\n    </tr>\n  </thead>\n  <tbody>\n    <tr>\n      <th>0</th>\n      <td>261</td>\n      <td>2019-08-01 00:14:55.9900</td>\n      <td>2019-08-01 00:19:17.4780</td>\n      <td>3205</td>\n      <td>JC Medical Center</td>\n      <td>40.716540</td>\n      <td>-74.049638</td>\n      <td>3192</td>\n      <td>Liberty Light Rail</td>\n      <td>40.711242</td>\n      <td>-74.055701</td>\n      <td>26268</td>\n      <td>Subscriber</td>\n      <td>1980</td>\n      <td>1</td>\n    </tr>\n    <tr>\n      <th>1</th>\n      <td>172</td>\n      <td>2019-08-01 00:23:06.9910</td>\n      <td>2019-08-01 00:25:59.1480</td>\n      <td>3279</td>\n      <td>Dixon Mills</td>\n      <td>40.721630</td>\n      <td>-74.049968</td>\n      <td>3186</td>\n      <td>Grove St PATH</td>\n      <td>40.719586</td>\n      <td>-74.043117</td>\n      <td>26162</td>\n      <td>Subscriber</td>\n      <td>1996</td>\n      <td>1</td>\n    </tr>\n    <tr>\n      <th>2</th>\n      <td>525</td>\n      <td>2019-08-01 00:23:28.6170</td>\n      <td>2019-08-01 00:32:13.7000</td>\n      <td>3199</td>\n      <td>Newport Pkwy</td>\n      <td>40.728745</td>\n      <td>-74.032108</td>\n      <td>3203</td>\n      <td>Hamilton Park</td>\n      <td>40.727596</td>\n      <td>-74.044247</td>\n      <td>29279</td>\n      <td>Subscriber</td>\n      <td>1991</td>\n      <td>1</td>\n    </tr>\n    <tr>\n      <th>3</th>\n      <td>219</td>\n      <td>2019-08-01 00:32:36.1410</td>\n      <td>2019-08-01 00:36:15.2730</td>\n      <td>3187</td>\n      <td>Warren St</td>\n      <td>40.721124</td>\n      <td>-74.038051</td>\n      <td>3185</td>\n      <td>City Hall</td>\n      <td>40.717733</td>\n      <td>-74.043845</td>\n      <td>29598</td>\n      <td>Subscriber</td>\n      <td>1988</td>\n      <td>1</td>\n    </tr>\n    <tr>\n      <th>4</th>\n      <td>262</td>\n      <td>2019-08-01 00:41:26.6700</td>\n      <td>2019-08-01 00:45:49.3530</td>\n      <td>3186</td>\n      <td>Grove St PATH</td>\n      <td>40.719586</td>\n      <td>-74.043117</td>\n      <td>3272</td>\n      <td>Jersey &amp; 3rd</td>\n      <td>40.723332</td>\n      <td>-74.045953</td>\n      <td>26162</td>\n      <td>Subscriber</td>\n      <td>1960</td>\n      <td>1</td>\n    </tr>\n    <tr>\n      <th>...</th>\n      <td>...</td>\n      <td>...</td>\n      <td>...</td>\n      <td>...</td>\n      <td>...</td>\n      <td>...</td>\n      <td>...</td>\n      <td>...</td>\n      <td>...</td>\n      <td>...</td>\n      <td>...</td>\n      <td>...</td>\n      <td>...</td>\n      <td>...</td>\n      <td>...</td>\n    </tr>\n    <tr>\n      <th>43262</th>\n      <td>162</td>\n      <td>2020-08-31 23:43:15.8540</td>\n      <td>2020-08-31 23:45:58.4550</td>\n      <td>3186</td>\n      <td>Grove St PATH</td>\n      <td>40.719586</td>\n      <td>-74.043117</td>\n      <td>3279</td>\n      <td>Dixon Mills</td>\n      <td>40.721630</td>\n      <td>-74.049968</td>\n      <td>44787</td>\n      <td>Subscriber</td>\n      <td>1977</td>\n      <td>1</td>\n    </tr>\n    <tr>\n      <th>43263</th>\n      <td>400</td>\n      <td>2020-08-31 23:46:19.9130</td>\n      <td>2020-08-31 23:53:00.3610</td>\n      <td>3481</td>\n      <td>York St</td>\n      <td>40.716490</td>\n      <td>-74.041050</td>\n      <td>3187</td>\n      <td>Warren St</td>\n      <td>40.721124</td>\n      <td>-74.038051</td>\n      <td>19153</td>\n      <td>Subscriber</td>\n      <td>1986</td>\n      <td>1</td>\n    </tr>\n    <tr>\n      <th>43264</th>\n      <td>288</td>\n      <td>2020-08-31 23:47:16.8680</td>\n      <td>2020-08-31 23:52:05.5550</td>\n      <td>3195</td>\n      <td>Sip Ave</td>\n      <td>40.730897</td>\n      <td>-74.063913</td>\n      <td>3194</td>\n      <td>McGinley Square</td>\n      <td>40.725340</td>\n      <td>-74.067622</td>\n      <td>42434</td>\n      <td>Subscriber</td>\n      <td>1960</td>\n      <td>1</td>\n    </tr>\n    <tr>\n      <th>43265</th>\n      <td>199</td>\n      <td>2020-08-31 23:50:37.2650</td>\n      <td>2020-08-31 23:53:56.9490</td>\n      <td>3195</td>\n      <td>Sip Ave</td>\n      <td>40.730897</td>\n      <td>-74.063913</td>\n      <td>3194</td>\n      <td>McGinley Square</td>\n      <td>40.725340</td>\n      <td>-74.067622</td>\n      <td>44226</td>\n      <td>Subscriber</td>\n      <td>1994</td>\n      <td>1</td>\n    </tr>\n    <tr>\n      <th>43266</th>\n      <td>333</td>\n      <td>2020-08-31 23:55:30.8050</td>\n      <td>2020-09-01 00:01:04.4110</td>\n      <td>3211</td>\n      <td>Newark Ave</td>\n      <td>40.721525</td>\n      <td>-74.046305</td>\n      <td>3270</td>\n      <td>Jersey &amp; 6th St</td>\n      <td>40.725289</td>\n      <td>-74.045572</td>\n      <td>42437</td>\n      <td>Subscriber</td>\n      <td>1984</td>\n      <td>2</td>\n    </tr>\n  </tbody>\n</table>\n<p>91978 rows × 15 columns</p>\n</div>"
     },
     "metadata": {},
     "execution_count": 52
    }
   ],
   "source": [
    "jc_aug_df = pd.concat([jc_aug1_df, jc_aug2_df],0)\n",
    "jc_aug_df"
   ]
  },
  {
   "cell_type": "code",
   "execution_count": 53,
   "metadata": {},
   "outputs": [
    {
     "output_type": "stream",
     "name": "stdout",
     "text": [
      "<class 'pandas.core.frame.DataFrame'>\nInt64Index: 91978 entries, 0 to 43266\nData columns (total 15 columns):\n #   Column                   Non-Null Count  Dtype  \n---  ------                   --------------  -----  \n 0   tripduration             91978 non-null  int64  \n 1   starttime                91978 non-null  object \n 2   stoptime                 91978 non-null  object \n 3   start station id         91978 non-null  int64  \n 4   start station name       91978 non-null  object \n 5   start station latitude   91978 non-null  float64\n 6   start station longitude  91978 non-null  float64\n 7   end station id           91978 non-null  int64  \n 8   end station name         91978 non-null  object \n 9   end station latitude     91978 non-null  float64\n 10  end station longitude    91978 non-null  float64\n 11  bikeid                   91978 non-null  int64  \n 12  usertype                 91978 non-null  object \n 13  birth year               91978 non-null  int64  \n 14  gender                   91978 non-null  int64  \ndtypes: float64(4), int64(6), object(5)\nmemory usage: 13.7+ MB\n"
     ]
    }
   ],
   "source": [
    "jc_aug_df.info()"
   ]
  },
  {
   "cell_type": "code",
   "execution_count": null,
   "metadata": {},
   "outputs": [],
   "source": []
  }
 ]
}