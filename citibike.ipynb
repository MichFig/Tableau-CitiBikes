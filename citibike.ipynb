{
 "metadata": {
  "language_info": {
   "codemirror_mode": {
    "name": "ipython",
    "version": 3
   },
   "file_extension": ".py",
   "mimetype": "text/x-python",
   "name": "python",
   "nbconvert_exporter": "python",
   "pygments_lexer": "ipython3",
   "version": "3.8.5-final"
  },
  "orig_nbformat": 2,
  "kernelspec": {
   "name": "python385jvsc74a57bd09a88403fbcc32ff4d43b85c197e75bc52f19ad6664c2aafdbe675610f8ec1d62",
   "display_name": "Python 3.8.5 64-bit (conda)"
  }
 },
 "nbformat": 4,
 "nbformat_minor": 2,
 "cells": [
  {
   "cell_type": "code",
   "execution_count": null,
   "metadata": {},
   "outputs": [],
   "source": [
    "# Dependencies\n",
    "import pandas as pd\n",
    "import numpy as np\n",
    "from sqlalchemy import create_engine\n",
    "import psycopg2\n",
    "import tkinter as tkinter\n",
    "from tkinter import filedialog\n",
    "from pandas import DataFrame"
   ]
  },
  {
   "cell_type": "code",
   "execution_count": null,
   "metadata": {},
   "outputs": [],
   "source": [
    "# Read in May 2019 NYC data\n",
    "nyc_may1 = \"NYC/may_2019.csv\"\n",
    "nyc_may1_df = pd.read_csv(nyc_may1)\n",
    "nyc_may1_df"
   ]
  },
  {
   "cell_type": "code",
   "execution_count": null,
   "metadata": {},
   "outputs": [],
   "source": [
    "# Check May df info\n",
    "nyc_may1_df.info()"
   ]
  },
  {
   "cell_type": "code",
   "execution_count": null,
   "metadata": {},
   "outputs": [],
   "source": [
    "# Read in May 2020 NYC data\n",
    "nyc_may2 = \"NYC/may_2020.csv\"\n",
    "nyc_may2_df = pd.read_csv(nyc_may2)\n",
    "nyc_may2_df"
   ]
  },
  {
   "cell_type": "code",
   "execution_count": null,
   "metadata": {},
   "outputs": [],
   "source": [
    "# Check May df info\n",
    "nyc_may2_df.info()"
   ]
  },
  {
   "cell_type": "code",
   "execution_count": null,
   "metadata": {},
   "outputs": [],
   "source": [
    "# Join May dfs\n",
    "nyc_may_df = pd.concat([nyc_may1_df, nyc_may2_df],0)\n",
    "nyc_may_df"
   ]
  },
  {
   "cell_type": "code",
   "execution_count": null,
   "metadata": {},
   "outputs": [],
   "source": [
    "# Check complete May df\n",
    "nyc_may_df.info()"
   ]
  },
  {
   "cell_type": "code",
   "execution_count": null,
   "metadata": {},
   "outputs": [],
   "source": [
    "# Read in June 2019 NYC data\n",
    "nyc_june1 = \"NYC/june_2019.csv\"\n",
    "nyc_june1_df = pd.read_csv(nyc_june1)\n",
    "nyc_june1_df"
   ]
  },
  {
   "cell_type": "code",
   "execution_count": null,
   "metadata": {},
   "outputs": [],
   "source": [
    "# Check June df info\n",
    "nyc_june1_df.info()"
   ]
  },
  {
   "cell_type": "code",
   "execution_count": null,
   "metadata": {},
   "outputs": [],
   "source": [
    "# Read in June 2020 NYC data\n",
    "nyc_june2 = \"NYC/june_2020.csv\"\n",
    "nyc_june2_df = pd.read_csv(nyc_june2)\n",
    "nyc_june2_df"
   ]
  },
  {
   "cell_type": "code",
   "execution_count": null,
   "metadata": {},
   "outputs": [],
   "source": [
    "# Check June df info\n",
    "nyc_june2_df.info()"
   ]
  },
  {
   "cell_type": "code",
   "execution_count": null,
   "metadata": {},
   "outputs": [],
   "source": [
    "# Join June dfs\n",
    "nyc_june_df = pd.concat([nyc_june1_df, nyc_june2_df],0)\n",
    "nyc_june_df"
   ]
  },
  {
   "cell_type": "code",
   "execution_count": null,
   "metadata": {},
   "outputs": [],
   "source": [
    "# Check complete June df \n",
    "nyc_june_df.info()"
   ]
  },
  {
   "cell_type": "code",
   "execution_count": null,
   "metadata": {},
   "outputs": [],
   "source": [
    "# Read in July 2019 NYC data\n",
    "nyc_july1 = \"NYC/july_2019.csv\"\n",
    "nyc_july1_df = pd.read_csv(nyc_july1)\n",
    "nyc_july1_df"
   ]
  },
  {
   "cell_type": "code",
   "execution_count": null,
   "metadata": {},
   "outputs": [],
   "source": [
    "# Check July df info\n",
    "nyc_july1_df.info()"
   ]
  },
  {
   "cell_type": "code",
   "execution_count": null,
   "metadata": {},
   "outputs": [],
   "source": [
    "# Read in July 2020 NYC data\n",
    "nyc_july2 = \"NYC/july_2020.csv\"\n",
    "nyc_july2_df = pd.read_csv(nyc_july2)\n",
    "nyc_july2_df"
   ]
  },
  {
   "cell_type": "code",
   "execution_count": null,
   "metadata": {},
   "outputs": [],
   "source": [
    "# Check July df info\n",
    "nyc_july2_df.info()"
   ]
  },
  {
   "cell_type": "code",
   "execution_count": null,
   "metadata": {},
   "outputs": [],
   "source": [
    "# Join July dfs\n",
    "nyc_july_df = pd.concat([nyc_july1_df, nyc_july2_df],0)\n",
    "nyc_july_df"
   ]
  },
  {
   "cell_type": "code",
   "execution_count": null,
   "metadata": {},
   "outputs": [],
   "source": [
    "# Check complete July df\n",
    "nyc_july_df.info()"
   ]
  },
  {
   "cell_type": "code",
   "execution_count": null,
   "metadata": {},
   "outputs": [],
   "source": [
    "# Read in August 2019 NYC data\n",
    "nyc_aug1 = \"NYC/aug_2019.csv\"\n",
    "nyc_aug1_df = pd.read_csv(nyc_aug1)\n",
    "nyc_aug1_df"
   ]
  },
  {
   "cell_type": "code",
   "execution_count": null,
   "metadata": {},
   "outputs": [],
   "source": [
    "# Check August df info\n",
    "nyc_aug1_df.info()"
   ]
  },
  {
   "cell_type": "code",
   "execution_count": null,
   "metadata": {},
   "outputs": [],
   "source": [
    "# Read in August 2020 NYC data\n",
    "nyc_aug2 = \"NYC/aug_2020.csv\"\n",
    "nyc_aug2_df = pd.read_csv(nyc_aug2)\n",
    "nyc_aug2_df"
   ]
  },
  {
   "cell_type": "code",
   "execution_count": null,
   "metadata": {},
   "outputs": [],
   "source": [
    "# Check August df info\n",
    "nyc_aug2_df.info()"
   ]
  },
  {
   "cell_type": "code",
   "execution_count": null,
   "metadata": {},
   "outputs": [],
   "source": [
    "# Join August dfs \n",
    "nyc_aug_df = pd.concat([nyc_aug1_df, nyc_aug2_df],0)\n",
    "nyc_aug_df"
   ]
  },
  {
   "cell_type": "code",
   "execution_count": null,
   "metadata": {},
   "outputs": [],
   "source": [
    "# Check complete August df\n",
    "nyc_aug_df.info()"
   ]
  },
  {
   "cell_type": "code",
   "execution_count": null,
   "metadata": {},
   "outputs": [],
   "source": [
    "# Join complete NYC data\n",
    "NYC_Data_df = pd.concat([nyc_may_df, nyc_june_df, nyc_july_df, nyc_aug_df],0)\n",
    "NYC_Data_df"
   ]
  },
  {
   "cell_type": "code",
   "execution_count": null,
   "metadata": {},
   "outputs": [],
   "source": [
    "# Check complete NYC df\n",
    "NYC_Data_df.info()"
   ]
  },
  {
   "cell_type": "code",
   "execution_count": null,
   "metadata": {},
   "outputs": [],
   "source": [
    "# Export file as CSV\n",
    "NYC_Data_df.to_csv(r'C:\\Users\\chell\\Desktop\\Tableau-CitiBikes\\NYC_Data.csv', index = False)"
   ]
  },
  {
   "cell_type": "code",
   "execution_count": null,
   "metadata": {},
   "outputs": [],
   "source": [
    "# Read in May Jersey City 2019 data\n",
    "jc_may1 = \"JC/may_2019.csv\"\n",
    "jc_may1_df = pd.read_csv(jc_may1)\n",
    "jc_may1_df"
   ]
  },
  {
   "cell_type": "code",
   "execution_count": null,
   "metadata": {},
   "outputs": [],
   "source": [
    "# Check May df info\n",
    "jc_may1_df.info()"
   ]
  },
  {
   "cell_type": "code",
   "execution_count": null,
   "metadata": {},
   "outputs": [],
   "source": [
    "# Read in May Jersey City 2020 data\n",
    "jc_may2 = \"JC/may_2020.csv\"\n",
    "jc_may2_df = pd.read_csv(jc_may2)\n",
    "jc_may2_df"
   ]
  },
  {
   "cell_type": "code",
   "execution_count": null,
   "metadata": {},
   "outputs": [],
   "source": [
    "# Check May df info\n",
    "jc_may2_df.info()"
   ]
  },
  {
   "cell_type": "code",
   "execution_count": null,
   "metadata": {},
   "outputs": [],
   "source": [
    "#Join May dfs\n",
    "jc_may_df = pd.concat([jc_may1_df, jc_may2_df],0)\n",
    "jc_may_df"
   ]
  },
  {
   "cell_type": "code",
   "execution_count": null,
   "metadata": {},
   "outputs": [],
   "source": [
    "# Check complete May df\n",
    "jc_may_df.info()"
   ]
  },
  {
   "cell_type": "code",
   "execution_count": null,
   "metadata": {},
   "outputs": [],
   "source": [
    "# Read in June Jersey City data \n",
    "jc_june1 = \"JC/june_2019.csv\"\n",
    "jc_june1_df = pd.read_csv(jc_june1)\n",
    "jc_june1_df"
   ]
  },
  {
   "cell_type": "code",
   "execution_count": null,
   "metadata": {},
   "outputs": [],
   "source": [
    "# Check June df info\n",
    "jc_june1_df.info()"
   ]
  },
  {
   "cell_type": "code",
   "execution_count": null,
   "metadata": {},
   "outputs": [],
   "source": [
    "# Read in June Jersey City data\n",
    "jc_june2 = \"JC/june_2020.csv\"\n",
    "jc_june2_df = pd.read_csv(jc_june2)\n",
    "jc_june2_df"
   ]
  },
  {
   "cell_type": "code",
   "execution_count": null,
   "metadata": {},
   "outputs": [],
   "source": [
    "# Check June df info\n",
    "jc_june2_df.info()"
   ]
  },
  {
   "cell_type": "code",
   "execution_count": null,
   "metadata": {},
   "outputs": [],
   "source": [
    "# Join June dfs\n",
    "jc_june_df = pd.concat([jc_june1_df, jc_june2_df],0)\n",
    "jc_june_df"
   ]
  },
  {
   "cell_type": "code",
   "execution_count": null,
   "metadata": {},
   "outputs": [],
   "source": [
    "# Check complete June df\n",
    "jc_june_df.info()"
   ]
  },
  {
   "cell_type": "code",
   "execution_count": null,
   "metadata": {},
   "outputs": [],
   "source": [
    "# Read in July Jersey City data\n",
    "jc_july1 = \"JC/june_2019.csv\"\n",
    "jc_july1_df = pd.read_csv(jc_july1)\n",
    "jc_july1_df"
   ]
  },
  {
   "cell_type": "code",
   "execution_count": null,
   "metadata": {},
   "outputs": [],
   "source": [
    "# Check July df info\r\n",
    "jc_july1_df.info()"
   ]
  },
  {
   "cell_type": "code",
   "execution_count": null,
   "metadata": {},
   "outputs": [],
   "source": [
    "# Read in July Jersey City data\n",
    "jc_july2= \"JC/june_2020.csv\"\n",
    "jc_july2_df = pd.read_csv(jc_july2)\n",
    "jc_july2_df"
   ]
  },
  {
   "cell_type": "code",
   "execution_count": null,
   "metadata": {},
   "outputs": [],
   "source": [
    "# Check July df info\n",
    "jc_july2_df.info()"
   ]
  },
  {
   "cell_type": "code",
   "execution_count": null,
   "metadata": {},
   "outputs": [],
   "source": [
    "# Join July dfs\n",
    "jc_july_df = pd.concat([jc_july1_df, jc_july2_df],0)\n",
    "jc_july_df"
   ]
  },
  {
   "cell_type": "code",
   "execution_count": null,
   "metadata": {},
   "outputs": [],
   "source": [
    "# Check complete July df\n",
    "jc_july_df.info()"
   ]
  },
  {
   "cell_type": "code",
   "execution_count": null,
   "metadata": {},
   "outputs": [],
   "source": [
    "# Read in August Jersey City data\n",
    "jc_aug1 = \"JC/aug_2019.csv\"\n",
    "jc_aug1_df = pd.read_csv(jc_aug1)\n",
    "jc_aug1_df"
   ]
  },
  {
   "cell_type": "code",
   "execution_count": null,
   "metadata": {},
   "outputs": [],
   "source": [
    "# Check August df info\n",
    "jc_aug1_df.info()"
   ]
  },
  {
   "cell_type": "code",
   "execution_count": null,
   "metadata": {},
   "outputs": [],
   "source": [
    "# Read in August Jersey City data\n",
    "jc_aug2= \"JC/aug_2020.csv\"\n",
    "jc_aug2_df = pd.read_csv(jc_aug2)\n",
    "jc_aug2_df"
   ]
  },
  {
   "cell_type": "code",
   "execution_count": null,
   "metadata": {},
   "outputs": [],
   "source": [
    "# Check August df info\n",
    "jc_aug2_df.info()"
   ]
  },
  {
   "cell_type": "code",
   "execution_count": null,
   "metadata": {},
   "outputs": [],
   "source": [
    "# Join August dfs\n",
    "jc_aug_df = pd.concat([jc_aug1_df, jc_aug2_df],0)\n",
    "jc_aug_df"
   ]
  },
  {
   "cell_type": "code",
   "execution_count": null,
   "metadata": {},
   "outputs": [],
   "source": [
    "# Check complete August df\n",
    "jc_aug_df.info()"
   ]
  },
  {
   "cell_type": "code",
   "execution_count": null,
   "metadata": {},
   "outputs": [],
   "source": [
    "# Join complet Jersey City data\n",
    "JC_Data_df = pd.concat([jc_may_df, jc_june_df, jc_july_df, jc_aug_df],0)\n",
    "JC_Data_df"
   ]
  },
  {
   "cell_type": "code",
   "execution_count": null,
   "metadata": {},
   "outputs": [],
   "source": [
    "JC_Data_df.info()"
   ]
  }
 ]
}