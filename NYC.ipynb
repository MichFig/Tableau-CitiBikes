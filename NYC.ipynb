{
 "metadata": {
  "language_info": {
   "codemirror_mode": {
    "name": "ipython",
    "version": 3
   },
   "file_extension": ".py",
   "mimetype": "text/x-python",
   "name": "python",
   "nbconvert_exporter": "python",
   "pygments_lexer": "ipython3",
   "version": "3.8.5-final"
  },
  "orig_nbformat": 2,
  "kernelspec": {
   "name": "python385jvsc74a57bd09a88403fbcc32ff4d43b85c197e75bc52f19ad6664c2aafdbe675610f8ec1d62",
   "display_name": "Python 3.8.5 64-bit (conda)"
  }
 },
 "nbformat": 4,
 "nbformat_minor": 2,
 "cells": [
  {
   "cell_type": "code",
   "execution_count": 1,
   "metadata": {},
   "outputs": [],
   "source": [
    "# Dependencies\n",
    "import pandas as pd\n",
    "import numpy as np\n",
    "from sqlalchemy import create_engine\n",
    "import psycopg2"
   ]
  },
  {
   "cell_type": "code",
   "execution_count": 2,
   "metadata": {},
   "outputs": [
    {
     "output_type": "execute_result",
     "data": {
      "text/plain": [
       "         tripduration                 starttime                  stoptime  \\\n",
       "0                 139  2019-05-01 00:00:01.9010  2019-05-01 00:02:21.5170   \n",
       "1                 754  2019-05-01 00:00:03.0210  2019-05-01 00:12:37.6920   \n",
       "2                2308  2019-05-01 00:00:04.6270  2019-05-01 00:38:33.1710   \n",
       "3                 143  2019-05-01 00:00:19.3340  2019-05-01 00:02:42.5200   \n",
       "4                 138  2019-05-01 00:00:22.1840  2019-05-01 00:02:40.6480   \n",
       "...               ...                       ...                       ...   \n",
       "1924558           304  2019-05-31 23:59:45.5760  2019-06-01 00:04:50.4620   \n",
       "1924559           324  2019-05-31 23:59:46.4650  2019-06-01 00:05:11.1630   \n",
       "1924560          1926  2019-05-31 23:59:51.5060  2019-06-01 00:31:58.3920   \n",
       "1924561          2047  2019-05-31 23:59:52.4170  2019-06-01 00:34:00.1970   \n",
       "1924562           964  2019-05-31 23:59:55.5500  2019-06-01 00:15:59.8680   \n",
       "\n",
       "         start station id         start station name  start station latitude  \\\n",
       "0                     447            8 Ave & W 52 St               40.763707   \n",
       "1                    3258           W 27 St & 10 Ave               40.750182   \n",
       "2                    3093       N 6 St & Bedford Ave               40.717452   \n",
       "3                    3486  Schermerhorn St & Bond St               40.688417   \n",
       "4                     388           W 26 St & 10 Ave               40.749718   \n",
       "...                   ...                        ...                     ...   \n",
       "1924558              3175    W 70 St & Amsterdam Ave               40.777480   \n",
       "1924559              2003            1 Ave & E 18 St               40.733812   \n",
       "1924560               146       Hudson St & Reade St               40.716250   \n",
       "1924561              3658            W 18 St & 9 Ave               40.743534   \n",
       "1924562               285         Broadway & E 14 St               40.734546   \n",
       "\n",
       "         start station longitude  end station id            end station name  \\\n",
       "0                     -73.985162             423             W 54 St & 9 Ave   \n",
       "1                     -74.002184            3255             8 Ave & W 31 St   \n",
       "2                     -73.958509            3676  Van Brunt St & Van Dyke St   \n",
       "3                     -73.984517            3412      Pacific St & Nevins St   \n",
       "4                     -74.002950             494             W 26 St & 8 Ave   \n",
       "...                          ...             ...                         ...   \n",
       "1924558               -73.982886             423             W 54 St & 9 Ave   \n",
       "1924559               -73.980544             536             1 Ave & E 30 St   \n",
       "1924560               -74.009106             422            W 59 St & 10 Ave   \n",
       "1924561               -74.003676            2008       Little West St & 1 Pl   \n",
       "1924562               -73.990741            3656           E 2 St & Avenue A   \n",
       "\n",
       "         end station latitude  end station longitude  bikeid    usertype  \\\n",
       "0                   40.765849             -73.986905   31170  Subscriber   \n",
       "1                   40.750585             -73.994685   25560    Customer   \n",
       "2                   40.675833             -74.014726   33369  Subscriber   \n",
       "3                   40.685376             -73.983021   32041  Subscriber   \n",
       "4                   40.747348             -73.997236   35237  Subscriber   \n",
       "...                       ...                    ...     ...         ...   \n",
       "1924558             40.765849             -73.986905   32285  Subscriber   \n",
       "1924559             40.741444             -73.975361   33874  Subscriber   \n",
       "1924560             40.770513             -73.988038   33395  Subscriber   \n",
       "1924561             40.705693             -74.016777   27624  Subscriber   \n",
       "1924562             40.723077             -73.985836   32565  Subscriber   \n",
       "\n",
       "         birth year  gender  \n",
       "0              1983       1  \n",
       "1              1969       0  \n",
       "2              1978       1  \n",
       "3              1997       1  \n",
       "4              1967       1  \n",
       "...             ...     ...  \n",
       "1924558        1987       2  \n",
       "1924559        1994       2  \n",
       "1924560        1985       1  \n",
       "1924561        1987       0  \n",
       "1924562        1992       2  \n",
       "\n",
       "[1924563 rows x 15 columns]"
      ],
      "text/html": "<div>\n<style scoped>\n    .dataframe tbody tr th:only-of-type {\n        vertical-align: middle;\n    }\n\n    .dataframe tbody tr th {\n        vertical-align: top;\n    }\n\n    .dataframe thead th {\n        text-align: right;\n    }\n</style>\n<table border=\"1\" class=\"dataframe\">\n  <thead>\n    <tr style=\"text-align: right;\">\n      <th></th>\n      <th>tripduration</th>\n      <th>starttime</th>\n      <th>stoptime</th>\n      <th>start station id</th>\n      <th>start station name</th>\n      <th>start station latitude</th>\n      <th>start station longitude</th>\n      <th>end station id</th>\n      <th>end station name</th>\n      <th>end station latitude</th>\n      <th>end station longitude</th>\n      <th>bikeid</th>\n      <th>usertype</th>\n      <th>birth year</th>\n      <th>gender</th>\n    </tr>\n  </thead>\n  <tbody>\n    <tr>\n      <th>0</th>\n      <td>139</td>\n      <td>2019-05-01 00:00:01.9010</td>\n      <td>2019-05-01 00:02:21.5170</td>\n      <td>447</td>\n      <td>8 Ave &amp; W 52 St</td>\n      <td>40.763707</td>\n      <td>-73.985162</td>\n      <td>423</td>\n      <td>W 54 St &amp; 9 Ave</td>\n      <td>40.765849</td>\n      <td>-73.986905</td>\n      <td>31170</td>\n      <td>Subscriber</td>\n      <td>1983</td>\n      <td>1</td>\n    </tr>\n    <tr>\n      <th>1</th>\n      <td>754</td>\n      <td>2019-05-01 00:00:03.0210</td>\n      <td>2019-05-01 00:12:37.6920</td>\n      <td>3258</td>\n      <td>W 27 St &amp; 10 Ave</td>\n      <td>40.750182</td>\n      <td>-74.002184</td>\n      <td>3255</td>\n      <td>8 Ave &amp; W 31 St</td>\n      <td>40.750585</td>\n      <td>-73.994685</td>\n      <td>25560</td>\n      <td>Customer</td>\n      <td>1969</td>\n      <td>0</td>\n    </tr>\n    <tr>\n      <th>2</th>\n      <td>2308</td>\n      <td>2019-05-01 00:00:04.6270</td>\n      <td>2019-05-01 00:38:33.1710</td>\n      <td>3093</td>\n      <td>N 6 St &amp; Bedford Ave</td>\n      <td>40.717452</td>\n      <td>-73.958509</td>\n      <td>3676</td>\n      <td>Van Brunt St &amp; Van Dyke St</td>\n      <td>40.675833</td>\n      <td>-74.014726</td>\n      <td>33369</td>\n      <td>Subscriber</td>\n      <td>1978</td>\n      <td>1</td>\n    </tr>\n    <tr>\n      <th>3</th>\n      <td>143</td>\n      <td>2019-05-01 00:00:19.3340</td>\n      <td>2019-05-01 00:02:42.5200</td>\n      <td>3486</td>\n      <td>Schermerhorn St &amp; Bond St</td>\n      <td>40.688417</td>\n      <td>-73.984517</td>\n      <td>3412</td>\n      <td>Pacific St &amp; Nevins St</td>\n      <td>40.685376</td>\n      <td>-73.983021</td>\n      <td>32041</td>\n      <td>Subscriber</td>\n      <td>1997</td>\n      <td>1</td>\n    </tr>\n    <tr>\n      <th>4</th>\n      <td>138</td>\n      <td>2019-05-01 00:00:22.1840</td>\n      <td>2019-05-01 00:02:40.6480</td>\n      <td>388</td>\n      <td>W 26 St &amp; 10 Ave</td>\n      <td>40.749718</td>\n      <td>-74.002950</td>\n      <td>494</td>\n      <td>W 26 St &amp; 8 Ave</td>\n      <td>40.747348</td>\n      <td>-73.997236</td>\n      <td>35237</td>\n      <td>Subscriber</td>\n      <td>1967</td>\n      <td>1</td>\n    </tr>\n    <tr>\n      <th>...</th>\n      <td>...</td>\n      <td>...</td>\n      <td>...</td>\n      <td>...</td>\n      <td>...</td>\n      <td>...</td>\n      <td>...</td>\n      <td>...</td>\n      <td>...</td>\n      <td>...</td>\n      <td>...</td>\n      <td>...</td>\n      <td>...</td>\n      <td>...</td>\n      <td>...</td>\n    </tr>\n    <tr>\n      <th>1924558</th>\n      <td>304</td>\n      <td>2019-05-31 23:59:45.5760</td>\n      <td>2019-06-01 00:04:50.4620</td>\n      <td>3175</td>\n      <td>W 70 St &amp; Amsterdam Ave</td>\n      <td>40.777480</td>\n      <td>-73.982886</td>\n      <td>423</td>\n      <td>W 54 St &amp; 9 Ave</td>\n      <td>40.765849</td>\n      <td>-73.986905</td>\n      <td>32285</td>\n      <td>Subscriber</td>\n      <td>1987</td>\n      <td>2</td>\n    </tr>\n    <tr>\n      <th>1924559</th>\n      <td>324</td>\n      <td>2019-05-31 23:59:46.4650</td>\n      <td>2019-06-01 00:05:11.1630</td>\n      <td>2003</td>\n      <td>1 Ave &amp; E 18 St</td>\n      <td>40.733812</td>\n      <td>-73.980544</td>\n      <td>536</td>\n      <td>1 Ave &amp; E 30 St</td>\n      <td>40.741444</td>\n      <td>-73.975361</td>\n      <td>33874</td>\n      <td>Subscriber</td>\n      <td>1994</td>\n      <td>2</td>\n    </tr>\n    <tr>\n      <th>1924560</th>\n      <td>1926</td>\n      <td>2019-05-31 23:59:51.5060</td>\n      <td>2019-06-01 00:31:58.3920</td>\n      <td>146</td>\n      <td>Hudson St &amp; Reade St</td>\n      <td>40.716250</td>\n      <td>-74.009106</td>\n      <td>422</td>\n      <td>W 59 St &amp; 10 Ave</td>\n      <td>40.770513</td>\n      <td>-73.988038</td>\n      <td>33395</td>\n      <td>Subscriber</td>\n      <td>1985</td>\n      <td>1</td>\n    </tr>\n    <tr>\n      <th>1924561</th>\n      <td>2047</td>\n      <td>2019-05-31 23:59:52.4170</td>\n      <td>2019-06-01 00:34:00.1970</td>\n      <td>3658</td>\n      <td>W 18 St &amp; 9 Ave</td>\n      <td>40.743534</td>\n      <td>-74.003676</td>\n      <td>2008</td>\n      <td>Little West St &amp; 1 Pl</td>\n      <td>40.705693</td>\n      <td>-74.016777</td>\n      <td>27624</td>\n      <td>Subscriber</td>\n      <td>1987</td>\n      <td>0</td>\n    </tr>\n    <tr>\n      <th>1924562</th>\n      <td>964</td>\n      <td>2019-05-31 23:59:55.5500</td>\n      <td>2019-06-01 00:15:59.8680</td>\n      <td>285</td>\n      <td>Broadway &amp; E 14 St</td>\n      <td>40.734546</td>\n      <td>-73.990741</td>\n      <td>3656</td>\n      <td>E 2 St &amp; Avenue A</td>\n      <td>40.723077</td>\n      <td>-73.985836</td>\n      <td>32565</td>\n      <td>Subscriber</td>\n      <td>1992</td>\n      <td>2</td>\n    </tr>\n  </tbody>\n</table>\n<p>1924563 rows × 15 columns</p>\n</div>"
     },
     "metadata": {},
     "execution_count": 2
    }
   ],
   "source": [
    "# Read in 2019 NYC data\n",
    "nyc_may1 = \"NYC/may_2019.csv\"\n",
    "nyc_may1_df = pd.read_csv(nyc_may1)\n",
    "nyc_may1_df"
   ]
  },
  {
   "cell_type": "code",
   "execution_count": 3,
   "metadata": {},
   "outputs": [
    {
     "output_type": "stream",
     "name": "stdout",
     "text": [
      "<class 'pandas.core.frame.DataFrame'>\nRangeIndex: 1924563 entries, 0 to 1924562\nData columns (total 15 columns):\n #   Column                   Dtype  \n---  ------                   -----  \n 0   tripduration             int64  \n 1   starttime                object \n 2   stoptime                 object \n 3   start station id         int64  \n 4   start station name       object \n 5   start station latitude   float64\n 6   start station longitude  float64\n 7   end station id           int64  \n 8   end station name         object \n 9   end station latitude     float64\n 10  end station longitude    float64\n 11  bikeid                   int64  \n 12  usertype                 object \n 13  birth year               int64  \n 14  gender                   int64  \ndtypes: float64(4), int64(6), object(5)\nmemory usage: 220.2+ MB\n"
     ]
    }
   ],
   "source": [
    "# Check May df info\n",
    "nyc_may1_df.info()"
   ]
  },
  {
   "cell_type": "code",
   "execution_count": 4,
   "metadata": {},
   "outputs": [
    {
     "output_type": "execute_result",
     "data": {
      "text/plain": [
       "         tripduration                 starttime                  stoptime  \\\n",
       "0                 336  2020-05-01 00:01:06.3380  2020-05-01 00:06:42.9560   \n",
       "1                 853  2020-05-01 00:01:08.1950  2020-05-01 00:15:21.2150   \n",
       "2                  78  2020-05-01 00:01:08.5260  2020-05-01 00:02:27.0490   \n",
       "3                1185  2020-05-01 00:02:22.4380  2020-05-01 00:22:08.1220   \n",
       "4                 272  2020-05-01 00:02:32.8280  2020-05-01 00:07:05.0880   \n",
       "...               ...                       ...                       ...   \n",
       "1487885           981  2020-05-31 23:59:19.0310  2020-06-01 00:15:40.5590   \n",
       "1487886           367  2020-05-31 23:59:36.2270  2020-06-01 00:05:43.6200   \n",
       "1487887          1798  2020-05-31 23:59:37.7250  2020-06-01 00:29:36.6800   \n",
       "1487888           718  2020-05-31 23:59:47.7090  2020-06-01 00:11:46.5210   \n",
       "1487889          1168  2020-05-31 23:59:48.0660  2020-06-01 00:19:16.4730   \n",
       "\n",
       "         start station id                  start station name  \\\n",
       "0                    2017                     E 43 St & 2 Ave   \n",
       "1                    3376                     E 65 St & 2 Ave   \n",
       "2                     396          Lefferts Pl & Franklin Ave   \n",
       "3                    3630  Frederick Douglass Blvd & W 115 St   \n",
       "4                    3776          Central Ave & Starr Street   \n",
       "...                   ...                                 ...   \n",
       "1487885               313           Washington Ave & Park Ave   \n",
       "1487886               545                     E 23 St & 1 Ave   \n",
       "1487887               450                     W 49 St & 8 Ave   \n",
       "1487888              3691                      28 Ave & 44 St   \n",
       "1487889               467                     Dean St & 4 Ave   \n",
       "\n",
       "         start station latitude  start station longitude  end station id  \\\n",
       "0                     40.750224               -73.971214             465   \n",
       "1                     40.764719               -73.962221             478   \n",
       "2                     40.680342               -73.955769            3789   \n",
       "3                     40.803865               -73.955931            3506   \n",
       "4                     40.700003               -73.928340            3068   \n",
       "...                         ...                      ...             ...   \n",
       "1487885               40.696102               -73.967510             217   \n",
       "1487886               40.736502               -73.978095             501   \n",
       "1487887               40.762272               -73.987882             485   \n",
       "1487888               40.764089               -73.910651            3691   \n",
       "1487889               40.683125               -73.978951             239   \n",
       "\n",
       "                 end station name  end station latitude  \\\n",
       "0              Broadway & W 41 St             40.755136   \n",
       "1                11 Ave & W 41 St             40.760301   \n",
       "2           Fulton St & Irving Pl             40.681860   \n",
       "3        Lexington Ave & E 120 St             40.801307   \n",
       "4          Humboldt St & Varet St             40.703172   \n",
       "...                           ...                   ...   \n",
       "1487885             Old Fulton St             40.702772   \n",
       "1487886       FDR Drive & E 35 St             40.744219   \n",
       "1487887           W 37 St & 5 Ave             40.750380   \n",
       "1487888            28 Ave & 44 St             40.764089   \n",
       "1487889  Willoughby St & Fleet St             40.691966   \n",
       "\n",
       "         end station longitude  bikeid    usertype  birth year  gender  \n",
       "0                   -73.986580   18015  Subscriber        1993       1  \n",
       "1                   -73.998842   35905  Subscriber        1989       1  \n",
       "2                   -73.959432   33350  Subscriber        1938       2  \n",
       "3                   -73.939817   43790  Subscriber        1996       1  \n",
       "4                   -73.940636   39912  Subscriber        1993       1  \n",
       "...                        ...     ...         ...         ...     ...  \n",
       "1487885             -73.993836   43706  Subscriber        1972       2  \n",
       "1487886             -73.971212   41321  Subscriber        1994       2  \n",
       "1487887             -73.983390   37418  Subscriber        1998       1  \n",
       "1487888             -73.910651   41190    Customer        1969       0  \n",
       "1487889             -73.981302   33450    Customer        2000       1  \n",
       "\n",
       "[1487890 rows x 15 columns]"
      ],
      "text/html": "<div>\n<style scoped>\n    .dataframe tbody tr th:only-of-type {\n        vertical-align: middle;\n    }\n\n    .dataframe tbody tr th {\n        vertical-align: top;\n    }\n\n    .dataframe thead th {\n        text-align: right;\n    }\n</style>\n<table border=\"1\" class=\"dataframe\">\n  <thead>\n    <tr style=\"text-align: right;\">\n      <th></th>\n      <th>tripduration</th>\n      <th>starttime</th>\n      <th>stoptime</th>\n      <th>start station id</th>\n      <th>start station name</th>\n      <th>start station latitude</th>\n      <th>start station longitude</th>\n      <th>end station id</th>\n      <th>end station name</th>\n      <th>end station latitude</th>\n      <th>end station longitude</th>\n      <th>bikeid</th>\n      <th>usertype</th>\n      <th>birth year</th>\n      <th>gender</th>\n    </tr>\n  </thead>\n  <tbody>\n    <tr>\n      <th>0</th>\n      <td>336</td>\n      <td>2020-05-01 00:01:06.3380</td>\n      <td>2020-05-01 00:06:42.9560</td>\n      <td>2017</td>\n      <td>E 43 St &amp; 2 Ave</td>\n      <td>40.750224</td>\n      <td>-73.971214</td>\n      <td>465</td>\n      <td>Broadway &amp; W 41 St</td>\n      <td>40.755136</td>\n      <td>-73.986580</td>\n      <td>18015</td>\n      <td>Subscriber</td>\n      <td>1993</td>\n      <td>1</td>\n    </tr>\n    <tr>\n      <th>1</th>\n      <td>853</td>\n      <td>2020-05-01 00:01:08.1950</td>\n      <td>2020-05-01 00:15:21.2150</td>\n      <td>3376</td>\n      <td>E 65 St &amp; 2 Ave</td>\n      <td>40.764719</td>\n      <td>-73.962221</td>\n      <td>478</td>\n      <td>11 Ave &amp; W 41 St</td>\n      <td>40.760301</td>\n      <td>-73.998842</td>\n      <td>35905</td>\n      <td>Subscriber</td>\n      <td>1989</td>\n      <td>1</td>\n    </tr>\n    <tr>\n      <th>2</th>\n      <td>78</td>\n      <td>2020-05-01 00:01:08.5260</td>\n      <td>2020-05-01 00:02:27.0490</td>\n      <td>396</td>\n      <td>Lefferts Pl &amp; Franklin Ave</td>\n      <td>40.680342</td>\n      <td>-73.955769</td>\n      <td>3789</td>\n      <td>Fulton St &amp; Irving Pl</td>\n      <td>40.681860</td>\n      <td>-73.959432</td>\n      <td>33350</td>\n      <td>Subscriber</td>\n      <td>1938</td>\n      <td>2</td>\n    </tr>\n    <tr>\n      <th>3</th>\n      <td>1185</td>\n      <td>2020-05-01 00:02:22.4380</td>\n      <td>2020-05-01 00:22:08.1220</td>\n      <td>3630</td>\n      <td>Frederick Douglass Blvd &amp; W 115 St</td>\n      <td>40.803865</td>\n      <td>-73.955931</td>\n      <td>3506</td>\n      <td>Lexington Ave &amp; E 120 St</td>\n      <td>40.801307</td>\n      <td>-73.939817</td>\n      <td>43790</td>\n      <td>Subscriber</td>\n      <td>1996</td>\n      <td>1</td>\n    </tr>\n    <tr>\n      <th>4</th>\n      <td>272</td>\n      <td>2020-05-01 00:02:32.8280</td>\n      <td>2020-05-01 00:07:05.0880</td>\n      <td>3776</td>\n      <td>Central Ave &amp; Starr Street</td>\n      <td>40.700003</td>\n      <td>-73.928340</td>\n      <td>3068</td>\n      <td>Humboldt St &amp; Varet St</td>\n      <td>40.703172</td>\n      <td>-73.940636</td>\n      <td>39912</td>\n      <td>Subscriber</td>\n      <td>1993</td>\n      <td>1</td>\n    </tr>\n    <tr>\n      <th>...</th>\n      <td>...</td>\n      <td>...</td>\n      <td>...</td>\n      <td>...</td>\n      <td>...</td>\n      <td>...</td>\n      <td>...</td>\n      <td>...</td>\n      <td>...</td>\n      <td>...</td>\n      <td>...</td>\n      <td>...</td>\n      <td>...</td>\n      <td>...</td>\n      <td>...</td>\n    </tr>\n    <tr>\n      <th>1487885</th>\n      <td>981</td>\n      <td>2020-05-31 23:59:19.0310</td>\n      <td>2020-06-01 00:15:40.5590</td>\n      <td>313</td>\n      <td>Washington Ave &amp; Park Ave</td>\n      <td>40.696102</td>\n      <td>-73.967510</td>\n      <td>217</td>\n      <td>Old Fulton St</td>\n      <td>40.702772</td>\n      <td>-73.993836</td>\n      <td>43706</td>\n      <td>Subscriber</td>\n      <td>1972</td>\n      <td>2</td>\n    </tr>\n    <tr>\n      <th>1487886</th>\n      <td>367</td>\n      <td>2020-05-31 23:59:36.2270</td>\n      <td>2020-06-01 00:05:43.6200</td>\n      <td>545</td>\n      <td>E 23 St &amp; 1 Ave</td>\n      <td>40.736502</td>\n      <td>-73.978095</td>\n      <td>501</td>\n      <td>FDR Drive &amp; E 35 St</td>\n      <td>40.744219</td>\n      <td>-73.971212</td>\n      <td>41321</td>\n      <td>Subscriber</td>\n      <td>1994</td>\n      <td>2</td>\n    </tr>\n    <tr>\n      <th>1487887</th>\n      <td>1798</td>\n      <td>2020-05-31 23:59:37.7250</td>\n      <td>2020-06-01 00:29:36.6800</td>\n      <td>450</td>\n      <td>W 49 St &amp; 8 Ave</td>\n      <td>40.762272</td>\n      <td>-73.987882</td>\n      <td>485</td>\n      <td>W 37 St &amp; 5 Ave</td>\n      <td>40.750380</td>\n      <td>-73.983390</td>\n      <td>37418</td>\n      <td>Subscriber</td>\n      <td>1998</td>\n      <td>1</td>\n    </tr>\n    <tr>\n      <th>1487888</th>\n      <td>718</td>\n      <td>2020-05-31 23:59:47.7090</td>\n      <td>2020-06-01 00:11:46.5210</td>\n      <td>3691</td>\n      <td>28 Ave &amp; 44 St</td>\n      <td>40.764089</td>\n      <td>-73.910651</td>\n      <td>3691</td>\n      <td>28 Ave &amp; 44 St</td>\n      <td>40.764089</td>\n      <td>-73.910651</td>\n      <td>41190</td>\n      <td>Customer</td>\n      <td>1969</td>\n      <td>0</td>\n    </tr>\n    <tr>\n      <th>1487889</th>\n      <td>1168</td>\n      <td>2020-05-31 23:59:48.0660</td>\n      <td>2020-06-01 00:19:16.4730</td>\n      <td>467</td>\n      <td>Dean St &amp; 4 Ave</td>\n      <td>40.683125</td>\n      <td>-73.978951</td>\n      <td>239</td>\n      <td>Willoughby St &amp; Fleet St</td>\n      <td>40.691966</td>\n      <td>-73.981302</td>\n      <td>33450</td>\n      <td>Customer</td>\n      <td>2000</td>\n      <td>1</td>\n    </tr>\n  </tbody>\n</table>\n<p>1487890 rows × 15 columns</p>\n</div>"
     },
     "metadata": {},
     "execution_count": 4
    }
   ],
   "source": [
    "nyc_may2 = \"NYC/may_2020.csv\"\n",
    "nyc_may2_df = pd.read_csv(nyc_may2)\n",
    "nyc_may2_df"
   ]
  },
  {
   "cell_type": "code",
   "execution_count": 5,
   "metadata": {},
   "outputs": [
    {
     "output_type": "stream",
     "name": "stdout",
     "text": [
      "<class 'pandas.core.frame.DataFrame'>\nRangeIndex: 1487890 entries, 0 to 1487889\nData columns (total 15 columns):\n #   Column                   Non-Null Count    Dtype  \n---  ------                   --------------    -----  \n 0   tripduration             1487890 non-null  int64  \n 1   starttime                1487890 non-null  object \n 2   stoptime                 1487890 non-null  object \n 3   start station id         1487890 non-null  int64  \n 4   start station name       1487890 non-null  object \n 5   start station latitude   1487890 non-null  float64\n 6   start station longitude  1487890 non-null  float64\n 7   end station id           1487890 non-null  int64  \n 8   end station name         1487890 non-null  object \n 9   end station latitude     1487890 non-null  float64\n 10  end station longitude    1487890 non-null  float64\n 11  bikeid                   1487890 non-null  int64  \n 12  usertype                 1487890 non-null  object \n 13  birth year               1487890 non-null  int64  \n 14  gender                   1487890 non-null  int64  \ndtypes: float64(4), int64(6), object(5)\nmemory usage: 170.3+ MB\n"
     ]
    }
   ],
   "source": [
    "nyc_may2_df.info()"
   ]
  },
  {
   "cell_type": "code",
   "execution_count": 6,
   "metadata": {},
   "outputs": [
    {
     "output_type": "execute_result",
     "data": {
      "text/plain": [
       "         tripduration                 starttime                  stoptime  \\\n",
       "0                 139  2019-05-01 00:00:01.9010  2019-05-01 00:02:21.5170   \n",
       "1                 754  2019-05-01 00:00:03.0210  2019-05-01 00:12:37.6920   \n",
       "2                2308  2019-05-01 00:00:04.6270  2019-05-01 00:38:33.1710   \n",
       "3                 143  2019-05-01 00:00:19.3340  2019-05-01 00:02:42.5200   \n",
       "4                 138  2019-05-01 00:00:22.1840  2019-05-01 00:02:40.6480   \n",
       "...               ...                       ...                       ...   \n",
       "1487885           981  2020-05-31 23:59:19.0310  2020-06-01 00:15:40.5590   \n",
       "1487886           367  2020-05-31 23:59:36.2270  2020-06-01 00:05:43.6200   \n",
       "1487887          1798  2020-05-31 23:59:37.7250  2020-06-01 00:29:36.6800   \n",
       "1487888           718  2020-05-31 23:59:47.7090  2020-06-01 00:11:46.5210   \n",
       "1487889          1168  2020-05-31 23:59:48.0660  2020-06-01 00:19:16.4730   \n",
       "\n",
       "         start station id         start station name  start station latitude  \\\n",
       "0                     447            8 Ave & W 52 St               40.763707   \n",
       "1                    3258           W 27 St & 10 Ave               40.750182   \n",
       "2                    3093       N 6 St & Bedford Ave               40.717452   \n",
       "3                    3486  Schermerhorn St & Bond St               40.688417   \n",
       "4                     388           W 26 St & 10 Ave               40.749718   \n",
       "...                   ...                        ...                     ...   \n",
       "1487885               313  Washington Ave & Park Ave               40.696102   \n",
       "1487886               545            E 23 St & 1 Ave               40.736502   \n",
       "1487887               450            W 49 St & 8 Ave               40.762272   \n",
       "1487888              3691             28 Ave & 44 St               40.764089   \n",
       "1487889               467            Dean St & 4 Ave               40.683125   \n",
       "\n",
       "         start station longitude  end station id            end station name  \\\n",
       "0                     -73.985162             423             W 54 St & 9 Ave   \n",
       "1                     -74.002184            3255             8 Ave & W 31 St   \n",
       "2                     -73.958509            3676  Van Brunt St & Van Dyke St   \n",
       "3                     -73.984517            3412      Pacific St & Nevins St   \n",
       "4                     -74.002950             494             W 26 St & 8 Ave   \n",
       "...                          ...             ...                         ...   \n",
       "1487885               -73.967510             217               Old Fulton St   \n",
       "1487886               -73.978095             501         FDR Drive & E 35 St   \n",
       "1487887               -73.987882             485             W 37 St & 5 Ave   \n",
       "1487888               -73.910651            3691              28 Ave & 44 St   \n",
       "1487889               -73.978951             239    Willoughby St & Fleet St   \n",
       "\n",
       "         end station latitude  end station longitude  bikeid    usertype  \\\n",
       "0                   40.765849             -73.986905   31170  Subscriber   \n",
       "1                   40.750585             -73.994685   25560    Customer   \n",
       "2                   40.675833             -74.014726   33369  Subscriber   \n",
       "3                   40.685376             -73.983021   32041  Subscriber   \n",
       "4                   40.747348             -73.997236   35237  Subscriber   \n",
       "...                       ...                    ...     ...         ...   \n",
       "1487885             40.702772             -73.993836   43706  Subscriber   \n",
       "1487886             40.744219             -73.971212   41321  Subscriber   \n",
       "1487887             40.750380             -73.983390   37418  Subscriber   \n",
       "1487888             40.764089             -73.910651   41190    Customer   \n",
       "1487889             40.691966             -73.981302   33450    Customer   \n",
       "\n",
       "         birth year  gender  \n",
       "0              1983       1  \n",
       "1              1969       0  \n",
       "2              1978       1  \n",
       "3              1997       1  \n",
       "4              1967       1  \n",
       "...             ...     ...  \n",
       "1487885        1972       2  \n",
       "1487886        1994       2  \n",
       "1487887        1998       1  \n",
       "1487888        1969       0  \n",
       "1487889        2000       1  \n",
       "\n",
       "[3412453 rows x 15 columns]"
      ],
      "text/html": "<div>\n<style scoped>\n    .dataframe tbody tr th:only-of-type {\n        vertical-align: middle;\n    }\n\n    .dataframe tbody tr th {\n        vertical-align: top;\n    }\n\n    .dataframe thead th {\n        text-align: right;\n    }\n</style>\n<table border=\"1\" class=\"dataframe\">\n  <thead>\n    <tr style=\"text-align: right;\">\n      <th></th>\n      <th>tripduration</th>\n      <th>starttime</th>\n      <th>stoptime</th>\n      <th>start station id</th>\n      <th>start station name</th>\n      <th>start station latitude</th>\n      <th>start station longitude</th>\n      <th>end station id</th>\n      <th>end station name</th>\n      <th>end station latitude</th>\n      <th>end station longitude</th>\n      <th>bikeid</th>\n      <th>usertype</th>\n      <th>birth year</th>\n      <th>gender</th>\n    </tr>\n  </thead>\n  <tbody>\n    <tr>\n      <th>0</th>\n      <td>139</td>\n      <td>2019-05-01 00:00:01.9010</td>\n      <td>2019-05-01 00:02:21.5170</td>\n      <td>447</td>\n      <td>8 Ave &amp; W 52 St</td>\n      <td>40.763707</td>\n      <td>-73.985162</td>\n      <td>423</td>\n      <td>W 54 St &amp; 9 Ave</td>\n      <td>40.765849</td>\n      <td>-73.986905</td>\n      <td>31170</td>\n      <td>Subscriber</td>\n      <td>1983</td>\n      <td>1</td>\n    </tr>\n    <tr>\n      <th>1</th>\n      <td>754</td>\n      <td>2019-05-01 00:00:03.0210</td>\n      <td>2019-05-01 00:12:37.6920</td>\n      <td>3258</td>\n      <td>W 27 St &amp; 10 Ave</td>\n      <td>40.750182</td>\n      <td>-74.002184</td>\n      <td>3255</td>\n      <td>8 Ave &amp; W 31 St</td>\n      <td>40.750585</td>\n      <td>-73.994685</td>\n      <td>25560</td>\n      <td>Customer</td>\n      <td>1969</td>\n      <td>0</td>\n    </tr>\n    <tr>\n      <th>2</th>\n      <td>2308</td>\n      <td>2019-05-01 00:00:04.6270</td>\n      <td>2019-05-01 00:38:33.1710</td>\n      <td>3093</td>\n      <td>N 6 St &amp; Bedford Ave</td>\n      <td>40.717452</td>\n      <td>-73.958509</td>\n      <td>3676</td>\n      <td>Van Brunt St &amp; Van Dyke St</td>\n      <td>40.675833</td>\n      <td>-74.014726</td>\n      <td>33369</td>\n      <td>Subscriber</td>\n      <td>1978</td>\n      <td>1</td>\n    </tr>\n    <tr>\n      <th>3</th>\n      <td>143</td>\n      <td>2019-05-01 00:00:19.3340</td>\n      <td>2019-05-01 00:02:42.5200</td>\n      <td>3486</td>\n      <td>Schermerhorn St &amp; Bond St</td>\n      <td>40.688417</td>\n      <td>-73.984517</td>\n      <td>3412</td>\n      <td>Pacific St &amp; Nevins St</td>\n      <td>40.685376</td>\n      <td>-73.983021</td>\n      <td>32041</td>\n      <td>Subscriber</td>\n      <td>1997</td>\n      <td>1</td>\n    </tr>\n    <tr>\n      <th>4</th>\n      <td>138</td>\n      <td>2019-05-01 00:00:22.1840</td>\n      <td>2019-05-01 00:02:40.6480</td>\n      <td>388</td>\n      <td>W 26 St &amp; 10 Ave</td>\n      <td>40.749718</td>\n      <td>-74.002950</td>\n      <td>494</td>\n      <td>W 26 St &amp; 8 Ave</td>\n      <td>40.747348</td>\n      <td>-73.997236</td>\n      <td>35237</td>\n      <td>Subscriber</td>\n      <td>1967</td>\n      <td>1</td>\n    </tr>\n    <tr>\n      <th>...</th>\n      <td>...</td>\n      <td>...</td>\n      <td>...</td>\n      <td>...</td>\n      <td>...</td>\n      <td>...</td>\n      <td>...</td>\n      <td>...</td>\n      <td>...</td>\n      <td>...</td>\n      <td>...</td>\n      <td>...</td>\n      <td>...</td>\n      <td>...</td>\n      <td>...</td>\n    </tr>\n    <tr>\n      <th>1487885</th>\n      <td>981</td>\n      <td>2020-05-31 23:59:19.0310</td>\n      <td>2020-06-01 00:15:40.5590</td>\n      <td>313</td>\n      <td>Washington Ave &amp; Park Ave</td>\n      <td>40.696102</td>\n      <td>-73.967510</td>\n      <td>217</td>\n      <td>Old Fulton St</td>\n      <td>40.702772</td>\n      <td>-73.993836</td>\n      <td>43706</td>\n      <td>Subscriber</td>\n      <td>1972</td>\n      <td>2</td>\n    </tr>\n    <tr>\n      <th>1487886</th>\n      <td>367</td>\n      <td>2020-05-31 23:59:36.2270</td>\n      <td>2020-06-01 00:05:43.6200</td>\n      <td>545</td>\n      <td>E 23 St &amp; 1 Ave</td>\n      <td>40.736502</td>\n      <td>-73.978095</td>\n      <td>501</td>\n      <td>FDR Drive &amp; E 35 St</td>\n      <td>40.744219</td>\n      <td>-73.971212</td>\n      <td>41321</td>\n      <td>Subscriber</td>\n      <td>1994</td>\n      <td>2</td>\n    </tr>\n    <tr>\n      <th>1487887</th>\n      <td>1798</td>\n      <td>2020-05-31 23:59:37.7250</td>\n      <td>2020-06-01 00:29:36.6800</td>\n      <td>450</td>\n      <td>W 49 St &amp; 8 Ave</td>\n      <td>40.762272</td>\n      <td>-73.987882</td>\n      <td>485</td>\n      <td>W 37 St &amp; 5 Ave</td>\n      <td>40.750380</td>\n      <td>-73.983390</td>\n      <td>37418</td>\n      <td>Subscriber</td>\n      <td>1998</td>\n      <td>1</td>\n    </tr>\n    <tr>\n      <th>1487888</th>\n      <td>718</td>\n      <td>2020-05-31 23:59:47.7090</td>\n      <td>2020-06-01 00:11:46.5210</td>\n      <td>3691</td>\n      <td>28 Ave &amp; 44 St</td>\n      <td>40.764089</td>\n      <td>-73.910651</td>\n      <td>3691</td>\n      <td>28 Ave &amp; 44 St</td>\n      <td>40.764089</td>\n      <td>-73.910651</td>\n      <td>41190</td>\n      <td>Customer</td>\n      <td>1969</td>\n      <td>0</td>\n    </tr>\n    <tr>\n      <th>1487889</th>\n      <td>1168</td>\n      <td>2020-05-31 23:59:48.0660</td>\n      <td>2020-06-01 00:19:16.4730</td>\n      <td>467</td>\n      <td>Dean St &amp; 4 Ave</td>\n      <td>40.683125</td>\n      <td>-73.978951</td>\n      <td>239</td>\n      <td>Willoughby St &amp; Fleet St</td>\n      <td>40.691966</td>\n      <td>-73.981302</td>\n      <td>33450</td>\n      <td>Customer</td>\n      <td>2000</td>\n      <td>1</td>\n    </tr>\n  </tbody>\n</table>\n<p>3412453 rows × 15 columns</p>\n</div>"
     },
     "metadata": {},
     "execution_count": 6
    }
   ],
   "source": [
    "nyc_may_df = pd.concat([nyc_may1_df, nyc_may2_df],0)\n",
    "nyc_may_df"
   ]
  },
  {
   "cell_type": "code",
   "execution_count": 7,
   "metadata": {},
   "outputs": [
    {
     "output_type": "stream",
     "name": "stdout",
     "text": [
      "<class 'pandas.core.frame.DataFrame'>\nInt64Index: 3412453 entries, 0 to 1487889\nData columns (total 15 columns):\n #   Column                   Dtype  \n---  ------                   -----  \n 0   tripduration             int64  \n 1   starttime                object \n 2   stoptime                 object \n 3   start station id         int64  \n 4   start station name       object \n 5   start station latitude   float64\n 6   start station longitude  float64\n 7   end station id           int64  \n 8   end station name         object \n 9   end station latitude     float64\n 10  end station longitude    float64\n 11  bikeid                   int64  \n 12  usertype                 object \n 13  birth year               int64  \n 14  gender                   int64  \ndtypes: float64(4), int64(6), object(5)\nmemory usage: 416.6+ MB\n"
     ]
    }
   ],
   "source": [
    "nyc_may_df.info()"
   ]
  },
  {
   "cell_type": "code",
   "execution_count": 8,
   "metadata": {},
   "outputs": [
    {
     "output_type": "execute_result",
     "data": {
      "text/plain": [
       "         tripduration                 starttime                  stoptime  \\\n",
       "0                 330  2019-06-01 00:00:01.5000  2019-06-01 00:05:31.7600   \n",
       "1                 830  2019-06-01 00:00:04.2400  2019-06-01 00:13:55.1470   \n",
       "2                 380  2019-06-01 00:00:06.0190  2019-06-01 00:06:26.7790   \n",
       "3                1155  2019-06-01 00:00:06.7760  2019-06-01 00:19:22.5380   \n",
       "4                1055  2019-06-01 00:00:07.5200  2019-06-01 00:17:42.5580   \n",
       "...               ...                       ...                       ...   \n",
       "2125365           232  2019-06-30 23:59:32.8920  2019-07-01 00:03:25.6310   \n",
       "2125366           477  2019-06-30 23:59:33.6990  2019-07-01 00:07:31.0440   \n",
       "2125367           300  2019-06-30 23:59:47.4050  2019-07-01 00:04:48.1850   \n",
       "2125368           906  2019-06-30 23:59:51.5980  2019-07-01 00:14:58.3210   \n",
       "2125369          1270  2019-06-30 23:59:54.3670  2019-07-01 00:21:05.2750   \n",
       "\n",
       "         start station id              start station name  \\\n",
       "0                    3602                  31 Ave & 34 St   \n",
       "1                    3054         Greene Ave & Throop Ave   \n",
       "2                     229                  Great Jones St   \n",
       "3                    3771         McKibbin St & Bogart St   \n",
       "4                     441                 E 52 St & 2 Ave   \n",
       "...                   ...                             ...   \n",
       "2125365              3113  Greenpoint Ave & Manhattan Ave   \n",
       "2125366               445              E 10 St & Avenue A   \n",
       "2125367              3307          West End Ave & W 94 St   \n",
       "2125368               402              Broadway & E 22 St   \n",
       "2125369              3788                  E 12 St & 4 Av   \n",
       "\n",
       "         start station latitude  start station longitude  end station id  \\\n",
       "0                     40.763154               -73.920827            3570   \n",
       "1                     40.689493               -73.942061            3781   \n",
       "2                     40.727434               -73.993790             326   \n",
       "3                     40.706237               -73.933871            3016   \n",
       "4                     40.756014               -73.967416            3159   \n",
       "...                         ...                      ...             ...   \n",
       "2125365               40.730260               -73.953940            3107   \n",
       "2125366               40.727408               -73.981420            3737   \n",
       "2125367               40.794165               -73.974124            3320   \n",
       "2125368               40.740343               -73.989551             400   \n",
       "2125369               40.732690               -73.989740             326   \n",
       "\n",
       "                     end station name  end station latitude  \\\n",
       "0                      35 Ave & 37 St             40.755733   \n",
       "1               Greene Av & Myrtle Av             40.698568   \n",
       "2                     E 11 St & 1 Ave             40.729538   \n",
       "3                   Kent Ave & N 7 St             40.720368   \n",
       "4                  W 67 St & Broadway             40.774925   \n",
       "...                               ...                   ...   \n",
       "2125365      Bedford Ave & Nassau Ave             40.723117   \n",
       "2125366       Stanton St & Norfolk St             40.720747   \n",
       "2125367  Central Park West & W 100 St             40.794067   \n",
       "2125368          Pitt St & Stanton St             40.719261   \n",
       "2125369               E 11 St & 1 Ave             40.729538   \n",
       "\n",
       "         end station longitude  bikeid    usertype  birth year  gender  \n",
       "0                   -73.923661   20348  Subscriber        1992       1  \n",
       "1                   -73.918877   34007  Subscriber        1987       2  \n",
       "2                   -73.984267   20587  Subscriber        1990       2  \n",
       "3                   -73.961651   33762  Subscriber        1987       1  \n",
       "4                   -73.982666   31290  Subscriber        1973       1  \n",
       "...                        ...     ...         ...         ...     ...  \n",
       "2125365             -73.952123   25779  Subscriber        1972       1  \n",
       "2125366             -73.986274   39522  Subscriber        1981       2  \n",
       "2125367             -73.962868   26730  Subscriber        1981       1  \n",
       "2125368             -73.981780   38286  Subscriber        1996       1  \n",
       "2125369             -73.984267   38742  Subscriber        1967       1  \n",
       "\n",
       "[2125370 rows x 15 columns]"
      ],
      "text/html": "<div>\n<style scoped>\n    .dataframe tbody tr th:only-of-type {\n        vertical-align: middle;\n    }\n\n    .dataframe tbody tr th {\n        vertical-align: top;\n    }\n\n    .dataframe thead th {\n        text-align: right;\n    }\n</style>\n<table border=\"1\" class=\"dataframe\">\n  <thead>\n    <tr style=\"text-align: right;\">\n      <th></th>\n      <th>tripduration</th>\n      <th>starttime</th>\n      <th>stoptime</th>\n      <th>start station id</th>\n      <th>start station name</th>\n      <th>start station latitude</th>\n      <th>start station longitude</th>\n      <th>end station id</th>\n      <th>end station name</th>\n      <th>end station latitude</th>\n      <th>end station longitude</th>\n      <th>bikeid</th>\n      <th>usertype</th>\n      <th>birth year</th>\n      <th>gender</th>\n    </tr>\n  </thead>\n  <tbody>\n    <tr>\n      <th>0</th>\n      <td>330</td>\n      <td>2019-06-01 00:00:01.5000</td>\n      <td>2019-06-01 00:05:31.7600</td>\n      <td>3602</td>\n      <td>31 Ave &amp; 34 St</td>\n      <td>40.763154</td>\n      <td>-73.920827</td>\n      <td>3570</td>\n      <td>35 Ave &amp; 37 St</td>\n      <td>40.755733</td>\n      <td>-73.923661</td>\n      <td>20348</td>\n      <td>Subscriber</td>\n      <td>1992</td>\n      <td>1</td>\n    </tr>\n    <tr>\n      <th>1</th>\n      <td>830</td>\n      <td>2019-06-01 00:00:04.2400</td>\n      <td>2019-06-01 00:13:55.1470</td>\n      <td>3054</td>\n      <td>Greene Ave &amp; Throop Ave</td>\n      <td>40.689493</td>\n      <td>-73.942061</td>\n      <td>3781</td>\n      <td>Greene Av &amp; Myrtle Av</td>\n      <td>40.698568</td>\n      <td>-73.918877</td>\n      <td>34007</td>\n      <td>Subscriber</td>\n      <td>1987</td>\n      <td>2</td>\n    </tr>\n    <tr>\n      <th>2</th>\n      <td>380</td>\n      <td>2019-06-01 00:00:06.0190</td>\n      <td>2019-06-01 00:06:26.7790</td>\n      <td>229</td>\n      <td>Great Jones St</td>\n      <td>40.727434</td>\n      <td>-73.993790</td>\n      <td>326</td>\n      <td>E 11 St &amp; 1 Ave</td>\n      <td>40.729538</td>\n      <td>-73.984267</td>\n      <td>20587</td>\n      <td>Subscriber</td>\n      <td>1990</td>\n      <td>2</td>\n    </tr>\n    <tr>\n      <th>3</th>\n      <td>1155</td>\n      <td>2019-06-01 00:00:06.7760</td>\n      <td>2019-06-01 00:19:22.5380</td>\n      <td>3771</td>\n      <td>McKibbin St &amp; Bogart St</td>\n      <td>40.706237</td>\n      <td>-73.933871</td>\n      <td>3016</td>\n      <td>Kent Ave &amp; N 7 St</td>\n      <td>40.720368</td>\n      <td>-73.961651</td>\n      <td>33762</td>\n      <td>Subscriber</td>\n      <td>1987</td>\n      <td>1</td>\n    </tr>\n    <tr>\n      <th>4</th>\n      <td>1055</td>\n      <td>2019-06-01 00:00:07.5200</td>\n      <td>2019-06-01 00:17:42.5580</td>\n      <td>441</td>\n      <td>E 52 St &amp; 2 Ave</td>\n      <td>40.756014</td>\n      <td>-73.967416</td>\n      <td>3159</td>\n      <td>W 67 St &amp; Broadway</td>\n      <td>40.774925</td>\n      <td>-73.982666</td>\n      <td>31290</td>\n      <td>Subscriber</td>\n      <td>1973</td>\n      <td>1</td>\n    </tr>\n    <tr>\n      <th>...</th>\n      <td>...</td>\n      <td>...</td>\n      <td>...</td>\n      <td>...</td>\n      <td>...</td>\n      <td>...</td>\n      <td>...</td>\n      <td>...</td>\n      <td>...</td>\n      <td>...</td>\n      <td>...</td>\n      <td>...</td>\n      <td>...</td>\n      <td>...</td>\n      <td>...</td>\n    </tr>\n    <tr>\n      <th>2125365</th>\n      <td>232</td>\n      <td>2019-06-30 23:59:32.8920</td>\n      <td>2019-07-01 00:03:25.6310</td>\n      <td>3113</td>\n      <td>Greenpoint Ave &amp; Manhattan Ave</td>\n      <td>40.730260</td>\n      <td>-73.953940</td>\n      <td>3107</td>\n      <td>Bedford Ave &amp; Nassau Ave</td>\n      <td>40.723117</td>\n      <td>-73.952123</td>\n      <td>25779</td>\n      <td>Subscriber</td>\n      <td>1972</td>\n      <td>1</td>\n    </tr>\n    <tr>\n      <th>2125366</th>\n      <td>477</td>\n      <td>2019-06-30 23:59:33.6990</td>\n      <td>2019-07-01 00:07:31.0440</td>\n      <td>445</td>\n      <td>E 10 St &amp; Avenue A</td>\n      <td>40.727408</td>\n      <td>-73.981420</td>\n      <td>3737</td>\n      <td>Stanton St &amp; Norfolk St</td>\n      <td>40.720747</td>\n      <td>-73.986274</td>\n      <td>39522</td>\n      <td>Subscriber</td>\n      <td>1981</td>\n      <td>2</td>\n    </tr>\n    <tr>\n      <th>2125367</th>\n      <td>300</td>\n      <td>2019-06-30 23:59:47.4050</td>\n      <td>2019-07-01 00:04:48.1850</td>\n      <td>3307</td>\n      <td>West End Ave &amp; W 94 St</td>\n      <td>40.794165</td>\n      <td>-73.974124</td>\n      <td>3320</td>\n      <td>Central Park West &amp; W 100 St</td>\n      <td>40.794067</td>\n      <td>-73.962868</td>\n      <td>26730</td>\n      <td>Subscriber</td>\n      <td>1981</td>\n      <td>1</td>\n    </tr>\n    <tr>\n      <th>2125368</th>\n      <td>906</td>\n      <td>2019-06-30 23:59:51.5980</td>\n      <td>2019-07-01 00:14:58.3210</td>\n      <td>402</td>\n      <td>Broadway &amp; E 22 St</td>\n      <td>40.740343</td>\n      <td>-73.989551</td>\n      <td>400</td>\n      <td>Pitt St &amp; Stanton St</td>\n      <td>40.719261</td>\n      <td>-73.981780</td>\n      <td>38286</td>\n      <td>Subscriber</td>\n      <td>1996</td>\n      <td>1</td>\n    </tr>\n    <tr>\n      <th>2125369</th>\n      <td>1270</td>\n      <td>2019-06-30 23:59:54.3670</td>\n      <td>2019-07-01 00:21:05.2750</td>\n      <td>3788</td>\n      <td>E 12 St &amp; 4 Av</td>\n      <td>40.732690</td>\n      <td>-73.989740</td>\n      <td>326</td>\n      <td>E 11 St &amp; 1 Ave</td>\n      <td>40.729538</td>\n      <td>-73.984267</td>\n      <td>38742</td>\n      <td>Subscriber</td>\n      <td>1967</td>\n      <td>1</td>\n    </tr>\n  </tbody>\n</table>\n<p>2125370 rows × 15 columns</p>\n</div>"
     },
     "metadata": {},
     "execution_count": 8
    }
   ],
   "source": [
    "nyc_june1 = \"NYC/june_2019.csv\"\n",
    "nyc_june1_df = pd.read_csv(nyc_june1)\n",
    "nyc_june1_df"
   ]
  },
  {
   "cell_type": "code",
   "execution_count": 9,
   "metadata": {},
   "outputs": [
    {
     "output_type": "stream",
     "name": "stdout",
     "text": [
      "<class 'pandas.core.frame.DataFrame'>\nRangeIndex: 2125370 entries, 0 to 2125369\nData columns (total 15 columns):\n #   Column                   Dtype  \n---  ------                   -----  \n 0   tripduration             int64  \n 1   starttime                object \n 2   stoptime                 object \n 3   start station id         int64  \n 4   start station name       object \n 5   start station latitude   float64\n 6   start station longitude  float64\n 7   end station id           int64  \n 8   end station name         object \n 9   end station latitude     float64\n 10  end station longitude    float64\n 11  bikeid                   int64  \n 12  usertype                 object \n 13  birth year               int64  \n 14  gender                   int64  \ndtypes: float64(4), int64(6), object(5)\nmemory usage: 243.2+ MB\n"
     ]
    }
   ],
   "source": [
    "nyc_june1_df.info()"
   ]
  },
  {
   "cell_type": "code",
   "execution_count": 10,
   "metadata": {},
   "outputs": [
    {
     "output_type": "execute_result",
     "data": {
      "text/plain": [
       "         tripduration                 starttime                  stoptime  \\\n",
       "0                1062  2020-06-01 00:00:03.3720  2020-06-01 00:17:46.2080   \n",
       "1                3810  2020-06-01 00:00:03.5530  2020-06-01 01:03:33.9360   \n",
       "2                1017  2020-06-01 00:00:09.6140  2020-06-01 00:17:06.8330   \n",
       "3                 226  2020-06-01 00:00:12.1780  2020-06-01 00:03:58.8640   \n",
       "4                1437  2020-06-01 00:00:21.2550  2020-06-01 00:24:18.9650   \n",
       "...               ...                       ...                       ...   \n",
       "1882268           685  2020-06-30 23:59:41.1160  2020-07-01 00:11:06.7790   \n",
       "1882269           446  2020-06-30 23:59:46.4260  2020-07-01 00:07:13.0860   \n",
       "1882270           439  2020-06-30 23:59:47.4770  2020-07-01 00:07:06.5590   \n",
       "1882271           890  2020-06-30 23:59:53.3950  2020-07-01 00:14:43.4270   \n",
       "1882272           433  2020-06-30 23:59:53.9010  2020-07-01 00:07:07.0950   \n",
       "\n",
       "         start station id         start station name  start station latitude  \\\n",
       "0                    3419        Douglass St & 4 Ave               40.679279   \n",
       "1                     366   Clinton Ave & Myrtle Ave               40.693261   \n",
       "2                     389        Broadway & Berry St               40.710446   \n",
       "3                    3255            8 Ave & W 31 St               40.750585   \n",
       "4                     367    E 53 St & Lexington Ave               40.758281   \n",
       "...                   ...                        ...                     ...   \n",
       "1882268               503         E 20 St & Park Ave               40.738274   \n",
       "1882269              3699            W 50 St & 9 Ave               40.763605   \n",
       "1882270              3699            W 50 St & 9 Ave               40.763605   \n",
       "1882271              3852  Stewart Ave & Johnson Ave               40.708690   \n",
       "1882272               324    DeKalb Ave & Hudson Ave               40.689888   \n",
       "\n",
       "         start station longitude  end station id             end station name  \\\n",
       "0                     -73.981540            3419          Douglass St & 4 Ave   \n",
       "1                     -73.968896             336  Sullivan St & Washington Sq   \n",
       "2                     -73.965251            3562   Classon Ave & St Marks Ave   \n",
       "3                     -73.994685             505              6 Ave & W 33 St   \n",
       "4                     -73.970694             497           E 17 St & Broadway   \n",
       "...                          ...             ...                          ...   \n",
       "1882268               -73.987520            3746            6 Ave & Broome St   \n",
       "1882269               -73.989180             523              W 38 St & 8 Ave   \n",
       "1882270               -73.989180             523              W 38 St & 8 Ave   \n",
       "1882271               -73.925870            3054      Greene Ave & Throop Ave   \n",
       "1882272               -73.981013             261         Johnson St & Gold St   \n",
       "\n",
       "         end station latitude  end station longitude  bikeid    usertype  \\\n",
       "0                   40.679279             -73.981540   39852    Customer   \n",
       "1                   40.730477             -73.999061   37558  Subscriber   \n",
       "2                   40.676520             -73.959608   37512    Customer   \n",
       "3                   40.749013             -73.988484   39674    Customer   \n",
       "4                   40.737050             -73.990093   21093    Customer   \n",
       "...                       ...                    ...     ...         ...   \n",
       "1882268             40.724308             -74.004730   21056    Customer   \n",
       "1882269             40.754666             -73.991382   30164    Customer   \n",
       "1882270             40.754666             -73.991382   43742    Customer   \n",
       "1882271             40.689493             -73.942061   15787  Subscriber   \n",
       "1882272             40.694749             -73.983625   38767    Customer   \n",
       "\n",
       "         birth year  gender  \n",
       "0              1997       2  \n",
       "1              1969       0  \n",
       "2              1988       2  \n",
       "3              1969       0  \n",
       "4              1997       2  \n",
       "...             ...     ...  \n",
       "1882268        1993       2  \n",
       "1882269        1969       0  \n",
       "1882270        1986       1  \n",
       "1882271        1994       1  \n",
       "1882272        1990       1  \n",
       "\n",
       "[1882273 rows x 15 columns]"
      ],
      "text/html": "<div>\n<style scoped>\n    .dataframe tbody tr th:only-of-type {\n        vertical-align: middle;\n    }\n\n    .dataframe tbody tr th {\n        vertical-align: top;\n    }\n\n    .dataframe thead th {\n        text-align: right;\n    }\n</style>\n<table border=\"1\" class=\"dataframe\">\n  <thead>\n    <tr style=\"text-align: right;\">\n      <th></th>\n      <th>tripduration</th>\n      <th>starttime</th>\n      <th>stoptime</th>\n      <th>start station id</th>\n      <th>start station name</th>\n      <th>start station latitude</th>\n      <th>start station longitude</th>\n      <th>end station id</th>\n      <th>end station name</th>\n      <th>end station latitude</th>\n      <th>end station longitude</th>\n      <th>bikeid</th>\n      <th>usertype</th>\n      <th>birth year</th>\n      <th>gender</th>\n    </tr>\n  </thead>\n  <tbody>\n    <tr>\n      <th>0</th>\n      <td>1062</td>\n      <td>2020-06-01 00:00:03.3720</td>\n      <td>2020-06-01 00:17:46.2080</td>\n      <td>3419</td>\n      <td>Douglass St &amp; 4 Ave</td>\n      <td>40.679279</td>\n      <td>-73.981540</td>\n      <td>3419</td>\n      <td>Douglass St &amp; 4 Ave</td>\n      <td>40.679279</td>\n      <td>-73.981540</td>\n      <td>39852</td>\n      <td>Customer</td>\n      <td>1997</td>\n      <td>2</td>\n    </tr>\n    <tr>\n      <th>1</th>\n      <td>3810</td>\n      <td>2020-06-01 00:00:03.5530</td>\n      <td>2020-06-01 01:03:33.9360</td>\n      <td>366</td>\n      <td>Clinton Ave &amp; Myrtle Ave</td>\n      <td>40.693261</td>\n      <td>-73.968896</td>\n      <td>336</td>\n      <td>Sullivan St &amp; Washington Sq</td>\n      <td>40.730477</td>\n      <td>-73.999061</td>\n      <td>37558</td>\n      <td>Subscriber</td>\n      <td>1969</td>\n      <td>0</td>\n    </tr>\n    <tr>\n      <th>2</th>\n      <td>1017</td>\n      <td>2020-06-01 00:00:09.6140</td>\n      <td>2020-06-01 00:17:06.8330</td>\n      <td>389</td>\n      <td>Broadway &amp; Berry St</td>\n      <td>40.710446</td>\n      <td>-73.965251</td>\n      <td>3562</td>\n      <td>Classon Ave &amp; St Marks Ave</td>\n      <td>40.676520</td>\n      <td>-73.959608</td>\n      <td>37512</td>\n      <td>Customer</td>\n      <td>1988</td>\n      <td>2</td>\n    </tr>\n    <tr>\n      <th>3</th>\n      <td>226</td>\n      <td>2020-06-01 00:00:12.1780</td>\n      <td>2020-06-01 00:03:58.8640</td>\n      <td>3255</td>\n      <td>8 Ave &amp; W 31 St</td>\n      <td>40.750585</td>\n      <td>-73.994685</td>\n      <td>505</td>\n      <td>6 Ave &amp; W 33 St</td>\n      <td>40.749013</td>\n      <td>-73.988484</td>\n      <td>39674</td>\n      <td>Customer</td>\n      <td>1969</td>\n      <td>0</td>\n    </tr>\n    <tr>\n      <th>4</th>\n      <td>1437</td>\n      <td>2020-06-01 00:00:21.2550</td>\n      <td>2020-06-01 00:24:18.9650</td>\n      <td>367</td>\n      <td>E 53 St &amp; Lexington Ave</td>\n      <td>40.758281</td>\n      <td>-73.970694</td>\n      <td>497</td>\n      <td>E 17 St &amp; Broadway</td>\n      <td>40.737050</td>\n      <td>-73.990093</td>\n      <td>21093</td>\n      <td>Customer</td>\n      <td>1997</td>\n      <td>2</td>\n    </tr>\n    <tr>\n      <th>...</th>\n      <td>...</td>\n      <td>...</td>\n      <td>...</td>\n      <td>...</td>\n      <td>...</td>\n      <td>...</td>\n      <td>...</td>\n      <td>...</td>\n      <td>...</td>\n      <td>...</td>\n      <td>...</td>\n      <td>...</td>\n      <td>...</td>\n      <td>...</td>\n      <td>...</td>\n    </tr>\n    <tr>\n      <th>1882268</th>\n      <td>685</td>\n      <td>2020-06-30 23:59:41.1160</td>\n      <td>2020-07-01 00:11:06.7790</td>\n      <td>503</td>\n      <td>E 20 St &amp; Park Ave</td>\n      <td>40.738274</td>\n      <td>-73.987520</td>\n      <td>3746</td>\n      <td>6 Ave &amp; Broome St</td>\n      <td>40.724308</td>\n      <td>-74.004730</td>\n      <td>21056</td>\n      <td>Customer</td>\n      <td>1993</td>\n      <td>2</td>\n    </tr>\n    <tr>\n      <th>1882269</th>\n      <td>446</td>\n      <td>2020-06-30 23:59:46.4260</td>\n      <td>2020-07-01 00:07:13.0860</td>\n      <td>3699</td>\n      <td>W 50 St &amp; 9 Ave</td>\n      <td>40.763605</td>\n      <td>-73.989180</td>\n      <td>523</td>\n      <td>W 38 St &amp; 8 Ave</td>\n      <td>40.754666</td>\n      <td>-73.991382</td>\n      <td>30164</td>\n      <td>Customer</td>\n      <td>1969</td>\n      <td>0</td>\n    </tr>\n    <tr>\n      <th>1882270</th>\n      <td>439</td>\n      <td>2020-06-30 23:59:47.4770</td>\n      <td>2020-07-01 00:07:06.5590</td>\n      <td>3699</td>\n      <td>W 50 St &amp; 9 Ave</td>\n      <td>40.763605</td>\n      <td>-73.989180</td>\n      <td>523</td>\n      <td>W 38 St &amp; 8 Ave</td>\n      <td>40.754666</td>\n      <td>-73.991382</td>\n      <td>43742</td>\n      <td>Customer</td>\n      <td>1986</td>\n      <td>1</td>\n    </tr>\n    <tr>\n      <th>1882271</th>\n      <td>890</td>\n      <td>2020-06-30 23:59:53.3950</td>\n      <td>2020-07-01 00:14:43.4270</td>\n      <td>3852</td>\n      <td>Stewart Ave &amp; Johnson Ave</td>\n      <td>40.708690</td>\n      <td>-73.925870</td>\n      <td>3054</td>\n      <td>Greene Ave &amp; Throop Ave</td>\n      <td>40.689493</td>\n      <td>-73.942061</td>\n      <td>15787</td>\n      <td>Subscriber</td>\n      <td>1994</td>\n      <td>1</td>\n    </tr>\n    <tr>\n      <th>1882272</th>\n      <td>433</td>\n      <td>2020-06-30 23:59:53.9010</td>\n      <td>2020-07-01 00:07:07.0950</td>\n      <td>324</td>\n      <td>DeKalb Ave &amp; Hudson Ave</td>\n      <td>40.689888</td>\n      <td>-73.981013</td>\n      <td>261</td>\n      <td>Johnson St &amp; Gold St</td>\n      <td>40.694749</td>\n      <td>-73.983625</td>\n      <td>38767</td>\n      <td>Customer</td>\n      <td>1990</td>\n      <td>1</td>\n    </tr>\n  </tbody>\n</table>\n<p>1882273 rows × 15 columns</p>\n</div>"
     },
     "metadata": {},
     "execution_count": 10
    }
   ],
   "source": [
    "nyc_june2 = \"NYC/june_2020.csv\"\n",
    "nyc_june2_df = pd.read_csv(nyc_june2)\n",
    "nyc_june2_df"
   ]
  },
  {
   "cell_type": "code",
   "execution_count": 11,
   "metadata": {},
   "outputs": [
    {
     "output_type": "stream",
     "name": "stdout",
     "text": [
      "<class 'pandas.core.frame.DataFrame'>\nRangeIndex: 1882273 entries, 0 to 1882272\nData columns (total 15 columns):\n #   Column                   Dtype  \n---  ------                   -----  \n 0   tripduration             int64  \n 1   starttime                object \n 2   stoptime                 object \n 3   start station id         int64  \n 4   start station name       object \n 5   start station latitude   float64\n 6   start station longitude  float64\n 7   end station id           int64  \n 8   end station name         object \n 9   end station latitude     float64\n 10  end station longitude    float64\n 11  bikeid                   int64  \n 12  usertype                 object \n 13  birth year               int64  \n 14  gender                   int64  \ndtypes: float64(4), int64(6), object(5)\nmemory usage: 215.4+ MB\n"
     ]
    }
   ],
   "source": [
    "nyc_june2_df.info()"
   ]
  },
  {
   "cell_type": "code",
   "execution_count": 12,
   "metadata": {},
   "outputs": [
    {
     "output_type": "execute_result",
     "data": {
      "text/plain": [
       "         tripduration                 starttime                  stoptime  \\\n",
       "0                 330  2019-06-01 00:00:01.5000  2019-06-01 00:05:31.7600   \n",
       "1                 830  2019-06-01 00:00:04.2400  2019-06-01 00:13:55.1470   \n",
       "2                 380  2019-06-01 00:00:06.0190  2019-06-01 00:06:26.7790   \n",
       "3                1155  2019-06-01 00:00:06.7760  2019-06-01 00:19:22.5380   \n",
       "4                1055  2019-06-01 00:00:07.5200  2019-06-01 00:17:42.5580   \n",
       "...               ...                       ...                       ...   \n",
       "1882268           685  2020-06-30 23:59:41.1160  2020-07-01 00:11:06.7790   \n",
       "1882269           446  2020-06-30 23:59:46.4260  2020-07-01 00:07:13.0860   \n",
       "1882270           439  2020-06-30 23:59:47.4770  2020-07-01 00:07:06.5590   \n",
       "1882271           890  2020-06-30 23:59:53.3950  2020-07-01 00:14:43.4270   \n",
       "1882272           433  2020-06-30 23:59:53.9010  2020-07-01 00:07:07.0950   \n",
       "\n",
       "         start station id         start station name  start station latitude  \\\n",
       "0                    3602             31 Ave & 34 St               40.763154   \n",
       "1                    3054    Greene Ave & Throop Ave               40.689493   \n",
       "2                     229             Great Jones St               40.727434   \n",
       "3                    3771    McKibbin St & Bogart St               40.706237   \n",
       "4                     441            E 52 St & 2 Ave               40.756014   \n",
       "...                   ...                        ...                     ...   \n",
       "1882268               503         E 20 St & Park Ave               40.738274   \n",
       "1882269              3699            W 50 St & 9 Ave               40.763605   \n",
       "1882270              3699            W 50 St & 9 Ave               40.763605   \n",
       "1882271              3852  Stewart Ave & Johnson Ave               40.708690   \n",
       "1882272               324    DeKalb Ave & Hudson Ave               40.689888   \n",
       "\n",
       "         start station longitude  end station id         end station name  \\\n",
       "0                     -73.920827            3570           35 Ave & 37 St   \n",
       "1                     -73.942061            3781    Greene Av & Myrtle Av   \n",
       "2                     -73.993790             326          E 11 St & 1 Ave   \n",
       "3                     -73.933871            3016        Kent Ave & N 7 St   \n",
       "4                     -73.967416            3159       W 67 St & Broadway   \n",
       "...                          ...             ...                      ...   \n",
       "1882268               -73.987520            3746        6 Ave & Broome St   \n",
       "1882269               -73.989180             523          W 38 St & 8 Ave   \n",
       "1882270               -73.989180             523          W 38 St & 8 Ave   \n",
       "1882271               -73.925870            3054  Greene Ave & Throop Ave   \n",
       "1882272               -73.981013             261     Johnson St & Gold St   \n",
       "\n",
       "         end station latitude  end station longitude  bikeid    usertype  \\\n",
       "0                   40.755733             -73.923661   20348  Subscriber   \n",
       "1                   40.698568             -73.918877   34007  Subscriber   \n",
       "2                   40.729538             -73.984267   20587  Subscriber   \n",
       "3                   40.720368             -73.961651   33762  Subscriber   \n",
       "4                   40.774925             -73.982666   31290  Subscriber   \n",
       "...                       ...                    ...     ...         ...   \n",
       "1882268             40.724308             -74.004730   21056    Customer   \n",
       "1882269             40.754666             -73.991382   30164    Customer   \n",
       "1882270             40.754666             -73.991382   43742    Customer   \n",
       "1882271             40.689493             -73.942061   15787  Subscriber   \n",
       "1882272             40.694749             -73.983625   38767    Customer   \n",
       "\n",
       "         birth year  gender  \n",
       "0              1992       1  \n",
       "1              1987       2  \n",
       "2              1990       2  \n",
       "3              1987       1  \n",
       "4              1973       1  \n",
       "...             ...     ...  \n",
       "1882268        1993       2  \n",
       "1882269        1969       0  \n",
       "1882270        1986       1  \n",
       "1882271        1994       1  \n",
       "1882272        1990       1  \n",
       "\n",
       "[4007643 rows x 15 columns]"
      ],
      "text/html": "<div>\n<style scoped>\n    .dataframe tbody tr th:only-of-type {\n        vertical-align: middle;\n    }\n\n    .dataframe tbody tr th {\n        vertical-align: top;\n    }\n\n    .dataframe thead th {\n        text-align: right;\n    }\n</style>\n<table border=\"1\" class=\"dataframe\">\n  <thead>\n    <tr style=\"text-align: right;\">\n      <th></th>\n      <th>tripduration</th>\n      <th>starttime</th>\n      <th>stoptime</th>\n      <th>start station id</th>\n      <th>start station name</th>\n      <th>start station latitude</th>\n      <th>start station longitude</th>\n      <th>end station id</th>\n      <th>end station name</th>\n      <th>end station latitude</th>\n      <th>end station longitude</th>\n      <th>bikeid</th>\n      <th>usertype</th>\n      <th>birth year</th>\n      <th>gender</th>\n    </tr>\n  </thead>\n  <tbody>\n    <tr>\n      <th>0</th>\n      <td>330</td>\n      <td>2019-06-01 00:00:01.5000</td>\n      <td>2019-06-01 00:05:31.7600</td>\n      <td>3602</td>\n      <td>31 Ave &amp; 34 St</td>\n      <td>40.763154</td>\n      <td>-73.920827</td>\n      <td>3570</td>\n      <td>35 Ave &amp; 37 St</td>\n      <td>40.755733</td>\n      <td>-73.923661</td>\n      <td>20348</td>\n      <td>Subscriber</td>\n      <td>1992</td>\n      <td>1</td>\n    </tr>\n    <tr>\n      <th>1</th>\n      <td>830</td>\n      <td>2019-06-01 00:00:04.2400</td>\n      <td>2019-06-01 00:13:55.1470</td>\n      <td>3054</td>\n      <td>Greene Ave &amp; Throop Ave</td>\n      <td>40.689493</td>\n      <td>-73.942061</td>\n      <td>3781</td>\n      <td>Greene Av &amp; Myrtle Av</td>\n      <td>40.698568</td>\n      <td>-73.918877</td>\n      <td>34007</td>\n      <td>Subscriber</td>\n      <td>1987</td>\n      <td>2</td>\n    </tr>\n    <tr>\n      <th>2</th>\n      <td>380</td>\n      <td>2019-06-01 00:00:06.0190</td>\n      <td>2019-06-01 00:06:26.7790</td>\n      <td>229</td>\n      <td>Great Jones St</td>\n      <td>40.727434</td>\n      <td>-73.993790</td>\n      <td>326</td>\n      <td>E 11 St &amp; 1 Ave</td>\n      <td>40.729538</td>\n      <td>-73.984267</td>\n      <td>20587</td>\n      <td>Subscriber</td>\n      <td>1990</td>\n      <td>2</td>\n    </tr>\n    <tr>\n      <th>3</th>\n      <td>1155</td>\n      <td>2019-06-01 00:00:06.7760</td>\n      <td>2019-06-01 00:19:22.5380</td>\n      <td>3771</td>\n      <td>McKibbin St &amp; Bogart St</td>\n      <td>40.706237</td>\n      <td>-73.933871</td>\n      <td>3016</td>\n      <td>Kent Ave &amp; N 7 St</td>\n      <td>40.720368</td>\n      <td>-73.961651</td>\n      <td>33762</td>\n      <td>Subscriber</td>\n      <td>1987</td>\n      <td>1</td>\n    </tr>\n    <tr>\n      <th>4</th>\n      <td>1055</td>\n      <td>2019-06-01 00:00:07.5200</td>\n      <td>2019-06-01 00:17:42.5580</td>\n      <td>441</td>\n      <td>E 52 St &amp; 2 Ave</td>\n      <td>40.756014</td>\n      <td>-73.967416</td>\n      <td>3159</td>\n      <td>W 67 St &amp; Broadway</td>\n      <td>40.774925</td>\n      <td>-73.982666</td>\n      <td>31290</td>\n      <td>Subscriber</td>\n      <td>1973</td>\n      <td>1</td>\n    </tr>\n    <tr>\n      <th>...</th>\n      <td>...</td>\n      <td>...</td>\n      <td>...</td>\n      <td>...</td>\n      <td>...</td>\n      <td>...</td>\n      <td>...</td>\n      <td>...</td>\n      <td>...</td>\n      <td>...</td>\n      <td>...</td>\n      <td>...</td>\n      <td>...</td>\n      <td>...</td>\n      <td>...</td>\n    </tr>\n    <tr>\n      <th>1882268</th>\n      <td>685</td>\n      <td>2020-06-30 23:59:41.1160</td>\n      <td>2020-07-01 00:11:06.7790</td>\n      <td>503</td>\n      <td>E 20 St &amp; Park Ave</td>\n      <td>40.738274</td>\n      <td>-73.987520</td>\n      <td>3746</td>\n      <td>6 Ave &amp; Broome St</td>\n      <td>40.724308</td>\n      <td>-74.004730</td>\n      <td>21056</td>\n      <td>Customer</td>\n      <td>1993</td>\n      <td>2</td>\n    </tr>\n    <tr>\n      <th>1882269</th>\n      <td>446</td>\n      <td>2020-06-30 23:59:46.4260</td>\n      <td>2020-07-01 00:07:13.0860</td>\n      <td>3699</td>\n      <td>W 50 St &amp; 9 Ave</td>\n      <td>40.763605</td>\n      <td>-73.989180</td>\n      <td>523</td>\n      <td>W 38 St &amp; 8 Ave</td>\n      <td>40.754666</td>\n      <td>-73.991382</td>\n      <td>30164</td>\n      <td>Customer</td>\n      <td>1969</td>\n      <td>0</td>\n    </tr>\n    <tr>\n      <th>1882270</th>\n      <td>439</td>\n      <td>2020-06-30 23:59:47.4770</td>\n      <td>2020-07-01 00:07:06.5590</td>\n      <td>3699</td>\n      <td>W 50 St &amp; 9 Ave</td>\n      <td>40.763605</td>\n      <td>-73.989180</td>\n      <td>523</td>\n      <td>W 38 St &amp; 8 Ave</td>\n      <td>40.754666</td>\n      <td>-73.991382</td>\n      <td>43742</td>\n      <td>Customer</td>\n      <td>1986</td>\n      <td>1</td>\n    </tr>\n    <tr>\n      <th>1882271</th>\n      <td>890</td>\n      <td>2020-06-30 23:59:53.3950</td>\n      <td>2020-07-01 00:14:43.4270</td>\n      <td>3852</td>\n      <td>Stewart Ave &amp; Johnson Ave</td>\n      <td>40.708690</td>\n      <td>-73.925870</td>\n      <td>3054</td>\n      <td>Greene Ave &amp; Throop Ave</td>\n      <td>40.689493</td>\n      <td>-73.942061</td>\n      <td>15787</td>\n      <td>Subscriber</td>\n      <td>1994</td>\n      <td>1</td>\n    </tr>\n    <tr>\n      <th>1882272</th>\n      <td>433</td>\n      <td>2020-06-30 23:59:53.9010</td>\n      <td>2020-07-01 00:07:07.0950</td>\n      <td>324</td>\n      <td>DeKalb Ave &amp; Hudson Ave</td>\n      <td>40.689888</td>\n      <td>-73.981013</td>\n      <td>261</td>\n      <td>Johnson St &amp; Gold St</td>\n      <td>40.694749</td>\n      <td>-73.983625</td>\n      <td>38767</td>\n      <td>Customer</td>\n      <td>1990</td>\n      <td>1</td>\n    </tr>\n  </tbody>\n</table>\n<p>4007643 rows × 15 columns</p>\n</div>"
     },
     "metadata": {},
     "execution_count": 12
    }
   ],
   "source": [
    "nyc_june_df = pd.concat([nyc_june1_df, nyc_june2_df],0)\n",
    "nyc_june_df"
   ]
  },
  {
   "cell_type": "code",
   "execution_count": 13,
   "metadata": {},
   "outputs": [
    {
     "output_type": "stream",
     "name": "stdout",
     "text": [
      "<class 'pandas.core.frame.DataFrame'>\nInt64Index: 4007643 entries, 0 to 1882272\nData columns (total 15 columns):\n #   Column                   Dtype  \n---  ------                   -----  \n 0   tripduration             int64  \n 1   starttime                object \n 2   stoptime                 object \n 3   start station id         int64  \n 4   start station name       object \n 5   start station latitude   float64\n 6   start station longitude  float64\n 7   end station id           int64  \n 8   end station name         object \n 9   end station latitude     float64\n 10  end station longitude    float64\n 11  bikeid                   int64  \n 12  usertype                 object \n 13  birth year               int64  \n 14  gender                   int64  \ndtypes: float64(4), int64(6), object(5)\nmemory usage: 489.2+ MB\n"
     ]
    }
   ],
   "source": [
    "nyc_june_df.info()"
   ]
  },
  {
   "cell_type": "code",
   "execution_count": 14,
   "metadata": {},
   "outputs": [
    {
     "output_type": "execute_result",
     "data": {
      "text/plain": [
       "         tripduration                 starttime                  stoptime  \\\n",
       "0                 897  2019-07-01 00:00:00.1320  2019-07-01 00:14:58.0040   \n",
       "1                 267  2019-07-01 00:00:05.1780  2019-07-01 00:04:32.4500   \n",
       "2                2201  2019-07-01 00:00:05.2130  2019-07-01 00:36:46.7490   \n",
       "3                1660  2019-07-01 00:00:08.6010  2019-07-01 00:27:48.8050   \n",
       "4                 109  2019-07-01 00:00:12.1580  2019-07-01 00:02:01.5670   \n",
       "...               ...                       ...                       ...   \n",
       "2181059           644  2019-07-31 23:59:45.2950  2019-08-01 00:10:29.8640   \n",
       "2181060           589  2019-07-31 23:59:52.7170  2019-08-01 00:09:42.0870   \n",
       "2181061          1302  2019-07-31 23:59:52.8280  2019-08-01 00:21:35.1090   \n",
       "2181062           353  2019-07-31 23:59:57.1130  2019-08-01 00:05:50.1350   \n",
       "2181063           274  2019-07-31 23:59:57.4870  2019-08-01 00:04:32.2070   \n",
       "\n",
       "         start station id              start station name  \\\n",
       "0                   493.0                 W 45 St & 6 Ave   \n",
       "1                  3143.0                 5 Ave & E 78 St   \n",
       "2                   317.0               E 6 St & Avenue B   \n",
       "3                   249.0         Harrison St & Hudson St   \n",
       "4                  3552.0             W 113 St & Broadway   \n",
       "...                   ...                             ...   \n",
       "2181059             274.0  Lafayette Ave & Fort Greene Pl   \n",
       "2181060            3285.0         W 87 St & Amsterdam Ave   \n",
       "2181061             331.0             Pike St & Monroe St   \n",
       "2181062            3255.0                 8 Ave & W 31 St   \n",
       "2181063            3459.0                 E 53 St & 3 Ave   \n",
       "\n",
       "         start station latitude  start station longitude  end station id  \\\n",
       "0                     40.756800               -73.982912           454.0   \n",
       "1                     40.776321               -73.964274          3226.0   \n",
       "2                     40.724537               -73.981854          3469.0   \n",
       "3                     40.718710               -74.009001           369.0   \n",
       "4                     40.805973               -73.964928          3538.0   \n",
       "...                         ...                      ...             ...   \n",
       "2181059               40.686919               -73.976682          3409.0   \n",
       "2181060               40.788390               -73.974700          3356.0   \n",
       "2181061               40.711731               -73.991930           309.0   \n",
       "2181062               40.750585               -73.994685           482.0   \n",
       "2181063               40.757632               -73.969306          3134.0   \n",
       "\n",
       "                    end station name  end station latitude  \\\n",
       "0                    E 51 St & 1 Ave             40.754557   \n",
       "1        W 82 St & Central Park West             40.782750   \n",
       "2                 India St & West St             40.731814   \n",
       "3              Washington Pl & 6 Ave             40.732241   \n",
       "4           W 110 St & Amsterdam Ave             40.802692   \n",
       "...                              ...                   ...   \n",
       "2181059         Bergen St & Smith St             40.686744   \n",
       "2181060      Amsterdam Ave & W 66 St             40.774667   \n",
       "2181061          Murray St & West St             40.714979   \n",
       "2181062              W 15 St & 7 Ave             40.739355   \n",
       "2181063              3 Ave & E 62 St             40.763126   \n",
       "\n",
       "         end station longitude  bikeid    usertype  birth year  gender  \n",
       "0                   -73.965930   18340  Subscriber        1966       1  \n",
       "1                   -73.971370   21458    Customer        1996       1  \n",
       "2                   -73.959950   39874  Subscriber        1986       1  \n",
       "3                   -74.000264   38865  Subscriber        1988       1  \n",
       "4                   -73.962950   30256  Subscriber        1997       1  \n",
       "...                        ...     ...         ...         ...     ...  \n",
       "2181059             -73.990632   19018  Subscriber        1964       1  \n",
       "2181060             -73.984706   15330  Subscriber        1997       1  \n",
       "2181061             -74.013012   39730  Subscriber        1966       2  \n",
       "2181062             -73.999318   30149  Subscriber        1994       1  \n",
       "2181063             -73.965269   25344  Subscriber        1994       2  \n",
       "\n",
       "[2181064 rows x 15 columns]"
      ],
      "text/html": "<div>\n<style scoped>\n    .dataframe tbody tr th:only-of-type {\n        vertical-align: middle;\n    }\n\n    .dataframe tbody tr th {\n        vertical-align: top;\n    }\n\n    .dataframe thead th {\n        text-align: right;\n    }\n</style>\n<table border=\"1\" class=\"dataframe\">\n  <thead>\n    <tr style=\"text-align: right;\">\n      <th></th>\n      <th>tripduration</th>\n      <th>starttime</th>\n      <th>stoptime</th>\n      <th>start station id</th>\n      <th>start station name</th>\n      <th>start station latitude</th>\n      <th>start station longitude</th>\n      <th>end station id</th>\n      <th>end station name</th>\n      <th>end station latitude</th>\n      <th>end station longitude</th>\n      <th>bikeid</th>\n      <th>usertype</th>\n      <th>birth year</th>\n      <th>gender</th>\n    </tr>\n  </thead>\n  <tbody>\n    <tr>\n      <th>0</th>\n      <td>897</td>\n      <td>2019-07-01 00:00:00.1320</td>\n      <td>2019-07-01 00:14:58.0040</td>\n      <td>493.0</td>\n      <td>W 45 St &amp; 6 Ave</td>\n      <td>40.756800</td>\n      <td>-73.982912</td>\n      <td>454.0</td>\n      <td>E 51 St &amp; 1 Ave</td>\n      <td>40.754557</td>\n      <td>-73.965930</td>\n      <td>18340</td>\n      <td>Subscriber</td>\n      <td>1966</td>\n      <td>1</td>\n    </tr>\n    <tr>\n      <th>1</th>\n      <td>267</td>\n      <td>2019-07-01 00:00:05.1780</td>\n      <td>2019-07-01 00:04:32.4500</td>\n      <td>3143.0</td>\n      <td>5 Ave &amp; E 78 St</td>\n      <td>40.776321</td>\n      <td>-73.964274</td>\n      <td>3226.0</td>\n      <td>W 82 St &amp; Central Park West</td>\n      <td>40.782750</td>\n      <td>-73.971370</td>\n      <td>21458</td>\n      <td>Customer</td>\n      <td>1996</td>\n      <td>1</td>\n    </tr>\n    <tr>\n      <th>2</th>\n      <td>2201</td>\n      <td>2019-07-01 00:00:05.2130</td>\n      <td>2019-07-01 00:36:46.7490</td>\n      <td>317.0</td>\n      <td>E 6 St &amp; Avenue B</td>\n      <td>40.724537</td>\n      <td>-73.981854</td>\n      <td>3469.0</td>\n      <td>India St &amp; West St</td>\n      <td>40.731814</td>\n      <td>-73.959950</td>\n      <td>39874</td>\n      <td>Subscriber</td>\n      <td>1986</td>\n      <td>1</td>\n    </tr>\n    <tr>\n      <th>3</th>\n      <td>1660</td>\n      <td>2019-07-01 00:00:08.6010</td>\n      <td>2019-07-01 00:27:48.8050</td>\n      <td>249.0</td>\n      <td>Harrison St &amp; Hudson St</td>\n      <td>40.718710</td>\n      <td>-74.009001</td>\n      <td>369.0</td>\n      <td>Washington Pl &amp; 6 Ave</td>\n      <td>40.732241</td>\n      <td>-74.000264</td>\n      <td>38865</td>\n      <td>Subscriber</td>\n      <td>1988</td>\n      <td>1</td>\n    </tr>\n    <tr>\n      <th>4</th>\n      <td>109</td>\n      <td>2019-07-01 00:00:12.1580</td>\n      <td>2019-07-01 00:02:01.5670</td>\n      <td>3552.0</td>\n      <td>W 113 St &amp; Broadway</td>\n      <td>40.805973</td>\n      <td>-73.964928</td>\n      <td>3538.0</td>\n      <td>W 110 St &amp; Amsterdam Ave</td>\n      <td>40.802692</td>\n      <td>-73.962950</td>\n      <td>30256</td>\n      <td>Subscriber</td>\n      <td>1997</td>\n      <td>1</td>\n    </tr>\n    <tr>\n      <th>...</th>\n      <td>...</td>\n      <td>...</td>\n      <td>...</td>\n      <td>...</td>\n      <td>...</td>\n      <td>...</td>\n      <td>...</td>\n      <td>...</td>\n      <td>...</td>\n      <td>...</td>\n      <td>...</td>\n      <td>...</td>\n      <td>...</td>\n      <td>...</td>\n      <td>...</td>\n    </tr>\n    <tr>\n      <th>2181059</th>\n      <td>644</td>\n      <td>2019-07-31 23:59:45.2950</td>\n      <td>2019-08-01 00:10:29.8640</td>\n      <td>274.0</td>\n      <td>Lafayette Ave &amp; Fort Greene Pl</td>\n      <td>40.686919</td>\n      <td>-73.976682</td>\n      <td>3409.0</td>\n      <td>Bergen St &amp; Smith St</td>\n      <td>40.686744</td>\n      <td>-73.990632</td>\n      <td>19018</td>\n      <td>Subscriber</td>\n      <td>1964</td>\n      <td>1</td>\n    </tr>\n    <tr>\n      <th>2181060</th>\n      <td>589</td>\n      <td>2019-07-31 23:59:52.7170</td>\n      <td>2019-08-01 00:09:42.0870</td>\n      <td>3285.0</td>\n      <td>W 87 St &amp; Amsterdam Ave</td>\n      <td>40.788390</td>\n      <td>-73.974700</td>\n      <td>3356.0</td>\n      <td>Amsterdam Ave &amp; W 66 St</td>\n      <td>40.774667</td>\n      <td>-73.984706</td>\n      <td>15330</td>\n      <td>Subscriber</td>\n      <td>1997</td>\n      <td>1</td>\n    </tr>\n    <tr>\n      <th>2181061</th>\n      <td>1302</td>\n      <td>2019-07-31 23:59:52.8280</td>\n      <td>2019-08-01 00:21:35.1090</td>\n      <td>331.0</td>\n      <td>Pike St &amp; Monroe St</td>\n      <td>40.711731</td>\n      <td>-73.991930</td>\n      <td>309.0</td>\n      <td>Murray St &amp; West St</td>\n      <td>40.714979</td>\n      <td>-74.013012</td>\n      <td>39730</td>\n      <td>Subscriber</td>\n      <td>1966</td>\n      <td>2</td>\n    </tr>\n    <tr>\n      <th>2181062</th>\n      <td>353</td>\n      <td>2019-07-31 23:59:57.1130</td>\n      <td>2019-08-01 00:05:50.1350</td>\n      <td>3255.0</td>\n      <td>8 Ave &amp; W 31 St</td>\n      <td>40.750585</td>\n      <td>-73.994685</td>\n      <td>482.0</td>\n      <td>W 15 St &amp; 7 Ave</td>\n      <td>40.739355</td>\n      <td>-73.999318</td>\n      <td>30149</td>\n      <td>Subscriber</td>\n      <td>1994</td>\n      <td>1</td>\n    </tr>\n    <tr>\n      <th>2181063</th>\n      <td>274</td>\n      <td>2019-07-31 23:59:57.4870</td>\n      <td>2019-08-01 00:04:32.2070</td>\n      <td>3459.0</td>\n      <td>E 53 St &amp; 3 Ave</td>\n      <td>40.757632</td>\n      <td>-73.969306</td>\n      <td>3134.0</td>\n      <td>3 Ave &amp; E 62 St</td>\n      <td>40.763126</td>\n      <td>-73.965269</td>\n      <td>25344</td>\n      <td>Subscriber</td>\n      <td>1994</td>\n      <td>2</td>\n    </tr>\n  </tbody>\n</table>\n<p>2181064 rows × 15 columns</p>\n</div>"
     },
     "metadata": {},
     "execution_count": 14
    }
   ],
   "source": [
    "nyc_july1 = \"NYC/july_2019.csv\"\n",
    "nyc_july1_df = pd.read_csv(nyc_july1)\n",
    "nyc_july1_df"
   ]
  },
  {
   "cell_type": "code",
   "execution_count": 15,
   "metadata": {},
   "outputs": [
    {
     "output_type": "stream",
     "name": "stdout",
     "text": [
      "<class 'pandas.core.frame.DataFrame'>\nRangeIndex: 2181064 entries, 0 to 2181063\nData columns (total 15 columns):\n #   Column                   Dtype  \n---  ------                   -----  \n 0   tripduration             int64  \n 1   starttime                object \n 2   stoptime                 object \n 3   start station id         float64\n 4   start station name       object \n 5   start station latitude   float64\n 6   start station longitude  float64\n 7   end station id           float64\n 8   end station name         object \n 9   end station latitude     float64\n 10  end station longitude    float64\n 11  bikeid                   int64  \n 12  usertype                 object \n 13  birth year               int64  \n 14  gender                   int64  \ndtypes: float64(6), int64(4), object(5)\nmemory usage: 249.6+ MB\n"
     ]
    }
   ],
   "source": [
    "nyc_july1_df.info()"
   ]
  },
  {
   "cell_type": "code",
   "execution_count": 16,
   "metadata": {},
   "outputs": [
    {
     "output_type": "execute_result",
     "data": {
      "text/plain": [
       "         tripduration                 starttime                  stoptime  \\\n",
       "0                 341  2020-07-01 00:00:01.3020  2020-07-01 00:05:42.5650   \n",
       "1                 321  2020-07-01 00:00:01.3620  2020-07-01 00:05:22.9490   \n",
       "2                2710  2020-07-01 00:00:06.6290  2020-07-01 00:45:17.3410   \n",
       "3                2685  2020-07-01 00:00:13.0220  2020-07-01 00:44:58.8640   \n",
       "4                 191  2020-07-01 00:00:13.4660  2020-07-01 00:03:24.6230   \n",
       "...               ...                       ...                       ...   \n",
       "2105803           877  2020-07-31 23:59:48.9250  2020-08-01 00:14:26.2540   \n",
       "2105804           839  2020-07-31 23:59:51.7740  2020-08-01 00:13:50.9750   \n",
       "2105805          1042  2020-07-31 23:59:56.1460  2020-08-01 00:17:18.5090   \n",
       "2105806           699  2020-07-31 23:59:57.4310  2020-08-01 00:11:36.5420   \n",
       "2105807           249  2020-07-31 23:59:58.7260  2020-08-01 00:04:08.2070   \n",
       "\n",
       "         start station id           start station name  \\\n",
       "0                    3463          E 16 St & Irving Pl   \n",
       "1                    3463          E 16 St & Irving Pl   \n",
       "2                     426        West St & Chambers St   \n",
       "3                     426        West St & Chambers St   \n",
       "4                    3615                44 Dr & 21 St   \n",
       "...                   ...                          ...   \n",
       "2105803               217                Old Fulton St   \n",
       "2105804              4044              8 Ave & W 38 St   \n",
       "2105805              3723  Cadman Plaza E & Johnson St   \n",
       "2105806               161        LaGuardia Pl & W 3 St   \n",
       "2105807               446              W 24 St & 7 Ave   \n",
       "\n",
       "         start station latitude  start station longitude  end station id  \\\n",
       "0                     40.735367               -73.987974            2003   \n",
       "1                     40.735367               -73.987974            2003   \n",
       "2                     40.717548               -74.013221             212   \n",
       "3                     40.717548               -74.013221             212   \n",
       "4                     40.748000               -73.946093            3127   \n",
       "...                         ...                      ...             ...   \n",
       "2105803               40.702772               -73.993836             398   \n",
       "2105804               40.754610               -73.991770            3163   \n",
       "2105805               40.695317               -73.990157             350   \n",
       "2105806               40.729170               -73.998102             504   \n",
       "2105807               40.744876               -73.995299            3259   \n",
       "\n",
       "                    end station name  end station latitude  \\\n",
       "0                    1 Ave & E 18 St             40.733812   \n",
       "1                    1 Ave & E 18 St             40.733812   \n",
       "2            W 16 St & The High Line             40.743349   \n",
       "3            W 16 St & The High Line             40.743349   \n",
       "4                       9 St & 44 Rd             40.749660   \n",
       "...                              ...                   ...   \n",
       "2105803     Atlantic Ave & Furman St             40.691652   \n",
       "2105804  Central Park West & W 68 St             40.773407   \n",
       "2105805        Clinton St & Grand St             40.715595   \n",
       "2105806              1 Ave & E 16 St             40.732219   \n",
       "2105807              9 Ave & W 28 St             40.749370   \n",
       "\n",
       "         end station longitude  bikeid    usertype  birth year  gender  \n",
       "0                   -73.980544   33861  Subscriber        1986       1  \n",
       "1                   -73.980544   31233  Subscriber        1990       2  \n",
       "2                   -74.006818   40329    Customer        1969       0  \n",
       "3                   -74.006818   17567  Subscriber        1998       1  \n",
       "4                   -73.952100   43421  Subscriber        1992       1  \n",
       "...                        ...     ...         ...         ...     ...  \n",
       "2105803             -73.999979   44073    Customer        1969       0  \n",
       "2105804             -73.977825   41797    Customer        2002       1  \n",
       "2105805             -73.987030   24808  Subscriber        1974       1  \n",
       "2105806             -73.981656   41486  Subscriber        1991       1  \n",
       "2105807             -73.999234   28699    Customer        1990       1  \n",
       "\n",
       "[2105808 rows x 15 columns]"
      ],
      "text/html": "<div>\n<style scoped>\n    .dataframe tbody tr th:only-of-type {\n        vertical-align: middle;\n    }\n\n    .dataframe tbody tr th {\n        vertical-align: top;\n    }\n\n    .dataframe thead th {\n        text-align: right;\n    }\n</style>\n<table border=\"1\" class=\"dataframe\">\n  <thead>\n    <tr style=\"text-align: right;\">\n      <th></th>\n      <th>tripduration</th>\n      <th>starttime</th>\n      <th>stoptime</th>\n      <th>start station id</th>\n      <th>start station name</th>\n      <th>start station latitude</th>\n      <th>start station longitude</th>\n      <th>end station id</th>\n      <th>end station name</th>\n      <th>end station latitude</th>\n      <th>end station longitude</th>\n      <th>bikeid</th>\n      <th>usertype</th>\n      <th>birth year</th>\n      <th>gender</th>\n    </tr>\n  </thead>\n  <tbody>\n    <tr>\n      <th>0</th>\n      <td>341</td>\n      <td>2020-07-01 00:00:01.3020</td>\n      <td>2020-07-01 00:05:42.5650</td>\n      <td>3463</td>\n      <td>E 16 St &amp; Irving Pl</td>\n      <td>40.735367</td>\n      <td>-73.987974</td>\n      <td>2003</td>\n      <td>1 Ave &amp; E 18 St</td>\n      <td>40.733812</td>\n      <td>-73.980544</td>\n      <td>33861</td>\n      <td>Subscriber</td>\n      <td>1986</td>\n      <td>1</td>\n    </tr>\n    <tr>\n      <th>1</th>\n      <td>321</td>\n      <td>2020-07-01 00:00:01.3620</td>\n      <td>2020-07-01 00:05:22.9490</td>\n      <td>3463</td>\n      <td>E 16 St &amp; Irving Pl</td>\n      <td>40.735367</td>\n      <td>-73.987974</td>\n      <td>2003</td>\n      <td>1 Ave &amp; E 18 St</td>\n      <td>40.733812</td>\n      <td>-73.980544</td>\n      <td>31233</td>\n      <td>Subscriber</td>\n      <td>1990</td>\n      <td>2</td>\n    </tr>\n    <tr>\n      <th>2</th>\n      <td>2710</td>\n      <td>2020-07-01 00:00:06.6290</td>\n      <td>2020-07-01 00:45:17.3410</td>\n      <td>426</td>\n      <td>West St &amp; Chambers St</td>\n      <td>40.717548</td>\n      <td>-74.013221</td>\n      <td>212</td>\n      <td>W 16 St &amp; The High Line</td>\n      <td>40.743349</td>\n      <td>-74.006818</td>\n      <td>40329</td>\n      <td>Customer</td>\n      <td>1969</td>\n      <td>0</td>\n    </tr>\n    <tr>\n      <th>3</th>\n      <td>2685</td>\n      <td>2020-07-01 00:00:13.0220</td>\n      <td>2020-07-01 00:44:58.8640</td>\n      <td>426</td>\n      <td>West St &amp; Chambers St</td>\n      <td>40.717548</td>\n      <td>-74.013221</td>\n      <td>212</td>\n      <td>W 16 St &amp; The High Line</td>\n      <td>40.743349</td>\n      <td>-74.006818</td>\n      <td>17567</td>\n      <td>Subscriber</td>\n      <td>1998</td>\n      <td>1</td>\n    </tr>\n    <tr>\n      <th>4</th>\n      <td>191</td>\n      <td>2020-07-01 00:00:13.4660</td>\n      <td>2020-07-01 00:03:24.6230</td>\n      <td>3615</td>\n      <td>44 Dr &amp; 21 St</td>\n      <td>40.748000</td>\n      <td>-73.946093</td>\n      <td>3127</td>\n      <td>9 St &amp; 44 Rd</td>\n      <td>40.749660</td>\n      <td>-73.952100</td>\n      <td>43421</td>\n      <td>Subscriber</td>\n      <td>1992</td>\n      <td>1</td>\n    </tr>\n    <tr>\n      <th>...</th>\n      <td>...</td>\n      <td>...</td>\n      <td>...</td>\n      <td>...</td>\n      <td>...</td>\n      <td>...</td>\n      <td>...</td>\n      <td>...</td>\n      <td>...</td>\n      <td>...</td>\n      <td>...</td>\n      <td>...</td>\n      <td>...</td>\n      <td>...</td>\n      <td>...</td>\n    </tr>\n    <tr>\n      <th>2105803</th>\n      <td>877</td>\n      <td>2020-07-31 23:59:48.9250</td>\n      <td>2020-08-01 00:14:26.2540</td>\n      <td>217</td>\n      <td>Old Fulton St</td>\n      <td>40.702772</td>\n      <td>-73.993836</td>\n      <td>398</td>\n      <td>Atlantic Ave &amp; Furman St</td>\n      <td>40.691652</td>\n      <td>-73.999979</td>\n      <td>44073</td>\n      <td>Customer</td>\n      <td>1969</td>\n      <td>0</td>\n    </tr>\n    <tr>\n      <th>2105804</th>\n      <td>839</td>\n      <td>2020-07-31 23:59:51.7740</td>\n      <td>2020-08-01 00:13:50.9750</td>\n      <td>4044</td>\n      <td>8 Ave &amp; W 38 St</td>\n      <td>40.754610</td>\n      <td>-73.991770</td>\n      <td>3163</td>\n      <td>Central Park West &amp; W 68 St</td>\n      <td>40.773407</td>\n      <td>-73.977825</td>\n      <td>41797</td>\n      <td>Customer</td>\n      <td>2002</td>\n      <td>1</td>\n    </tr>\n    <tr>\n      <th>2105805</th>\n      <td>1042</td>\n      <td>2020-07-31 23:59:56.1460</td>\n      <td>2020-08-01 00:17:18.5090</td>\n      <td>3723</td>\n      <td>Cadman Plaza E &amp; Johnson St</td>\n      <td>40.695317</td>\n      <td>-73.990157</td>\n      <td>350</td>\n      <td>Clinton St &amp; Grand St</td>\n      <td>40.715595</td>\n      <td>-73.987030</td>\n      <td>24808</td>\n      <td>Subscriber</td>\n      <td>1974</td>\n      <td>1</td>\n    </tr>\n    <tr>\n      <th>2105806</th>\n      <td>699</td>\n      <td>2020-07-31 23:59:57.4310</td>\n      <td>2020-08-01 00:11:36.5420</td>\n      <td>161</td>\n      <td>LaGuardia Pl &amp; W 3 St</td>\n      <td>40.729170</td>\n      <td>-73.998102</td>\n      <td>504</td>\n      <td>1 Ave &amp; E 16 St</td>\n      <td>40.732219</td>\n      <td>-73.981656</td>\n      <td>41486</td>\n      <td>Subscriber</td>\n      <td>1991</td>\n      <td>1</td>\n    </tr>\n    <tr>\n      <th>2105807</th>\n      <td>249</td>\n      <td>2020-07-31 23:59:58.7260</td>\n      <td>2020-08-01 00:04:08.2070</td>\n      <td>446</td>\n      <td>W 24 St &amp; 7 Ave</td>\n      <td>40.744876</td>\n      <td>-73.995299</td>\n      <td>3259</td>\n      <td>9 Ave &amp; W 28 St</td>\n      <td>40.749370</td>\n      <td>-73.999234</td>\n      <td>28699</td>\n      <td>Customer</td>\n      <td>1990</td>\n      <td>1</td>\n    </tr>\n  </tbody>\n</table>\n<p>2105808 rows × 15 columns</p>\n</div>"
     },
     "metadata": {},
     "execution_count": 16
    }
   ],
   "source": [
    "nyc_july2 = \"NYC/july_2020.csv\"\n",
    "nyc_july2_df = pd.read_csv(nyc_july2)\n",
    "nyc_july2_df"
   ]
  },
  {
   "cell_type": "code",
   "execution_count": 17,
   "metadata": {},
   "outputs": [
    {
     "output_type": "stream",
     "name": "stdout",
     "text": [
      "<class 'pandas.core.frame.DataFrame'>\nRangeIndex: 2105808 entries, 0 to 2105807\nData columns (total 15 columns):\n #   Column                   Dtype  \n---  ------                   -----  \n 0   tripduration             int64  \n 1   starttime                object \n 2   stoptime                 object \n 3   start station id         int64  \n 4   start station name       object \n 5   start station latitude   float64\n 6   start station longitude  float64\n 7   end station id           int64  \n 8   end station name         object \n 9   end station latitude     float64\n 10  end station longitude    float64\n 11  bikeid                   int64  \n 12  usertype                 object \n 13  birth year               int64  \n 14  gender                   int64  \ndtypes: float64(4), int64(6), object(5)\nmemory usage: 241.0+ MB\n"
     ]
    }
   ],
   "source": [
    "nyc_july2_df.info()"
   ]
  },
  {
   "cell_type": "code",
   "execution_count": 18,
   "metadata": {},
   "outputs": [
    {
     "output_type": "execute_result",
     "data": {
      "text/plain": [
       "         tripduration                 starttime                  stoptime  \\\n",
       "0                 897  2019-07-01 00:00:00.1320  2019-07-01 00:14:58.0040   \n",
       "1                 267  2019-07-01 00:00:05.1780  2019-07-01 00:04:32.4500   \n",
       "2                2201  2019-07-01 00:00:05.2130  2019-07-01 00:36:46.7490   \n",
       "3                1660  2019-07-01 00:00:08.6010  2019-07-01 00:27:48.8050   \n",
       "4                 109  2019-07-01 00:00:12.1580  2019-07-01 00:02:01.5670   \n",
       "...               ...                       ...                       ...   \n",
       "2105803           877  2020-07-31 23:59:48.9250  2020-08-01 00:14:26.2540   \n",
       "2105804           839  2020-07-31 23:59:51.7740  2020-08-01 00:13:50.9750   \n",
       "2105805          1042  2020-07-31 23:59:56.1460  2020-08-01 00:17:18.5090   \n",
       "2105806           699  2020-07-31 23:59:57.4310  2020-08-01 00:11:36.5420   \n",
       "2105807           249  2020-07-31 23:59:58.7260  2020-08-01 00:04:08.2070   \n",
       "\n",
       "         start station id           start station name  \\\n",
       "0                   493.0              W 45 St & 6 Ave   \n",
       "1                  3143.0              5 Ave & E 78 St   \n",
       "2                   317.0            E 6 St & Avenue B   \n",
       "3                   249.0      Harrison St & Hudson St   \n",
       "4                  3552.0          W 113 St & Broadway   \n",
       "...                   ...                          ...   \n",
       "2105803             217.0                Old Fulton St   \n",
       "2105804            4044.0              8 Ave & W 38 St   \n",
       "2105805            3723.0  Cadman Plaza E & Johnson St   \n",
       "2105806             161.0        LaGuardia Pl & W 3 St   \n",
       "2105807             446.0              W 24 St & 7 Ave   \n",
       "\n",
       "         start station latitude  start station longitude  end station id  \\\n",
       "0                     40.756800               -73.982912           454.0   \n",
       "1                     40.776321               -73.964274          3226.0   \n",
       "2                     40.724537               -73.981854          3469.0   \n",
       "3                     40.718710               -74.009001           369.0   \n",
       "4                     40.805973               -73.964928          3538.0   \n",
       "...                         ...                      ...             ...   \n",
       "2105803               40.702772               -73.993836           398.0   \n",
       "2105804               40.754610               -73.991770          3163.0   \n",
       "2105805               40.695317               -73.990157           350.0   \n",
       "2105806               40.729170               -73.998102           504.0   \n",
       "2105807               40.744876               -73.995299          3259.0   \n",
       "\n",
       "                    end station name  end station latitude  \\\n",
       "0                    E 51 St & 1 Ave             40.754557   \n",
       "1        W 82 St & Central Park West             40.782750   \n",
       "2                 India St & West St             40.731814   \n",
       "3              Washington Pl & 6 Ave             40.732241   \n",
       "4           W 110 St & Amsterdam Ave             40.802692   \n",
       "...                              ...                   ...   \n",
       "2105803     Atlantic Ave & Furman St             40.691652   \n",
       "2105804  Central Park West & W 68 St             40.773407   \n",
       "2105805        Clinton St & Grand St             40.715595   \n",
       "2105806              1 Ave & E 16 St             40.732219   \n",
       "2105807              9 Ave & W 28 St             40.749370   \n",
       "\n",
       "         end station longitude  bikeid    usertype  birth year  gender  \n",
       "0                   -73.965930   18340  Subscriber        1966       1  \n",
       "1                   -73.971370   21458    Customer        1996       1  \n",
       "2                   -73.959950   39874  Subscriber        1986       1  \n",
       "3                   -74.000264   38865  Subscriber        1988       1  \n",
       "4                   -73.962950   30256  Subscriber        1997       1  \n",
       "...                        ...     ...         ...         ...     ...  \n",
       "2105803             -73.999979   44073    Customer        1969       0  \n",
       "2105804             -73.977825   41797    Customer        2002       1  \n",
       "2105805             -73.987030   24808  Subscriber        1974       1  \n",
       "2105806             -73.981656   41486  Subscriber        1991       1  \n",
       "2105807             -73.999234   28699    Customer        1990       1  \n",
       "\n",
       "[4286872 rows x 15 columns]"
      ],
      "text/html": "<div>\n<style scoped>\n    .dataframe tbody tr th:only-of-type {\n        vertical-align: middle;\n    }\n\n    .dataframe tbody tr th {\n        vertical-align: top;\n    }\n\n    .dataframe thead th {\n        text-align: right;\n    }\n</style>\n<table border=\"1\" class=\"dataframe\">\n  <thead>\n    <tr style=\"text-align: right;\">\n      <th></th>\n      <th>tripduration</th>\n      <th>starttime</th>\n      <th>stoptime</th>\n      <th>start station id</th>\n      <th>start station name</th>\n      <th>start station latitude</th>\n      <th>start station longitude</th>\n      <th>end station id</th>\n      <th>end station name</th>\n      <th>end station latitude</th>\n      <th>end station longitude</th>\n      <th>bikeid</th>\n      <th>usertype</th>\n      <th>birth year</th>\n      <th>gender</th>\n    </tr>\n  </thead>\n  <tbody>\n    <tr>\n      <th>0</th>\n      <td>897</td>\n      <td>2019-07-01 00:00:00.1320</td>\n      <td>2019-07-01 00:14:58.0040</td>\n      <td>493.0</td>\n      <td>W 45 St &amp; 6 Ave</td>\n      <td>40.756800</td>\n      <td>-73.982912</td>\n      <td>454.0</td>\n      <td>E 51 St &amp; 1 Ave</td>\n      <td>40.754557</td>\n      <td>-73.965930</td>\n      <td>18340</td>\n      <td>Subscriber</td>\n      <td>1966</td>\n      <td>1</td>\n    </tr>\n    <tr>\n      <th>1</th>\n      <td>267</td>\n      <td>2019-07-01 00:00:05.1780</td>\n      <td>2019-07-01 00:04:32.4500</td>\n      <td>3143.0</td>\n      <td>5 Ave &amp; E 78 St</td>\n      <td>40.776321</td>\n      <td>-73.964274</td>\n      <td>3226.0</td>\n      <td>W 82 St &amp; Central Park West</td>\n      <td>40.782750</td>\n      <td>-73.971370</td>\n      <td>21458</td>\n      <td>Customer</td>\n      <td>1996</td>\n      <td>1</td>\n    </tr>\n    <tr>\n      <th>2</th>\n      <td>2201</td>\n      <td>2019-07-01 00:00:05.2130</td>\n      <td>2019-07-01 00:36:46.7490</td>\n      <td>317.0</td>\n      <td>E 6 St &amp; Avenue B</td>\n      <td>40.724537</td>\n      <td>-73.981854</td>\n      <td>3469.0</td>\n      <td>India St &amp; West St</td>\n      <td>40.731814</td>\n      <td>-73.959950</td>\n      <td>39874</td>\n      <td>Subscriber</td>\n      <td>1986</td>\n      <td>1</td>\n    </tr>\n    <tr>\n      <th>3</th>\n      <td>1660</td>\n      <td>2019-07-01 00:00:08.6010</td>\n      <td>2019-07-01 00:27:48.8050</td>\n      <td>249.0</td>\n      <td>Harrison St &amp; Hudson St</td>\n      <td>40.718710</td>\n      <td>-74.009001</td>\n      <td>369.0</td>\n      <td>Washington Pl &amp; 6 Ave</td>\n      <td>40.732241</td>\n      <td>-74.000264</td>\n      <td>38865</td>\n      <td>Subscriber</td>\n      <td>1988</td>\n      <td>1</td>\n    </tr>\n    <tr>\n      <th>4</th>\n      <td>109</td>\n      <td>2019-07-01 00:00:12.1580</td>\n      <td>2019-07-01 00:02:01.5670</td>\n      <td>3552.0</td>\n      <td>W 113 St &amp; Broadway</td>\n      <td>40.805973</td>\n      <td>-73.964928</td>\n      <td>3538.0</td>\n      <td>W 110 St &amp; Amsterdam Ave</td>\n      <td>40.802692</td>\n      <td>-73.962950</td>\n      <td>30256</td>\n      <td>Subscriber</td>\n      <td>1997</td>\n      <td>1</td>\n    </tr>\n    <tr>\n      <th>...</th>\n      <td>...</td>\n      <td>...</td>\n      <td>...</td>\n      <td>...</td>\n      <td>...</td>\n      <td>...</td>\n      <td>...</td>\n      <td>...</td>\n      <td>...</td>\n      <td>...</td>\n      <td>...</td>\n      <td>...</td>\n      <td>...</td>\n      <td>...</td>\n      <td>...</td>\n    </tr>\n    <tr>\n      <th>2105803</th>\n      <td>877</td>\n      <td>2020-07-31 23:59:48.9250</td>\n      <td>2020-08-01 00:14:26.2540</td>\n      <td>217.0</td>\n      <td>Old Fulton St</td>\n      <td>40.702772</td>\n      <td>-73.993836</td>\n      <td>398.0</td>\n      <td>Atlantic Ave &amp; Furman St</td>\n      <td>40.691652</td>\n      <td>-73.999979</td>\n      <td>44073</td>\n      <td>Customer</td>\n      <td>1969</td>\n      <td>0</td>\n    </tr>\n    <tr>\n      <th>2105804</th>\n      <td>839</td>\n      <td>2020-07-31 23:59:51.7740</td>\n      <td>2020-08-01 00:13:50.9750</td>\n      <td>4044.0</td>\n      <td>8 Ave &amp; W 38 St</td>\n      <td>40.754610</td>\n      <td>-73.991770</td>\n      <td>3163.0</td>\n      <td>Central Park West &amp; W 68 St</td>\n      <td>40.773407</td>\n      <td>-73.977825</td>\n      <td>41797</td>\n      <td>Customer</td>\n      <td>2002</td>\n      <td>1</td>\n    </tr>\n    <tr>\n      <th>2105805</th>\n      <td>1042</td>\n      <td>2020-07-31 23:59:56.1460</td>\n      <td>2020-08-01 00:17:18.5090</td>\n      <td>3723.0</td>\n      <td>Cadman Plaza E &amp; Johnson St</td>\n      <td>40.695317</td>\n      <td>-73.990157</td>\n      <td>350.0</td>\n      <td>Clinton St &amp; Grand St</td>\n      <td>40.715595</td>\n      <td>-73.987030</td>\n      <td>24808</td>\n      <td>Subscriber</td>\n      <td>1974</td>\n      <td>1</td>\n    </tr>\n    <tr>\n      <th>2105806</th>\n      <td>699</td>\n      <td>2020-07-31 23:59:57.4310</td>\n      <td>2020-08-01 00:11:36.5420</td>\n      <td>161.0</td>\n      <td>LaGuardia Pl &amp; W 3 St</td>\n      <td>40.729170</td>\n      <td>-73.998102</td>\n      <td>504.0</td>\n      <td>1 Ave &amp; E 16 St</td>\n      <td>40.732219</td>\n      <td>-73.981656</td>\n      <td>41486</td>\n      <td>Subscriber</td>\n      <td>1991</td>\n      <td>1</td>\n    </tr>\n    <tr>\n      <th>2105807</th>\n      <td>249</td>\n      <td>2020-07-31 23:59:58.7260</td>\n      <td>2020-08-01 00:04:08.2070</td>\n      <td>446.0</td>\n      <td>W 24 St &amp; 7 Ave</td>\n      <td>40.744876</td>\n      <td>-73.995299</td>\n      <td>3259.0</td>\n      <td>9 Ave &amp; W 28 St</td>\n      <td>40.749370</td>\n      <td>-73.999234</td>\n      <td>28699</td>\n      <td>Customer</td>\n      <td>1990</td>\n      <td>1</td>\n    </tr>\n  </tbody>\n</table>\n<p>4286872 rows × 15 columns</p>\n</div>"
     },
     "metadata": {},
     "execution_count": 18
    }
   ],
   "source": [
    "nyc_july_df = pd.concat([nyc_july1_df, nyc_july2_df],0)\n",
    "nyc_july_df"
   ]
  },
  {
   "cell_type": "code",
   "execution_count": 20,
   "metadata": {},
   "outputs": [
    {
     "output_type": "stream",
     "name": "stdout",
     "text": [
      "<class 'pandas.core.frame.DataFrame'>\nInt64Index: 4286872 entries, 0 to 2105807\nData columns (total 15 columns):\n #   Column                   Dtype  \n---  ------                   -----  \n 0   tripduration             int64  \n 1   starttime                object \n 2   stoptime                 object \n 3   start station id         float64\n 4   start station name       object \n 5   start station latitude   float64\n 6   start station longitude  float64\n 7   end station id           float64\n 8   end station name         object \n 9   end station latitude     float64\n 10  end station longitude    float64\n 11  bikeid                   int64  \n 12  usertype                 object \n 13  birth year               int64  \n 14  gender                   int64  \ndtypes: float64(6), int64(4), object(5)\nmemory usage: 523.3+ MB\n"
     ]
    }
   ],
   "source": [
    "nyc_july_df.info()"
   ]
  },
  {
   "cell_type": "code",
   "execution_count": 21,
   "metadata": {},
   "outputs": [
    {
     "output_type": "execute_result",
     "data": {
      "text/plain": [
       "         tripduration                 starttime                  stoptime  \\\n",
       "0                 393  2019-08-01 00:00:01.4680  2019-08-01 00:06:35.3780   \n",
       "1                 627  2019-08-01 00:00:01.9290  2019-08-01 00:10:29.7840   \n",
       "2                1132  2019-08-01 00:00:04.0480  2019-08-01 00:18:56.1650   \n",
       "3                1780  2019-08-01 00:00:04.1630  2019-08-01 00:29:44.7940   \n",
       "4                1517  2019-08-01 00:00:05.4580  2019-08-01 00:25:23.4550   \n",
       "...               ...                       ...                       ...   \n",
       "2344219           216  2019-08-31 23:59:46.2930  2019-09-01 00:03:23.0360   \n",
       "2344220           117  2019-08-31 23:59:47.7970  2019-09-01 00:01:45.7440   \n",
       "2344221          1614  2019-08-31 23:59:48.1560  2019-09-01 00:26:42.7760   \n",
       "2344222          1301  2019-08-31 23:59:58.3620  2019-09-01 00:21:39.7040   \n",
       "2344223           419  2019-08-31 23:59:59.4520  2019-09-01 00:06:59.0210   \n",
       "\n",
       "         start station id              start station name  \\\n",
       "0                   531.0          Forsyth St & Broome St   \n",
       "1                   274.0  Lafayette Ave & Fort Greene Pl   \n",
       "2                  2000.0        Front St & Washington St   \n",
       "3                   479.0                 9 Ave & W 45 St   \n",
       "4                  3312.0                 1 Ave & E 94 St   \n",
       "...                   ...                             ...   \n",
       "2344219             116.0                 W 17 St & 8 Ave   \n",
       "2344220            3429.0          Hanson Pl & Ashland Pl   \n",
       "2344221             387.0         Centre St & Chambers St   \n",
       "2344222            3168.0     Central Park West & W 85 St   \n",
       "2344223             447.0                 8 Ave & W 52 St   \n",
       "\n",
       "         start station latitude  start station longitude  end station id  \\\n",
       "0                     40.718939               -73.992663           408.0   \n",
       "1                     40.686919               -73.976682          3409.0   \n",
       "2                     40.702551               -73.989402          3388.0   \n",
       "3                     40.760193               -73.991255           473.0   \n",
       "4                     40.781721               -73.945940          3312.0   \n",
       "...                         ...                      ...             ...   \n",
       "2344219               40.741776               -74.001497           509.0   \n",
       "2344220               40.685068               -73.977908           353.0   \n",
       "2344221               40.712733               -74.004607          3440.0   \n",
       "2344222               40.784727               -73.969617           423.0   \n",
       "2344223               40.763707               -73.985162           529.0   \n",
       "\n",
       "                   end station name  end station latitude  \\\n",
       "0             Market St & Cherry St             40.710762   \n",
       "1              Bergen St & Smith St             40.686744   \n",
       "2           President St & Henry St             40.682800   \n",
       "3        Rivington St & Chrystie St             40.721101   \n",
       "4                   1 Ave & E 94 St             40.781721   \n",
       "...                             ...                   ...   \n",
       "2344219             9 Ave & W 22 St             40.745497   \n",
       "2344220  S Portland Ave & Hanson Pl             40.685396   \n",
       "2344221        Fulton St & Adams St             40.692418   \n",
       "2344222             W 54 St & 9 Ave             40.765849   \n",
       "2344223             W 42 St & 8 Ave             40.757570   \n",
       "\n",
       "         end station longitude  bikeid    usertype  birth year  gender  \n",
       "0                   -73.994004   35305  Subscriber        1996       2  \n",
       "1                   -73.990632   38822  Subscriber        1998       2  \n",
       "2                   -73.999904   18373  Subscriber        1988       1  \n",
       "3                   -73.991925   25002  Subscriber        1988       1  \n",
       "4                   -73.945940   31198  Subscriber        1965       2  \n",
       "...                        ...     ...         ...         ...     ...  \n",
       "2344219             -74.001971   38655  Subscriber        1972       1  \n",
       "2344220             -73.974315   25264  Subscriber        1982       2  \n",
       "2344221             -73.989495   28485    Customer        1969       0  \n",
       "2344222             -73.986905   38664    Customer        1969       0  \n",
       "2344223             -73.990985   35210  Subscriber        1994       1  \n",
       "\n",
       "[2344224 rows x 15 columns]"
      ],
      "text/html": "<div>\n<style scoped>\n    .dataframe tbody tr th:only-of-type {\n        vertical-align: middle;\n    }\n\n    .dataframe tbody tr th {\n        vertical-align: top;\n    }\n\n    .dataframe thead th {\n        text-align: right;\n    }\n</style>\n<table border=\"1\" class=\"dataframe\">\n  <thead>\n    <tr style=\"text-align: right;\">\n      <th></th>\n      <th>tripduration</th>\n      <th>starttime</th>\n      <th>stoptime</th>\n      <th>start station id</th>\n      <th>start station name</th>\n      <th>start station latitude</th>\n      <th>start station longitude</th>\n      <th>end station id</th>\n      <th>end station name</th>\n      <th>end station latitude</th>\n      <th>end station longitude</th>\n      <th>bikeid</th>\n      <th>usertype</th>\n      <th>birth year</th>\n      <th>gender</th>\n    </tr>\n  </thead>\n  <tbody>\n    <tr>\n      <th>0</th>\n      <td>393</td>\n      <td>2019-08-01 00:00:01.4680</td>\n      <td>2019-08-01 00:06:35.3780</td>\n      <td>531.0</td>\n      <td>Forsyth St &amp; Broome St</td>\n      <td>40.718939</td>\n      <td>-73.992663</td>\n      <td>408.0</td>\n      <td>Market St &amp; Cherry St</td>\n      <td>40.710762</td>\n      <td>-73.994004</td>\n      <td>35305</td>\n      <td>Subscriber</td>\n      <td>1996</td>\n      <td>2</td>\n    </tr>\n    <tr>\n      <th>1</th>\n      <td>627</td>\n      <td>2019-08-01 00:00:01.9290</td>\n      <td>2019-08-01 00:10:29.7840</td>\n      <td>274.0</td>\n      <td>Lafayette Ave &amp; Fort Greene Pl</td>\n      <td>40.686919</td>\n      <td>-73.976682</td>\n      <td>3409.0</td>\n      <td>Bergen St &amp; Smith St</td>\n      <td>40.686744</td>\n      <td>-73.990632</td>\n      <td>38822</td>\n      <td>Subscriber</td>\n      <td>1998</td>\n      <td>2</td>\n    </tr>\n    <tr>\n      <th>2</th>\n      <td>1132</td>\n      <td>2019-08-01 00:00:04.0480</td>\n      <td>2019-08-01 00:18:56.1650</td>\n      <td>2000.0</td>\n      <td>Front St &amp; Washington St</td>\n      <td>40.702551</td>\n      <td>-73.989402</td>\n      <td>3388.0</td>\n      <td>President St &amp; Henry St</td>\n      <td>40.682800</td>\n      <td>-73.999904</td>\n      <td>18373</td>\n      <td>Subscriber</td>\n      <td>1988</td>\n      <td>1</td>\n    </tr>\n    <tr>\n      <th>3</th>\n      <td>1780</td>\n      <td>2019-08-01 00:00:04.1630</td>\n      <td>2019-08-01 00:29:44.7940</td>\n      <td>479.0</td>\n      <td>9 Ave &amp; W 45 St</td>\n      <td>40.760193</td>\n      <td>-73.991255</td>\n      <td>473.0</td>\n      <td>Rivington St &amp; Chrystie St</td>\n      <td>40.721101</td>\n      <td>-73.991925</td>\n      <td>25002</td>\n      <td>Subscriber</td>\n      <td>1988</td>\n      <td>1</td>\n    </tr>\n    <tr>\n      <th>4</th>\n      <td>1517</td>\n      <td>2019-08-01 00:00:05.4580</td>\n      <td>2019-08-01 00:25:23.4550</td>\n      <td>3312.0</td>\n      <td>1 Ave &amp; E 94 St</td>\n      <td>40.781721</td>\n      <td>-73.945940</td>\n      <td>3312.0</td>\n      <td>1 Ave &amp; E 94 St</td>\n      <td>40.781721</td>\n      <td>-73.945940</td>\n      <td>31198</td>\n      <td>Subscriber</td>\n      <td>1965</td>\n      <td>2</td>\n    </tr>\n    <tr>\n      <th>...</th>\n      <td>...</td>\n      <td>...</td>\n      <td>...</td>\n      <td>...</td>\n      <td>...</td>\n      <td>...</td>\n      <td>...</td>\n      <td>...</td>\n      <td>...</td>\n      <td>...</td>\n      <td>...</td>\n      <td>...</td>\n      <td>...</td>\n      <td>...</td>\n      <td>...</td>\n    </tr>\n    <tr>\n      <th>2344219</th>\n      <td>216</td>\n      <td>2019-08-31 23:59:46.2930</td>\n      <td>2019-09-01 00:03:23.0360</td>\n      <td>116.0</td>\n      <td>W 17 St &amp; 8 Ave</td>\n      <td>40.741776</td>\n      <td>-74.001497</td>\n      <td>509.0</td>\n      <td>9 Ave &amp; W 22 St</td>\n      <td>40.745497</td>\n      <td>-74.001971</td>\n      <td>38655</td>\n      <td>Subscriber</td>\n      <td>1972</td>\n      <td>1</td>\n    </tr>\n    <tr>\n      <th>2344220</th>\n      <td>117</td>\n      <td>2019-08-31 23:59:47.7970</td>\n      <td>2019-09-01 00:01:45.7440</td>\n      <td>3429.0</td>\n      <td>Hanson Pl &amp; Ashland Pl</td>\n      <td>40.685068</td>\n      <td>-73.977908</td>\n      <td>353.0</td>\n      <td>S Portland Ave &amp; Hanson Pl</td>\n      <td>40.685396</td>\n      <td>-73.974315</td>\n      <td>25264</td>\n      <td>Subscriber</td>\n      <td>1982</td>\n      <td>2</td>\n    </tr>\n    <tr>\n      <th>2344221</th>\n      <td>1614</td>\n      <td>2019-08-31 23:59:48.1560</td>\n      <td>2019-09-01 00:26:42.7760</td>\n      <td>387.0</td>\n      <td>Centre St &amp; Chambers St</td>\n      <td>40.712733</td>\n      <td>-74.004607</td>\n      <td>3440.0</td>\n      <td>Fulton St &amp; Adams St</td>\n      <td>40.692418</td>\n      <td>-73.989495</td>\n      <td>28485</td>\n      <td>Customer</td>\n      <td>1969</td>\n      <td>0</td>\n    </tr>\n    <tr>\n      <th>2344222</th>\n      <td>1301</td>\n      <td>2019-08-31 23:59:58.3620</td>\n      <td>2019-09-01 00:21:39.7040</td>\n      <td>3168.0</td>\n      <td>Central Park West &amp; W 85 St</td>\n      <td>40.784727</td>\n      <td>-73.969617</td>\n      <td>423.0</td>\n      <td>W 54 St &amp; 9 Ave</td>\n      <td>40.765849</td>\n      <td>-73.986905</td>\n      <td>38664</td>\n      <td>Customer</td>\n      <td>1969</td>\n      <td>0</td>\n    </tr>\n    <tr>\n      <th>2344223</th>\n      <td>419</td>\n      <td>2019-08-31 23:59:59.4520</td>\n      <td>2019-09-01 00:06:59.0210</td>\n      <td>447.0</td>\n      <td>8 Ave &amp; W 52 St</td>\n      <td>40.763707</td>\n      <td>-73.985162</td>\n      <td>529.0</td>\n      <td>W 42 St &amp; 8 Ave</td>\n      <td>40.757570</td>\n      <td>-73.990985</td>\n      <td>35210</td>\n      <td>Subscriber</td>\n      <td>1994</td>\n      <td>1</td>\n    </tr>\n  </tbody>\n</table>\n<p>2344224 rows × 15 columns</p>\n</div>"
     },
     "metadata": {},
     "execution_count": 21
    }
   ],
   "source": [
    "nyc_aug1 = \"NYC/aug_2019.csv\"\n",
    "nyc_aug1_df = pd.read_csv(nyc_aug1)\n",
    "nyc_aug1_df"
   ]
  },
  {
   "cell_type": "code",
   "execution_count": 22,
   "metadata": {},
   "outputs": [
    {
     "output_type": "stream",
     "name": "stdout",
     "text": [
      "<class 'pandas.core.frame.DataFrame'>\nRangeIndex: 2344224 entries, 0 to 2344223\nData columns (total 15 columns):\n #   Column                   Dtype  \n---  ------                   -----  \n 0   tripduration             int64  \n 1   starttime                object \n 2   stoptime                 object \n 3   start station id         float64\n 4   start station name       object \n 5   start station latitude   float64\n 6   start station longitude  float64\n 7   end station id           float64\n 8   end station name         object \n 9   end station latitude     float64\n 10  end station longitude    float64\n 11  bikeid                   int64  \n 12  usertype                 object \n 13  birth year               int64  \n 14  gender                   int64  \ndtypes: float64(6), int64(4), object(5)\nmemory usage: 268.3+ MB\n"
     ]
    }
   ],
   "source": [
    "nyc_aug1_df.info()"
   ]
  },
  {
   "cell_type": "code",
   "execution_count": 23,
   "metadata": {},
   "outputs": [
    {
     "output_type": "execute_result",
     "data": {
      "text/plain": [
       "         tripduration                 starttime                  stoptime  \\\n",
       "0                2013  2020-08-01 00:00:00.8790  2020-08-01 00:33:34.7260   \n",
       "1                7002  2020-08-01 00:00:01.5910  2020-08-01 01:56:44.0720   \n",
       "2                 155  2020-08-01 00:00:03.5810  2020-08-01 00:02:38.6340   \n",
       "3                2720  2020-08-01 00:00:05.0130  2020-08-01 00:45:25.3270   \n",
       "4                2938  2020-08-01 00:00:05.9420  2020-08-01 00:49:03.9640   \n",
       "...               ...                       ...                       ...   \n",
       "2329509          1562  2020-08-31 23:59:29.7690  2020-09-01 00:25:31.9660   \n",
       "2329510          1023  2020-08-31 23:59:32.1320  2020-09-01 00:16:35.3710   \n",
       "2329511           600  2020-08-31 23:59:33.0920  2020-09-01 00:09:33.4670   \n",
       "2329512           737  2020-08-31 23:59:35.7900  2020-09-01 00:11:53.2310   \n",
       "2329513           373  2020-08-31 23:59:45.3470  2020-09-01 00:05:59.1630   \n",
       "\n",
       "         start station id                   start station name  \\\n",
       "0                    3295             Central Park W & W 96 St   \n",
       "1                    3144                   E 81 St & Park Ave   \n",
       "2                     387              Centre St & Chambers St   \n",
       "3                    3080                   S 4 St & Rodney St   \n",
       "4                    3510  Adam Clayton Powell Blvd & W 123 St   \n",
       "...                   ...                                  ...   \n",
       "2329509               298              3 Ave & Schermerhorn St   \n",
       "2329510              3508      St Nicholas Ave & Manhattan Ave   \n",
       "2329511               320               Leonard St & Church St   \n",
       "2329512              3318                      2 Ave & E 96 St   \n",
       "2329513              3423      West Drive & Prospect Park West   \n",
       "\n",
       "         start station latitude  start station longitude  end station id  \\\n",
       "0                     40.791270               -73.964839            3992   \n",
       "1                     40.776777               -73.959010            3671   \n",
       "2                     40.712733               -74.004607             387   \n",
       "3                     40.709340               -73.956080            3364   \n",
       "4                     40.807832               -73.949373            3282   \n",
       "...                         ...                      ...             ...   \n",
       "2329509               40.686832               -73.979677            3423   \n",
       "2329510               40.809725               -73.953149            3323   \n",
       "2329511               40.717571               -74.005549             380   \n",
       "2329512               40.783964               -73.947167            3156   \n",
       "2329513               40.661063               -73.979453            3398   \n",
       "\n",
       "                        end station name  end station latitude  \\\n",
       "0         W 169 St & Fort Washington Ave             40.842842   \n",
       "1                        E 81 St & 2 Ave             40.774779   \n",
       "2                Centre St & Chambers St             40.712733   \n",
       "3                     Carroll St & 5 Ave             40.675162   \n",
       "4                        5 Ave & E 88 St             40.783070   \n",
       "...                                  ...                   ...   \n",
       "2329509  West Drive & Prospect Park West             40.661063   \n",
       "2329510     W 106 St & Central Park West             40.798186   \n",
       "2329511                 W 4 St & 7 Ave S             40.734011   \n",
       "2329512               E 72 St & York Ave             40.766638   \n",
       "2329513                  Smith St & 9 St             40.674696   \n",
       "\n",
       "         end station longitude  bikeid    usertype  birth year  gender  \n",
       "0                   -73.942125   19706    Customer        1998       1  \n",
       "1                   -73.954275   37191  Subscriber        1966       1  \n",
       "2                   -74.004607   42561    Customer        1969       0  \n",
       "3                   -73.981483   41607  Subscriber        1990       1  \n",
       "4                   -73.959390   36366    Customer        1969       0  \n",
       "...                        ...     ...         ...         ...     ...  \n",
       "2329509             -73.979453   37282    Customer        2001       1  \n",
       "2329510             -73.960591   35088    Customer        1993       2  \n",
       "2329511             -74.002939   36353  Subscriber        2002       1  \n",
       "2329512             -73.953483   44935  Subscriber        1981       2  \n",
       "2329513             -73.997858   38938    Customer        1969       0  \n",
       "\n",
       "[2329514 rows x 15 columns]"
      ],
      "text/html": "<div>\n<style scoped>\n    .dataframe tbody tr th:only-of-type {\n        vertical-align: middle;\n    }\n\n    .dataframe tbody tr th {\n        vertical-align: top;\n    }\n\n    .dataframe thead th {\n        text-align: right;\n    }\n</style>\n<table border=\"1\" class=\"dataframe\">\n  <thead>\n    <tr style=\"text-align: right;\">\n      <th></th>\n      <th>tripduration</th>\n      <th>starttime</th>\n      <th>stoptime</th>\n      <th>start station id</th>\n      <th>start station name</th>\n      <th>start station latitude</th>\n      <th>start station longitude</th>\n      <th>end station id</th>\n      <th>end station name</th>\n      <th>end station latitude</th>\n      <th>end station longitude</th>\n      <th>bikeid</th>\n      <th>usertype</th>\n      <th>birth year</th>\n      <th>gender</th>\n    </tr>\n  </thead>\n  <tbody>\n    <tr>\n      <th>0</th>\n      <td>2013</td>\n      <td>2020-08-01 00:00:00.8790</td>\n      <td>2020-08-01 00:33:34.7260</td>\n      <td>3295</td>\n      <td>Central Park W &amp; W 96 St</td>\n      <td>40.791270</td>\n      <td>-73.964839</td>\n      <td>3992</td>\n      <td>W 169 St &amp; Fort Washington Ave</td>\n      <td>40.842842</td>\n      <td>-73.942125</td>\n      <td>19706</td>\n      <td>Customer</td>\n      <td>1998</td>\n      <td>1</td>\n    </tr>\n    <tr>\n      <th>1</th>\n      <td>7002</td>\n      <td>2020-08-01 00:00:01.5910</td>\n      <td>2020-08-01 01:56:44.0720</td>\n      <td>3144</td>\n      <td>E 81 St &amp; Park Ave</td>\n      <td>40.776777</td>\n      <td>-73.959010</td>\n      <td>3671</td>\n      <td>E 81 St &amp; 2 Ave</td>\n      <td>40.774779</td>\n      <td>-73.954275</td>\n      <td>37191</td>\n      <td>Subscriber</td>\n      <td>1966</td>\n      <td>1</td>\n    </tr>\n    <tr>\n      <th>2</th>\n      <td>155</td>\n      <td>2020-08-01 00:00:03.5810</td>\n      <td>2020-08-01 00:02:38.6340</td>\n      <td>387</td>\n      <td>Centre St &amp; Chambers St</td>\n      <td>40.712733</td>\n      <td>-74.004607</td>\n      <td>387</td>\n      <td>Centre St &amp; Chambers St</td>\n      <td>40.712733</td>\n      <td>-74.004607</td>\n      <td>42561</td>\n      <td>Customer</td>\n      <td>1969</td>\n      <td>0</td>\n    </tr>\n    <tr>\n      <th>3</th>\n      <td>2720</td>\n      <td>2020-08-01 00:00:05.0130</td>\n      <td>2020-08-01 00:45:25.3270</td>\n      <td>3080</td>\n      <td>S 4 St &amp; Rodney St</td>\n      <td>40.709340</td>\n      <td>-73.956080</td>\n      <td>3364</td>\n      <td>Carroll St &amp; 5 Ave</td>\n      <td>40.675162</td>\n      <td>-73.981483</td>\n      <td>41607</td>\n      <td>Subscriber</td>\n      <td>1990</td>\n      <td>1</td>\n    </tr>\n    <tr>\n      <th>4</th>\n      <td>2938</td>\n      <td>2020-08-01 00:00:05.9420</td>\n      <td>2020-08-01 00:49:03.9640</td>\n      <td>3510</td>\n      <td>Adam Clayton Powell Blvd &amp; W 123 St</td>\n      <td>40.807832</td>\n      <td>-73.949373</td>\n      <td>3282</td>\n      <td>5 Ave &amp; E 88 St</td>\n      <td>40.783070</td>\n      <td>-73.959390</td>\n      <td>36366</td>\n      <td>Customer</td>\n      <td>1969</td>\n      <td>0</td>\n    </tr>\n    <tr>\n      <th>...</th>\n      <td>...</td>\n      <td>...</td>\n      <td>...</td>\n      <td>...</td>\n      <td>...</td>\n      <td>...</td>\n      <td>...</td>\n      <td>...</td>\n      <td>...</td>\n      <td>...</td>\n      <td>...</td>\n      <td>...</td>\n      <td>...</td>\n      <td>...</td>\n      <td>...</td>\n    </tr>\n    <tr>\n      <th>2329509</th>\n      <td>1562</td>\n      <td>2020-08-31 23:59:29.7690</td>\n      <td>2020-09-01 00:25:31.9660</td>\n      <td>298</td>\n      <td>3 Ave &amp; Schermerhorn St</td>\n      <td>40.686832</td>\n      <td>-73.979677</td>\n      <td>3423</td>\n      <td>West Drive &amp; Prospect Park West</td>\n      <td>40.661063</td>\n      <td>-73.979453</td>\n      <td>37282</td>\n      <td>Customer</td>\n      <td>2001</td>\n      <td>1</td>\n    </tr>\n    <tr>\n      <th>2329510</th>\n      <td>1023</td>\n      <td>2020-08-31 23:59:32.1320</td>\n      <td>2020-09-01 00:16:35.3710</td>\n      <td>3508</td>\n      <td>St Nicholas Ave &amp; Manhattan Ave</td>\n      <td>40.809725</td>\n      <td>-73.953149</td>\n      <td>3323</td>\n      <td>W 106 St &amp; Central Park West</td>\n      <td>40.798186</td>\n      <td>-73.960591</td>\n      <td>35088</td>\n      <td>Customer</td>\n      <td>1993</td>\n      <td>2</td>\n    </tr>\n    <tr>\n      <th>2329511</th>\n      <td>600</td>\n      <td>2020-08-31 23:59:33.0920</td>\n      <td>2020-09-01 00:09:33.4670</td>\n      <td>320</td>\n      <td>Leonard St &amp; Church St</td>\n      <td>40.717571</td>\n      <td>-74.005549</td>\n      <td>380</td>\n      <td>W 4 St &amp; 7 Ave S</td>\n      <td>40.734011</td>\n      <td>-74.002939</td>\n      <td>36353</td>\n      <td>Subscriber</td>\n      <td>2002</td>\n      <td>1</td>\n    </tr>\n    <tr>\n      <th>2329512</th>\n      <td>737</td>\n      <td>2020-08-31 23:59:35.7900</td>\n      <td>2020-09-01 00:11:53.2310</td>\n      <td>3318</td>\n      <td>2 Ave &amp; E 96 St</td>\n      <td>40.783964</td>\n      <td>-73.947167</td>\n      <td>3156</td>\n      <td>E 72 St &amp; York Ave</td>\n      <td>40.766638</td>\n      <td>-73.953483</td>\n      <td>44935</td>\n      <td>Subscriber</td>\n      <td>1981</td>\n      <td>2</td>\n    </tr>\n    <tr>\n      <th>2329513</th>\n      <td>373</td>\n      <td>2020-08-31 23:59:45.3470</td>\n      <td>2020-09-01 00:05:59.1630</td>\n      <td>3423</td>\n      <td>West Drive &amp; Prospect Park West</td>\n      <td>40.661063</td>\n      <td>-73.979453</td>\n      <td>3398</td>\n      <td>Smith St &amp; 9 St</td>\n      <td>40.674696</td>\n      <td>-73.997858</td>\n      <td>38938</td>\n      <td>Customer</td>\n      <td>1969</td>\n      <td>0</td>\n    </tr>\n  </tbody>\n</table>\n<p>2329514 rows × 15 columns</p>\n</div>"
     },
     "metadata": {},
     "execution_count": 23
    }
   ],
   "source": [
    "nyc_aug2 = \"NYC/aug_2020.csv\"\n",
    "nyc_aug2_df = pd.read_csv(nyc_aug2)\n",
    "nyc_aug2_df"
   ]
  },
  {
   "cell_type": "code",
   "execution_count": 24,
   "metadata": {},
   "outputs": [
    {
     "output_type": "stream",
     "name": "stdout",
     "text": [
      "<class 'pandas.core.frame.DataFrame'>\nRangeIndex: 2329514 entries, 0 to 2329513\nData columns (total 15 columns):\n #   Column                   Dtype  \n---  ------                   -----  \n 0   tripduration             int64  \n 1   starttime                object \n 2   stoptime                 object \n 3   start station id         int64  \n 4   start station name       object \n 5   start station latitude   float64\n 6   start station longitude  float64\n 7   end station id           int64  \n 8   end station name         object \n 9   end station latitude     float64\n 10  end station longitude    float64\n 11  bikeid                   int64  \n 12  usertype                 object \n 13  birth year               int64  \n 14  gender                   int64  \ndtypes: float64(4), int64(6), object(5)\nmemory usage: 266.6+ MB\n"
     ]
    }
   ],
   "source": [
    "nyc_aug2_df.info()"
   ]
  },
  {
   "cell_type": "code",
   "execution_count": 25,
   "metadata": {},
   "outputs": [
    {
     "output_type": "execute_result",
     "data": {
      "text/plain": [
       "         tripduration                 starttime                  stoptime  \\\n",
       "0                 393  2019-08-01 00:00:01.4680  2019-08-01 00:06:35.3780   \n",
       "1                 627  2019-08-01 00:00:01.9290  2019-08-01 00:10:29.7840   \n",
       "2                1132  2019-08-01 00:00:04.0480  2019-08-01 00:18:56.1650   \n",
       "3                1780  2019-08-01 00:00:04.1630  2019-08-01 00:29:44.7940   \n",
       "4                1517  2019-08-01 00:00:05.4580  2019-08-01 00:25:23.4550   \n",
       "...               ...                       ...                       ...   \n",
       "2329509          1562  2020-08-31 23:59:29.7690  2020-09-01 00:25:31.9660   \n",
       "2329510          1023  2020-08-31 23:59:32.1320  2020-09-01 00:16:35.3710   \n",
       "2329511           600  2020-08-31 23:59:33.0920  2020-09-01 00:09:33.4670   \n",
       "2329512           737  2020-08-31 23:59:35.7900  2020-09-01 00:11:53.2310   \n",
       "2329513           373  2020-08-31 23:59:45.3470  2020-09-01 00:05:59.1630   \n",
       "\n",
       "         start station id               start station name  \\\n",
       "0                   531.0           Forsyth St & Broome St   \n",
       "1                   274.0   Lafayette Ave & Fort Greene Pl   \n",
       "2                  2000.0         Front St & Washington St   \n",
       "3                   479.0                  9 Ave & W 45 St   \n",
       "4                  3312.0                  1 Ave & E 94 St   \n",
       "...                   ...                              ...   \n",
       "2329509             298.0          3 Ave & Schermerhorn St   \n",
       "2329510            3508.0  St Nicholas Ave & Manhattan Ave   \n",
       "2329511             320.0           Leonard St & Church St   \n",
       "2329512            3318.0                  2 Ave & E 96 St   \n",
       "2329513            3423.0  West Drive & Prospect Park West   \n",
       "\n",
       "         start station latitude  start station longitude  end station id  \\\n",
       "0                     40.718939               -73.992663           408.0   \n",
       "1                     40.686919               -73.976682          3409.0   \n",
       "2                     40.702551               -73.989402          3388.0   \n",
       "3                     40.760193               -73.991255           473.0   \n",
       "4                     40.781721               -73.945940          3312.0   \n",
       "...                         ...                      ...             ...   \n",
       "2329509               40.686832               -73.979677          3423.0   \n",
       "2329510               40.809725               -73.953149          3323.0   \n",
       "2329511               40.717571               -74.005549           380.0   \n",
       "2329512               40.783964               -73.947167          3156.0   \n",
       "2329513               40.661063               -73.979453          3398.0   \n",
       "\n",
       "                        end station name  end station latitude  \\\n",
       "0                  Market St & Cherry St             40.710762   \n",
       "1                   Bergen St & Smith St             40.686744   \n",
       "2                President St & Henry St             40.682800   \n",
       "3             Rivington St & Chrystie St             40.721101   \n",
       "4                        1 Ave & E 94 St             40.781721   \n",
       "...                                  ...                   ...   \n",
       "2329509  West Drive & Prospect Park West             40.661063   \n",
       "2329510     W 106 St & Central Park West             40.798186   \n",
       "2329511                 W 4 St & 7 Ave S             40.734011   \n",
       "2329512               E 72 St & York Ave             40.766638   \n",
       "2329513                  Smith St & 9 St             40.674696   \n",
       "\n",
       "         end station longitude  bikeid    usertype  birth year  gender  \n",
       "0                   -73.994004   35305  Subscriber        1996       2  \n",
       "1                   -73.990632   38822  Subscriber        1998       2  \n",
       "2                   -73.999904   18373  Subscriber        1988       1  \n",
       "3                   -73.991925   25002  Subscriber        1988       1  \n",
       "4                   -73.945940   31198  Subscriber        1965       2  \n",
       "...                        ...     ...         ...         ...     ...  \n",
       "2329509             -73.979453   37282    Customer        2001       1  \n",
       "2329510             -73.960591   35088    Customer        1993       2  \n",
       "2329511             -74.002939   36353  Subscriber        2002       1  \n",
       "2329512             -73.953483   44935  Subscriber        1981       2  \n",
       "2329513             -73.997858   38938    Customer        1969       0  \n",
       "\n",
       "[4673738 rows x 15 columns]"
      ],
      "text/html": "<div>\n<style scoped>\n    .dataframe tbody tr th:only-of-type {\n        vertical-align: middle;\n    }\n\n    .dataframe tbody tr th {\n        vertical-align: top;\n    }\n\n    .dataframe thead th {\n        text-align: right;\n    }\n</style>\n<table border=\"1\" class=\"dataframe\">\n  <thead>\n    <tr style=\"text-align: right;\">\n      <th></th>\n      <th>tripduration</th>\n      <th>starttime</th>\n      <th>stoptime</th>\n      <th>start station id</th>\n      <th>start station name</th>\n      <th>start station latitude</th>\n      <th>start station longitude</th>\n      <th>end station id</th>\n      <th>end station name</th>\n      <th>end station latitude</th>\n      <th>end station longitude</th>\n      <th>bikeid</th>\n      <th>usertype</th>\n      <th>birth year</th>\n      <th>gender</th>\n    </tr>\n  </thead>\n  <tbody>\n    <tr>\n      <th>0</th>\n      <td>393</td>\n      <td>2019-08-01 00:00:01.4680</td>\n      <td>2019-08-01 00:06:35.3780</td>\n      <td>531.0</td>\n      <td>Forsyth St &amp; Broome St</td>\n      <td>40.718939</td>\n      <td>-73.992663</td>\n      <td>408.0</td>\n      <td>Market St &amp; Cherry St</td>\n      <td>40.710762</td>\n      <td>-73.994004</td>\n      <td>35305</td>\n      <td>Subscriber</td>\n      <td>1996</td>\n      <td>2</td>\n    </tr>\n    <tr>\n      <th>1</th>\n      <td>627</td>\n      <td>2019-08-01 00:00:01.9290</td>\n      <td>2019-08-01 00:10:29.7840</td>\n      <td>274.0</td>\n      <td>Lafayette Ave &amp; Fort Greene Pl</td>\n      <td>40.686919</td>\n      <td>-73.976682</td>\n      <td>3409.0</td>\n      <td>Bergen St &amp; Smith St</td>\n      <td>40.686744</td>\n      <td>-73.990632</td>\n      <td>38822</td>\n      <td>Subscriber</td>\n      <td>1998</td>\n      <td>2</td>\n    </tr>\n    <tr>\n      <th>2</th>\n      <td>1132</td>\n      <td>2019-08-01 00:00:04.0480</td>\n      <td>2019-08-01 00:18:56.1650</td>\n      <td>2000.0</td>\n      <td>Front St &amp; Washington St</td>\n      <td>40.702551</td>\n      <td>-73.989402</td>\n      <td>3388.0</td>\n      <td>President St &amp; Henry St</td>\n      <td>40.682800</td>\n      <td>-73.999904</td>\n      <td>18373</td>\n      <td>Subscriber</td>\n      <td>1988</td>\n      <td>1</td>\n    </tr>\n    <tr>\n      <th>3</th>\n      <td>1780</td>\n      <td>2019-08-01 00:00:04.1630</td>\n      <td>2019-08-01 00:29:44.7940</td>\n      <td>479.0</td>\n      <td>9 Ave &amp; W 45 St</td>\n      <td>40.760193</td>\n      <td>-73.991255</td>\n      <td>473.0</td>\n      <td>Rivington St &amp; Chrystie St</td>\n      <td>40.721101</td>\n      <td>-73.991925</td>\n      <td>25002</td>\n      <td>Subscriber</td>\n      <td>1988</td>\n      <td>1</td>\n    </tr>\n    <tr>\n      <th>4</th>\n      <td>1517</td>\n      <td>2019-08-01 00:00:05.4580</td>\n      <td>2019-08-01 00:25:23.4550</td>\n      <td>3312.0</td>\n      <td>1 Ave &amp; E 94 St</td>\n      <td>40.781721</td>\n      <td>-73.945940</td>\n      <td>3312.0</td>\n      <td>1 Ave &amp; E 94 St</td>\n      <td>40.781721</td>\n      <td>-73.945940</td>\n      <td>31198</td>\n      <td>Subscriber</td>\n      <td>1965</td>\n      <td>2</td>\n    </tr>\n    <tr>\n      <th>...</th>\n      <td>...</td>\n      <td>...</td>\n      <td>...</td>\n      <td>...</td>\n      <td>...</td>\n      <td>...</td>\n      <td>...</td>\n      <td>...</td>\n      <td>...</td>\n      <td>...</td>\n      <td>...</td>\n      <td>...</td>\n      <td>...</td>\n      <td>...</td>\n      <td>...</td>\n    </tr>\n    <tr>\n      <th>2329509</th>\n      <td>1562</td>\n      <td>2020-08-31 23:59:29.7690</td>\n      <td>2020-09-01 00:25:31.9660</td>\n      <td>298.0</td>\n      <td>3 Ave &amp; Schermerhorn St</td>\n      <td>40.686832</td>\n      <td>-73.979677</td>\n      <td>3423.0</td>\n      <td>West Drive &amp; Prospect Park West</td>\n      <td>40.661063</td>\n      <td>-73.979453</td>\n      <td>37282</td>\n      <td>Customer</td>\n      <td>2001</td>\n      <td>1</td>\n    </tr>\n    <tr>\n      <th>2329510</th>\n      <td>1023</td>\n      <td>2020-08-31 23:59:32.1320</td>\n      <td>2020-09-01 00:16:35.3710</td>\n      <td>3508.0</td>\n      <td>St Nicholas Ave &amp; Manhattan Ave</td>\n      <td>40.809725</td>\n      <td>-73.953149</td>\n      <td>3323.0</td>\n      <td>W 106 St &amp; Central Park West</td>\n      <td>40.798186</td>\n      <td>-73.960591</td>\n      <td>35088</td>\n      <td>Customer</td>\n      <td>1993</td>\n      <td>2</td>\n    </tr>\n    <tr>\n      <th>2329511</th>\n      <td>600</td>\n      <td>2020-08-31 23:59:33.0920</td>\n      <td>2020-09-01 00:09:33.4670</td>\n      <td>320.0</td>\n      <td>Leonard St &amp; Church St</td>\n      <td>40.717571</td>\n      <td>-74.005549</td>\n      <td>380.0</td>\n      <td>W 4 St &amp; 7 Ave S</td>\n      <td>40.734011</td>\n      <td>-74.002939</td>\n      <td>36353</td>\n      <td>Subscriber</td>\n      <td>2002</td>\n      <td>1</td>\n    </tr>\n    <tr>\n      <th>2329512</th>\n      <td>737</td>\n      <td>2020-08-31 23:59:35.7900</td>\n      <td>2020-09-01 00:11:53.2310</td>\n      <td>3318.0</td>\n      <td>2 Ave &amp; E 96 St</td>\n      <td>40.783964</td>\n      <td>-73.947167</td>\n      <td>3156.0</td>\n      <td>E 72 St &amp; York Ave</td>\n      <td>40.766638</td>\n      <td>-73.953483</td>\n      <td>44935</td>\n      <td>Subscriber</td>\n      <td>1981</td>\n      <td>2</td>\n    </tr>\n    <tr>\n      <th>2329513</th>\n      <td>373</td>\n      <td>2020-08-31 23:59:45.3470</td>\n      <td>2020-09-01 00:05:59.1630</td>\n      <td>3423.0</td>\n      <td>West Drive &amp; Prospect Park West</td>\n      <td>40.661063</td>\n      <td>-73.979453</td>\n      <td>3398.0</td>\n      <td>Smith St &amp; 9 St</td>\n      <td>40.674696</td>\n      <td>-73.997858</td>\n      <td>38938</td>\n      <td>Customer</td>\n      <td>1969</td>\n      <td>0</td>\n    </tr>\n  </tbody>\n</table>\n<p>4673738 rows × 15 columns</p>\n</div>"
     },
     "metadata": {},
     "execution_count": 25
    }
   ],
   "source": [
    "nyc_aug_df = pd.concat([nyc_aug1_df, nyc_aug2_df],0)\n",
    "nyc_aug_df"
   ]
  },
  {
   "cell_type": "code",
   "execution_count": 26,
   "metadata": {},
   "outputs": [
    {
     "output_type": "stream",
     "name": "stdout",
     "text": [
      "<class 'pandas.core.frame.DataFrame'>\nInt64Index: 4673738 entries, 0 to 2329513\nData columns (total 15 columns):\n #   Column                   Dtype  \n---  ------                   -----  \n 0   tripduration             int64  \n 1   starttime                object \n 2   stoptime                 object \n 3   start station id         float64\n 4   start station name       object \n 5   start station latitude   float64\n 6   start station longitude  float64\n 7   end station id           float64\n 8   end station name         object \n 9   end station latitude     float64\n 10  end station longitude    float64\n 11  bikeid                   int64  \n 12  usertype                 object \n 13  birth year               int64  \n 14  gender                   int64  \ndtypes: float64(6), int64(4), object(5)\nmemory usage: 570.5+ MB\n"
     ]
    }
   ],
   "source": [
    "nyc_aug_df.info()"
   ]
  },
  {
   "cell_type": "code",
   "execution_count": null,
   "metadata": {},
   "outputs": [],
   "source": []
  }
 ]
}